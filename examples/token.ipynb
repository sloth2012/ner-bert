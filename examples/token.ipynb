{
 "cells": [
  {
   "cell_type": "code",
   "execution_count": 49,
   "metadata": {},
   "outputs": [
    {
     "name": "stdout",
     "output_type": "stream",
     "text": [
      "Better speed can be achieved with apex installed from https://www.github.com/nvidia/apex.\n"
     ]
    }
   ],
   "source": [
    "%reload_ext autoreload\n",
    "%autoreload 2\n",
    "%matplotlib inline\n",
    "\n",
    "import pandas as pd\n",
    "import warnings\n",
    "import os\n",
    "import sys\n",
    "import re\n",
    "\n",
    "sys.path.append(\"../\")\n",
    "warnings.filterwarnings(\"ignore\")"
   ]
  },
  {
   "cell_type": "code",
   "execution_count": 2,
   "metadata": {},
   "outputs": [],
   "source": [
    "import os\n",
    "\n",
    "\n",
    "root_dir = os.path.abspath('../bailian_nlp/')\n",
    "\n",
    "data_path = os.path.join(root_dir, 'datadrive/bailian/pos')\n",
    "if not os.path.exists(data_path):\n",
    "    os.makedirs(data_path, exist_ok=True)\n",
    "\n",
    "train_path = os.path.join(data_path, 'train.csv')\n",
    "valid_path = os.path.join(data_path, 'valid.csv')\n",
    "\n",
    "model_dir = os.path.join(root_dir, 'datadrive/models/chinese_L-12_H-768_A-12/')\n",
    "init_checkpoint_pt = os.path.join(model_dir, 'bert_model.bin')\n",
    "bert_config_file = os.path.join(model_dir, 'bert_config.json')\n",
    "vocab_file = os.path.join(model_dir, 'vocab.txt')\n",
    "model_pt = os.path.join(model_dir, 'pos.bin')\n",
    "config_file = os.path.join(model_dir, 'pos.json')\n",
    "\n"
   ]
  },
  {
   "cell_type": "code",
   "execution_count": 44,
   "metadata": {},
   "outputs": [
    {
     "data": {
      "text/plain": [
       "['这',\n",
       " '##是',\n",
       " '##个',\n",
       " '##好',\n",
       " '##人',\n",
       " '。',\n",
       " 'are',\n",
       " 'you',\n",
       " 'ok',\n",
       " 'ma',\n",
       " '##la',\n",
       " '##ga']"
      ]
     },
     "execution_count": 44,
     "metadata": {},
     "output_type": "execute_result"
    }
   ],
   "source": [
    "from bailian_nlp.modules.data.local_tokenization import FullTokenizer, convert_to_unicode\n",
    "\n",
    "tokenizer = FullTokenizer(vocab_file)\n",
    "\n",
    "text = '这是个好人。are you ok Malaga'\n",
    "\n",
    "tokenizer.tokenize(text)"
   ]
  },
  {
   "cell_type": "code",
   "execution_count": 61,
   "metadata": {},
   "outputs": [
    {
     "name": "stdout",
     "output_type": "stream",
     "text": [
      "20 ['这', '是', '个', '好', '人', '。', 'are', 'you', 'ok', 'unk', 'unk', 'unk', 'unk']\n",
      "0 这\n",
      "1 是\n",
      "2 个\n",
      "3 好\n",
      "4 人\n",
      "5 。\n",
      "6 are\n",
      "7  \n",
      "8 you\n",
      "9  \n",
      "10 ok\n",
      "11 “\n",
      "12 ”\n",
      "13 “\n",
      "14 ”\n"
     ]
    }
   ],
   "source": [
    "from bailian_nlp.modules.data.tokenization import BailianTokenizer\n",
    "tokenizer = BailianTokenizer(vocab_file)\n",
    "text = '这是个好人。are you ok“”“”'\n",
    "\n",
    "tokens, marker = tokenizer.tokenize(text)\n",
    "print(len(text), tokens)\n",
    "for i,(_, (st, ed)) in enumerate(marker):\n",
    "    print(i, text[st:ed])\n"
   ]
  },
  {
   "cell_type": "code",
   "execution_count": 59,
   "metadata": {},
   "outputs": [
    {
     "name": "stdout",
     "output_type": "stream",
     "text": [
      "0 这\n",
      "1 是\n",
      "2 个\n",
      "3 好\n",
      "4 人\n",
      "5 。\n",
      "6 are\n",
      "7  \n",
      "8 you\n",
      "9  \n",
      "10 ok\n",
      "11  \n",
      "12 u\n",
      "13 nk\n"
     ]
    }
   ],
   "source": [
    "for i,(_, (st, ed)) in enumerate(marker):\n",
    "    print(i, text[st:ed])\n"
   ]
  },
  {
   "cell_type": "code",
   "execution_count": 4,
   "metadata": {
    "slideshow": {
     "slide_type": "-"
    }
   },
   "outputs": [],
   "source": [
    "# def build_data():\n",
    "    \n",
    "#     import re\n",
    "    \n",
    "#     p = re.compile(r'(.+?)/(?:([a-z]{1,2})(?:$| ))')\n",
    "    \n",
    "#     raw_data_dir = os.path.dirname(data_path)\n",
    "#     seg_file = os.path.join(raw_data_dir, 'final_baidu-23w.txt')\n",
    "#     fake_file = os.path.join(raw_data_dir, 'fake.txt')\n",
    "#     special_file = os.path.join(raw_data_dir, 'special.txt')\n",
    "#     dict_file = os.path.join(raw_data_dir, 'single.txt')\n",
    "    \n",
    "#     delimiter='△△△'\n",
    "    \n",
    "#     replace_chars = [\n",
    "#         '\\x97',\n",
    "#         '\\uf076',\n",
    "#         \"\\ue405\",\n",
    "#         \"\\ue105\",\n",
    "#         \"\\ue415\",\n",
    "#         '\\x07',\n",
    "#         '\\x7f',\n",
    "#         '\\u3000',\n",
    "#         '\\xa0',\n",
    "#         ' '\n",
    "#     ]\n",
    "#     with open(seg_file) as fin1, \\\n",
    "#           open(fake_file) as fin2, \\\n",
    "#           open(special_file) as fin3, \\\n",
    "#           open(dict_file) as fin4, \\\n",
    "#           open(train_path, 'w') as train_f, \\\n",
    "#           open(valid_path, 'w') as valid_f:\n",
    "        \n",
    "#         train_f.write(f'0{delimiter}1\\n')\n",
    "#         valid_f.write(f'0{delimiter}1\\n')\n",
    "        \n",
    "#         fins = [fin1, fin2, fin3, fin4]\n",
    "#         for k, fin in enumerate(fins):\n",
    "#             for line in fin:\n",
    "#                 line = line.strip()\n",
    "#                 if not line:\n",
    "#                     continue\n",
    "\n",
    "#                 import random\n",
    "#                 score = random.random()\n",
    "\n",
    "#                 if k < 2:\n",
    "#                     fout = train_f if score > 0.006 else valid_f\n",
    "#                 else:\n",
    "#                     fout = train_f\n",
    "                \n",
    "#                 words = []\n",
    "#                 flags = []\n",
    "#                 for word, flag in p.findall(line):\n",
    "#                     from bailian_nlp.modules.data.tokenization import _is_control\n",
    "                    \n",
    "#                     char_list = [\n",
    "#                         c for c in list(word)\n",
    "#                         if not (c in replace_chars or c.isspace() or _is_control(c))\n",
    "#                     ]\n",
    "#                     char_size = len(char_list)\n",
    "#                     if char_size == 1:\n",
    "#                         # 一些错误的单个字符实体剔除掉\n",
    "#                         if flag in ['nt', 'ti', 'nr', 'ns', 'nz']:\n",
    "#                             flag = 'xx'\n",
    "#                         # 单个\n",
    "#                         tag_list = [f'S_{flag}']\n",
    "#                     elif char_size == 0:\n",
    "#                         continue\n",
    "#                     else:\n",
    "#                         tag_list = [f'B_{flag}'] + [f'I_{flag}']  * (len(char_list) - 2) + [f'E_{flag}']\n",
    "\n",
    "#                     if char_size != len(tag_list) or char_size == 0:\n",
    "#                         print(line)\n",
    "#                         print(word, flag)\n",
    "#                         print(char_list, tag_list)\n",
    "                        \n",
    "\n",
    "#                     words.extend(char_list)\n",
    "#                     flags.extend(tag_list)\n",
    "\n",
    "#                 assert len(words) == len(flags)\n",
    "\n",
    "#                 fout.write(delimiter.join([\n",
    "#                     ' '.join(flags),\n",
    "#                     ' '.join(words)\n",
    "#                 ]))\n",
    "#                 fout.write('\\n')\n",
    "            \n",
    "            \n",
    "            \n",
    "# build_data()\n",
    "    "
   ]
  },
  {
   "cell_type": "code",
   "execution_count": null,
   "metadata": {},
   "outputs": [
    {
     "data": {
      "application/vnd.jupyter.widget-view+json": {
       "model_id": "deceef3066c043ab9999c6ba1f4753a8",
       "version_major": 2,
       "version_minor": 0
      },
      "text/plain": [
       "HBox(children=(IntProgress(value=0, description='bert data', max=793726, style=ProgressStyle(description_width…"
      ]
     },
     "metadata": {},
     "output_type": "display_data"
    },
    {
     "name": "stderr",
     "output_type": "stream",
     "text": [
      "2019-04-18 11:29:37,496 DEBUG: get_data cost 324.762294s\n"
     ]
    },
    {
     "name": "stdout",
     "output_type": "stream",
     "text": [
      "\n"
     ]
    },
    {
     "data": {
      "application/vnd.jupyter.widget-view+json": {
       "model_id": "517de631963f4172a23d27532d3f91d0",
       "version_major": 2,
       "version_minor": 0
      },
      "text/plain": [
       "HBox(children=(IntProgress(value=0, description='bert data', max=2617, style=ProgressStyle(description_width='…"
      ]
     },
     "metadata": {},
     "output_type": "display_data"
    },
    {
     "name": "stderr",
     "output_type": "stream",
     "text": [
      "2019-04-18 11:29:39,012 DEBUG: get_data cost 1.514747s\n"
     ]
    },
    {
     "name": "stdout",
     "output_type": "stream",
     "text": [
      "\n"
     ]
    },
    {
     "name": "stderr",
     "output_type": "stream",
     "text": [
      "2019-04-18 11:29:39,856 INFO: Resuming train... Current epoch 0.\n"
     ]
    },
    {
     "data": {
      "application/vnd.jupyter.widget-view+json": {
       "model_id": "93ef555349af4f6cbf31c1f44e480c95",
       "version_major": 2,
       "version_minor": 0
      },
      "text/plain": [
       "HBox(children=(IntProgress(value=0, max=6201), HTML(value='')))"
      ]
     },
     "metadata": {},
     "output_type": "display_data"
    },
    {
     "name": "stderr",
     "output_type": "stream",
     "text": [
      "2019-04-18 12:35:36,446 INFO: \n",
      "epoch 1, average train epoch loss=39.17\n",
      "\n"
     ]
    },
    {
     "name": "stdout",
     "output_type": "stream",
     "text": [
      "\n"
     ]
    },
    {
     "data": {
      "application/vnd.jupyter.widget-view+json": {
       "model_id": "3c806a39f95e464aaa7b946c487ece11",
       "version_major": 2,
       "version_minor": 0
      },
      "text/plain": [
       "HBox(children=(IntProgress(value=0, max=21), HTML(value='')))"
      ]
     },
     "metadata": {},
     "output_type": "display_data"
    },
    {
     "name": "stdout",
     "output_type": "stream",
     "text": [
      "\n"
     ]
    },
    {
     "name": "stderr",
     "output_type": "stream",
     "text": [
      "2019-04-18 12:35:50,216 INFO: on epoch 0 by max_f1: 0.905\n",
      "2019-04-18 12:35:50,217 INFO: Saving new best model...\n"
     ]
    },
    {
     "name": "stdout",
     "output_type": "stream",
     "text": [
      "              precision    recall  f1-score   support\n",
      "\n",
      "       <pad>      0.000     0.000     0.000         0\n",
      "       [CLS]      1.000     1.000     1.000      2617\n",
      "         B_t      0.955     0.948     0.952      1252\n",
      "         E_t      0.953     0.940     0.946      1238\n",
      "         S_w      0.998     0.995     0.997      9860\n",
      "        B_nt      0.886     0.928     0.906      4923\n",
      "        I_nt      0.919     0.963     0.941     21804\n",
      "        E_nt      0.874     0.915     0.894      4845\n",
      "        B_ti      0.959     0.956     0.958      3104\n",
      "        I_ti      0.933     0.982     0.957      4430\n",
      "        E_ti      0.976     0.975     0.976      3078\n",
      "        B_nr      0.947     0.970     0.958      3842\n",
      "        I_nr      0.942     0.945     0.943      2967\n",
      "        E_nr      0.939     0.961     0.950      3818\n",
      "         B_v      0.921     0.891     0.906      5713\n",
      "         E_v      0.924     0.894     0.909      5679\n",
      "         B_p      0.945     0.932     0.939       311\n",
      "         E_p      0.945     0.935     0.940       310\n",
      "        B_nz      0.615     0.505     0.555      1293\n",
      "        I_nz      0.531     0.572     0.551      2334\n",
      "        E_nz      0.572     0.470     0.516      1279\n",
      "         B_n      0.897     0.892     0.895      9402\n",
      "         E_n      0.905     0.898     0.902      9334\n",
      "         S_u      0.990     0.990     0.990      3147\n",
      "        B_vn      0.815     0.860     0.836      2770\n",
      "        E_vn      0.821     0.869     0.844      2741\n",
      "         B_a      0.858     0.853     0.856      1166\n",
      "         E_a      0.870     0.867     0.868      1154\n",
      "         S_d      0.922     0.904     0.913       910\n",
      "         B_d      0.914     0.914     0.914       813\n",
      "         E_d      0.922     0.916     0.919       806\n",
      "         I_n      0.748     0.780     0.764      1871\n",
      "         S_r      0.970     0.954     0.962       477\n",
      "         S_p      0.938     0.954     0.946      1706\n",
      "         I_t      0.949     0.984     0.966      2491\n",
      "         B_m      0.946     0.900     0.923      1316\n",
      "         I_m      0.954     0.898     0.925      1341\n",
      "         E_m      0.932     0.897     0.914      1297\n",
      "         S_m      0.907     0.816     0.859       179\n",
      "         S_n      0.723     0.655     0.687       788\n",
      "         B_r      0.956     0.947     0.951       713\n",
      "         E_r      0.960     0.942     0.951       710\n",
      "        B_vd      0.690     0.758     0.723        91\n",
      "        E_vd      0.699     0.791     0.742        91\n",
      "         I_a      0.766     0.620     0.685       179\n",
      "         S_c      0.933     0.943     0.938       880\n",
      "         I_r      0.872     0.773     0.819        44\n",
      "         S_f      0.949     0.949     0.949       488\n",
      "         B_s      0.953     0.852     0.899       189\n",
      "         E_s      0.965     0.873     0.917       189\n",
      "        B_ad      0.901     0.904     0.902       342\n",
      "        E_ad      0.906     0.909     0.907       340\n",
      "         S_a      0.877     0.698     0.777       470\n",
      "         S_v      0.889     0.848     0.868      2055\n",
      "        B_ns      0.899     0.826     0.861      1745\n",
      "        E_ns      0.899     0.824     0.860      1741\n",
      "        I_ns      0.915     0.857     0.885      2101\n",
      "         S_q      0.885     0.568     0.692        95\n",
      "         S_t      1.000     0.667     0.800         6\n",
      "        S_xc      0.854     0.707     0.773        99\n",
      "         B_c      0.970     0.934     0.952       274\n",
      "         E_c      0.970     0.938     0.953       272\n",
      "         B_f      0.817     0.943     0.875       175\n",
      "         E_f      0.816     0.937     0.872       175\n",
      "         I_s      0.917     0.688     0.786        16\n",
      "         I_v      0.675     0.701     0.688       402\n",
      "        S_ad      0.952     0.625     0.755        32\n",
      "        B_an      0.686     0.632     0.658        76\n",
      "        E_an      0.686     0.640     0.662        75\n",
      "         I_f      1.000     1.000     1.000         1\n",
      "         I_d      0.967     0.784     0.866        74\n",
      "        S_xx      0.818     0.257     0.391        35\n",
      "        B_nw      0.820     0.651     0.726        63\n",
      "        I_nw      0.770     0.527     0.626       222\n",
      "        E_nw      0.811     0.705     0.754        61\n",
      "        S_an      0.400     0.250     0.308         8\n",
      "        B_xx      0.000     0.000     0.000        43\n",
      "        I_xx      1.000     0.049     0.093       103\n",
      "        E_xx      0.000     0.000     0.000        43\n",
      "        I_vn      0.779     0.626     0.694       163\n",
      "        S_vn      0.760     0.388     0.514        49\n",
      "         B_w      0.882     0.789     0.833        19\n",
      "         I_w      0.750     0.600     0.667         5\n",
      "         E_w      0.750     0.632     0.686        19\n",
      "        B_xc      0.000     0.000     0.000        44\n",
      "        I_xc      0.000     0.000     0.000        98\n",
      "        E_xc      0.000     0.000     0.000        41\n",
      "        S_vd      0.429     0.429     0.429         7\n",
      "         I_c      0.944     1.000     0.971        17\n",
      "        I_ad      0.000     0.000     0.000         3\n",
      "         B_q      0.000     0.000     0.000         2\n",
      "         E_q      0.000     0.000     0.000         2\n",
      "        I_vd      1.000     0.167     0.286         6\n",
      "         B_u      1.000     0.917     0.957        12\n",
      "         E_u      1.000     0.917     0.957        12\n",
      "        I_an      0.000     0.000     0.000         4\n",
      "         I_q      0.000     0.000     0.000         0\n",
      "        S_nw      0.000     0.000     0.000         0\n",
      "         I_p      0.000     0.000     0.000         1\n",
      "         I_u      0.000     0.000     0.000         0\n",
      "         S_s      0.000     0.000     0.000         0\n",
      "         B_l      0.000     0.000     0.000         0\n",
      "         I_l      0.000     0.000     0.000         0\n",
      "         E_l      0.000     0.000     0.000         0\n",
      "         B_i      0.000     0.000     0.000         0\n",
      "         I_i      0.000     0.000     0.000         0\n",
      "         E_i      0.000     0.000     0.000         0\n",
      "         B_j      0.000     0.000     0.000         0\n",
      "         I_j      0.000     0.000     0.000         0\n",
      "         E_j      0.000     0.000     0.000         0\n",
      "         S_j      0.000     0.000     0.000         0\n",
      "\n",
      "   micro avg      0.907     0.907     0.907    143628\n",
      "   macro avg      0.674     0.617     0.635    143628\n",
      "weighted avg      0.905     0.907     0.905    143628\n",
      "\n"
     ]
    },
    {
     "data": {
      "application/vnd.jupyter.widget-view+json": {
       "model_id": "90f640aba1d346989ccbda661f8ab073",
       "version_major": 2,
       "version_minor": 0
      },
      "text/plain": [
       "HBox(children=(IntProgress(value=0, max=6201), HTML(value='')))"
      ]
     },
     "metadata": {},
     "output_type": "display_data"
    },
    {
     "name": "stderr",
     "output_type": "stream",
     "text": [
      "2019-04-18 13:41:20,632 INFO: \n",
      "epoch 2, average train epoch loss=3.6742\n",
      "\n"
     ]
    },
    {
     "name": "stdout",
     "output_type": "stream",
     "text": [
      "\n"
     ]
    },
    {
     "data": {
      "application/vnd.jupyter.widget-view+json": {
       "model_id": "7f6a53a7561a4599ae417cb90e6babbf",
       "version_major": 2,
       "version_minor": 0
      },
      "text/plain": [
       "HBox(children=(IntProgress(value=0, max=21), HTML(value='')))"
      ]
     },
     "metadata": {},
     "output_type": "display_data"
    },
    {
     "name": "stdout",
     "output_type": "stream",
     "text": [
      "\n"
     ]
    },
    {
     "name": "stderr",
     "output_type": "stream",
     "text": [
      "2019-04-18 13:41:34,087 INFO: on epoch 1 by max_f1: 0.921\n",
      "2019-04-18 13:41:34,088 INFO: Saving new best model...\n"
     ]
    },
    {
     "name": "stdout",
     "output_type": "stream",
     "text": [
      "              precision    recall  f1-score   support\n",
      "\n",
      "       <pad>      0.000     0.000     0.000         0\n",
      "       [CLS]      1.000     1.000     1.000      2617\n",
      "         B_t      0.968     0.966     0.967      1252\n",
      "         E_t      0.963     0.963     0.963      1238\n",
      "         S_w      0.998     0.998     0.998      9860\n",
      "        B_nt      0.917     0.951     0.934      4923\n",
      "        I_nt      0.935     0.976     0.955     21804\n",
      "        E_nt      0.908     0.938     0.922      4845\n",
      "        B_ti      0.969     0.974     0.971      3104\n",
      "        I_ti      0.936     0.992     0.963      4430\n",
      "        E_ti      0.980     0.962     0.971      3078\n",
      "        B_nr      0.946     0.977     0.961      3842\n",
      "        I_nr      0.844     0.977     0.906      2967\n",
      "        E_nr      0.941     0.950     0.945      3818\n",
      "         B_v      0.931     0.911     0.921      5713\n",
      "         E_v      0.934     0.912     0.923      5679\n",
      "         B_p      0.964     0.955     0.960       311\n",
      "         E_p      0.968     0.961     0.964       310\n",
      "        B_nz      0.691     0.582     0.632      1293\n",
      "        I_nz      0.616     0.565     0.589      2334\n",
      "        E_nz      0.660     0.550     0.600      1279\n",
      "         B_n      0.923     0.910     0.917      9402\n",
      "         E_n      0.927     0.910     0.918      9334\n",
      "         S_u      0.993     0.992     0.993      3147\n",
      "        B_vn      0.854     0.871     0.863      2770\n",
      "        E_vn      0.858     0.879     0.868      2741\n",
      "         B_a      0.906     0.858     0.882      1166\n",
      "         E_a      0.916     0.873     0.894      1154\n",
      "         S_d      0.934     0.943     0.938       910\n",
      "         B_d      0.920     0.932     0.926       813\n",
      "         E_d      0.922     0.939     0.931       806\n",
      "         I_n      0.824     0.800     0.812      1871\n",
      "         S_r      0.983     0.966     0.975       477\n",
      "         S_p      0.942     0.957     0.949      1706\n",
      "         I_t      0.968     0.989     0.978      2491\n",
      "         B_m      0.927     0.951     0.939      1316\n",
      "         I_m      0.921     0.963     0.942      1341\n",
      "         E_m      0.911     0.935     0.923      1297\n",
      "         S_m      0.945     0.866     0.904       179\n",
      "         S_n      0.845     0.687     0.758       788\n",
      "         B_r      0.965     0.966     0.966       713\n",
      "         E_r      0.963     0.965     0.964       710\n",
      "        B_vd      0.785     0.802     0.793        91\n",
      "        E_vd      0.785     0.802     0.793        91\n",
      "         I_a      0.810     0.642     0.717       179\n",
      "         S_c      0.965     0.918     0.941       880\n",
      "         I_r      0.841     0.841     0.841        44\n",
      "         S_f      0.967     0.971     0.969       488\n",
      "         B_s      0.962     0.926     0.943       189\n",
      "         E_s      0.962     0.926     0.943       189\n",
      "        B_ad      0.892     0.921     0.906       342\n",
      "        E_ad      0.895     0.926     0.910       340\n",
      "         S_a      0.869     0.789     0.827       470\n",
      "         S_v      0.907     0.868     0.887      2055\n",
      "        B_ns      0.930     0.849     0.888      1745\n",
      "        E_ns      0.930     0.839     0.882      1741\n",
      "        I_ns      0.904     0.885     0.895      2101\n",
      "         S_q      0.917     0.695     0.790        95\n",
      "         S_t      1.000     0.667     0.800         6\n",
      "        S_xc      0.897     0.707     0.791        99\n",
      "         B_c      0.967     0.964     0.965       274\n",
      "         E_c      0.970     0.967     0.969       272\n",
      "         B_f      0.935     0.897     0.915       175\n",
      "         E_f      0.940     0.897     0.918       175\n",
      "         I_s      0.875     0.875     0.875        16\n",
      "         I_v      0.691     0.751     0.720       402\n",
      "        S_ad      0.852     0.719     0.780        32\n",
      "        B_an      0.779     0.697     0.736        76\n",
      "        E_an      0.779     0.707     0.741        75\n",
      "         I_f      1.000     1.000     1.000         1\n",
      "         I_d      0.810     0.865     0.837        74\n",
      "        S_xx      0.812     0.371     0.510        35\n",
      "        B_nw      0.765     0.825     0.794        63\n",
      "        I_nw      0.709     0.712     0.710       222\n",
      "        E_nw      0.785     0.836     0.810        61\n",
      "        S_an      0.800     0.500     0.615         8\n",
      "        B_xx      1.000     0.023     0.045        43\n",
      "        I_xx      1.000     0.155     0.269       103\n",
      "        E_xx      1.000     0.023     0.045        43\n",
      "        I_vn      0.695     0.699     0.697       163\n",
      "        S_vn      0.688     0.449     0.543        49\n",
      "         B_w      0.850     0.895     0.872        19\n",
      "         I_w      1.000     0.800     0.889         5\n",
      "         E_w      0.800     0.842     0.821        19\n",
      "        B_xc      1.000     0.045     0.087        44\n",
      "        I_xc      1.000     0.051     0.097        98\n",
      "        E_xc      1.000     0.049     0.093        41\n",
      "        S_vd      0.500     0.571     0.533         7\n",
      "         I_c      0.944     1.000     0.971        17\n",
      "        I_ad      0.000     0.000     0.000         3\n",
      "         B_q      1.000     1.000     1.000         2\n",
      "         E_q      1.000     1.000     1.000         2\n",
      "        I_vd      0.500     0.167     0.250         6\n",
      "         B_u      1.000     0.417     0.588        12\n",
      "         E_u      1.000     0.417     0.588        12\n",
      "        I_an      0.000     0.000     0.000         4\n",
      "         I_q      0.000     0.000     0.000         0\n",
      "        S_nw      0.000     0.000     0.000         0\n",
      "         I_p      0.000     0.000     0.000         1\n",
      "         I_u      0.000     0.000     0.000         0\n",
      "         S_s      0.000     0.000     0.000         0\n",
      "         B_l      0.000     0.000     0.000         0\n",
      "         I_l      0.000     0.000     0.000         0\n",
      "         E_l      0.000     0.000     0.000         0\n",
      "         B_i      0.000     0.000     0.000         0\n",
      "         I_i      0.000     0.000     0.000         0\n",
      "         E_i      0.000     0.000     0.000         0\n",
      "         B_j      0.000     0.000     0.000         0\n",
      "         I_j      0.000     0.000     0.000         0\n",
      "         E_j      0.000     0.000     0.000         0\n",
      "         S_j      0.000     0.000     0.000         0\n",
      "\n",
      "   micro avg      0.923     0.923     0.923    143628\n",
      "   macro avg      0.748     0.661     0.676    143628\n",
      "weighted avg      0.922     0.923     0.921    143628\n",
      "\n"
     ]
    },
    {
     "data": {
      "application/vnd.jupyter.widget-view+json": {
       "model_id": "24d50290aa5240df9c95f49a60d48e15",
       "version_major": 2,
       "version_minor": 0
      },
      "text/plain": [
       "HBox(children=(IntProgress(value=0, max=6201), HTML(value='')))"
      ]
     },
     "metadata": {},
     "output_type": "display_data"
    },
    {
     "name": "stderr",
     "output_type": "stream",
     "text": [
      "2019-04-18 14:47:08,456 INFO: \n",
      "epoch 3, average train epoch loss=2.8164\n",
      "\n"
     ]
    },
    {
     "name": "stdout",
     "output_type": "stream",
     "text": [
      "\n"
     ]
    },
    {
     "data": {
      "application/vnd.jupyter.widget-view+json": {
       "model_id": "868db9851aa3452993ae58538ef201df",
       "version_major": 2,
       "version_minor": 0
      },
      "text/plain": [
       "HBox(children=(IntProgress(value=0, max=21), HTML(value='')))"
      ]
     },
     "metadata": {},
     "output_type": "display_data"
    },
    {
     "name": "stdout",
     "output_type": "stream",
     "text": [
      "\n"
     ]
    },
    {
     "name": "stderr",
     "output_type": "stream",
     "text": [
      "2019-04-18 14:47:22,013 INFO: on epoch 2 by max_f1: 0.925\n",
      "2019-04-18 14:47:22,013 INFO: Saving new best model...\n"
     ]
    },
    {
     "name": "stdout",
     "output_type": "stream",
     "text": [
      "              precision    recall  f1-score   support\n",
      "\n",
      "       <pad>      0.000     0.000     0.000         0\n",
      "       [CLS]      1.000     1.000     1.000      2617\n",
      "         B_t      0.976     0.966     0.971      1252\n",
      "         E_t      0.973     0.962     0.968      1238\n",
      "         S_w      0.999     0.998     0.998      9860\n",
      "        B_nt      0.934     0.947     0.940      4923\n",
      "        I_nt      0.947     0.968     0.957     21804\n",
      "        E_nt      0.926     0.917     0.922      4845\n",
      "        B_ti      0.974     0.981     0.978      3104\n",
      "        I_ti      0.931     0.998     0.963      4430\n",
      "        E_ti      0.983     0.954     0.968      3078\n",
      "        B_nr      0.950     0.974     0.962      3842\n",
      "        I_nr      0.870     0.953     0.909      2967\n",
      "        E_nr      0.944     0.912     0.928      3818\n",
      "         B_v      0.941     0.917     0.929      5713\n",
      "         E_v      0.945     0.918     0.931      5679\n",
      "         B_p      0.967     0.939     0.953       311\n",
      "         E_p      0.964     0.939     0.951       310\n",
      "        B_nz      0.720     0.620     0.666      1293\n",
      "        I_nz      0.669     0.581     0.622      2334\n",
      "        E_nz      0.687     0.588     0.634      1279\n",
      "         B_n      0.922     0.923     0.923      9402\n",
      "         E_n      0.927     0.922     0.924      9334\n",
      "         S_u      0.995     0.993     0.994      3147\n",
      "        B_vn      0.841     0.899     0.869      2770\n",
      "        E_vn      0.845     0.906     0.874      2741\n",
      "         B_a      0.878     0.897     0.888      1166\n",
      "         E_a      0.885     0.909     0.897      1154\n",
      "         S_d      0.950     0.946     0.948       910\n",
      "         B_d      0.922     0.929     0.925       813\n",
      "         E_d      0.925     0.934     0.930       806\n",
      "         I_n      0.820     0.814     0.817      1871\n",
      "         S_r      0.977     0.977     0.977       477\n",
      "         S_p      0.957     0.955     0.956      1706\n",
      "         I_t      0.964     0.992     0.978      2491\n",
      "         B_m      0.954     0.935     0.944      1316\n",
      "         I_m      0.936     0.951     0.943      1341\n",
      "         E_m      0.938     0.918     0.928      1297\n",
      "         S_m      0.959     0.911     0.934       179\n",
      "         S_n      0.827     0.754     0.789       788\n",
      "         B_r      0.987     0.938     0.962       713\n",
      "         E_r      0.985     0.938     0.961       710\n",
      "        B_vd      0.861     0.747     0.800        91\n",
      "        E_vd      0.861     0.747     0.800        91\n",
      "         I_a      0.757     0.749     0.753       179\n",
      "         S_c      0.952     0.957     0.955       880\n",
      "         I_r      0.923     0.818     0.867        44\n",
      "         S_f      0.969     0.967     0.968       488\n",
      "         B_s      0.947     0.947     0.947       189\n",
      "         E_s      0.947     0.942     0.944       189\n",
      "        B_ad      0.894     0.933     0.913       342\n",
      "        E_ad      0.896     0.938     0.917       340\n",
      "         S_a      0.873     0.804     0.837       470\n",
      "         S_v      0.919     0.890     0.904      2055\n",
      "        B_ns      0.908     0.883     0.895      1745\n",
      "        E_ns      0.905     0.818     0.859      1741\n",
      "        I_ns      0.851     0.918     0.883      2101\n",
      "         S_q      0.877     0.747     0.807        95\n",
      "         S_t      1.000     0.667     0.800         6\n",
      "        S_xc      0.912     0.737     0.816        99\n",
      "         B_c      0.967     0.967     0.967       274\n",
      "         E_c      0.971     0.971     0.971       272\n",
      "         B_f      0.888     0.949     0.917       175\n",
      "         E_f      0.888     0.949     0.917       175\n",
      "         I_s      0.875     0.875     0.875        16\n",
      "         I_v      0.687     0.744     0.714       402\n",
      "        S_ad      0.889     0.750     0.814        32\n",
      "        B_an      0.750     0.711     0.730        76\n",
      "        E_an      0.750     0.720     0.735        75\n",
      "         I_f      0.500     1.000     0.667         1\n",
      "         I_d      0.802     0.878     0.839        74\n",
      "        S_xx      0.826     0.543     0.655        35\n",
      "        B_nw      0.790     0.778     0.784        63\n",
      "        I_nw      0.715     0.622     0.665       222\n",
      "        E_nw      0.767     0.754     0.760        61\n",
      "        S_an      0.444     0.500     0.471         8\n",
      "        B_xx      0.000     0.000     0.000        43\n",
      "        I_xx      0.000     0.000     0.000       103\n",
      "        E_xx      0.000     0.000     0.000        43\n",
      "        I_vn      0.741     0.736     0.738       163\n",
      "        S_vn      0.718     0.571     0.636        49\n",
      "         B_w      0.850     0.895     0.872        19\n",
      "         I_w      1.000     1.000     1.000         5\n",
      "         E_w      0.895     0.895     0.895        19\n",
      "        B_xc      0.324     0.273     0.296        44\n",
      "        I_xc      0.269     0.531     0.357        98\n",
      "        E_xc      0.351     0.317     0.333        41\n",
      "        S_vd      0.500     0.714     0.588         7\n",
      "         I_c      0.944     1.000     0.971        17\n",
      "        I_ad      0.500     0.333     0.400         3\n",
      "         B_q      1.000     1.000     1.000         2\n",
      "         E_q      1.000     1.000     1.000         2\n",
      "        I_vd      1.000     0.167     0.286         6\n",
      "         B_u      1.000     0.833     0.909        12\n",
      "         E_u      1.000     0.833     0.909        12\n",
      "        I_an      0.000     0.000     0.000         4\n",
      "         I_q      0.000     0.000     0.000         0\n",
      "        S_nw      0.000     0.000     0.000         0\n",
      "         I_p      0.000     0.000     0.000         1\n",
      "         I_u      0.000     0.000     0.000         0\n",
      "         S_s      0.000     0.000     0.000         0\n",
      "         B_l      0.000     0.000     0.000         0\n",
      "         I_l      0.000     0.000     0.000         0\n",
      "         E_l      0.000     0.000     0.000         0\n",
      "         B_i      0.000     0.000     0.000         0\n",
      "         I_i      0.000     0.000     0.000         0\n",
      "         E_i      0.000     0.000     0.000         0\n",
      "         B_j      0.000     0.000     0.000         0\n",
      "         I_j      0.000     0.000     0.000         0\n",
      "         E_j      0.000     0.000     0.000         0\n",
      "         S_j      0.000     0.000     0.000         0\n",
      "\n",
      "   micro avg      0.926     0.926     0.926    143628\n",
      "   macro avg      0.708     0.688     0.692    143628\n",
      "weighted avg      0.925     0.926     0.925    143628\n",
      "\n"
     ]
    },
    {
     "data": {
      "application/vnd.jupyter.widget-view+json": {
       "model_id": "910b1e6e8b5a4088b0776f55a9664c0c",
       "version_major": 2,
       "version_minor": 0
      },
      "text/plain": [
       "HBox(children=(IntProgress(value=0, max=6201), HTML(value='')))"
      ]
     },
     "metadata": {},
     "output_type": "display_data"
    },
    {
     "name": "stderr",
     "output_type": "stream",
     "text": [
      "2019-04-18 15:53:05,108 INFO: \n",
      "epoch 4, average train epoch loss=2.5482\n",
      "\n"
     ]
    },
    {
     "name": "stdout",
     "output_type": "stream",
     "text": [
      "\n"
     ]
    },
    {
     "data": {
      "application/vnd.jupyter.widget-view+json": {
       "model_id": "2b10067cf75e4a38a21a92d324b1866e",
       "version_major": 2,
       "version_minor": 0
      },
      "text/plain": [
       "HBox(children=(IntProgress(value=0, max=21), HTML(value='')))"
      ]
     },
     "metadata": {},
     "output_type": "display_data"
    },
    {
     "name": "stdout",
     "output_type": "stream",
     "text": [
      "\n"
     ]
    },
    {
     "name": "stderr",
     "output_type": "stream",
     "text": [
      "2019-04-18 15:53:18,534 INFO: on epoch 3 by max_f1: 0.928\n",
      "2019-04-18 15:53:18,535 INFO: Saving new best model...\n"
     ]
    },
    {
     "name": "stdout",
     "output_type": "stream",
     "text": [
      "              precision    recall  f1-score   support\n",
      "\n",
      "       <pad>      0.000     0.000     0.000         0\n",
      "       [CLS]      1.000     1.000     1.000      2617\n",
      "         B_t      0.974     0.973     0.973      1252\n",
      "         E_t      0.972     0.971     0.972      1238\n",
      "         S_w      0.998     0.998     0.998      9860\n",
      "        B_nt      0.937     0.957     0.947      4923\n",
      "        I_nt      0.946     0.971     0.958     21804\n",
      "        E_nt      0.928     0.905     0.916      4845\n",
      "        B_ti      0.979     0.987     0.983      3104\n",
      "        I_ti      0.938     0.996     0.966      4430\n",
      "        E_ti      0.984     0.953     0.968      3078\n",
      "        B_nr      0.955     0.973     0.964      3842\n",
      "        I_nr      0.866     0.954     0.908      2967\n",
      "        E_nr      0.951     0.909     0.929      3818\n",
      "         B_v      0.941     0.925     0.933      5713\n",
      "         E_v      0.944     0.925     0.935      5679\n",
      "         B_p      0.986     0.936     0.960       311\n",
      "         E_p      0.986     0.939     0.962       310\n",
      "        B_nz      0.760     0.612     0.678      1293\n",
      "        I_nz      0.695     0.576     0.630      2334\n",
      "        E_nz      0.734     0.585     0.651      1279\n",
      "         B_n      0.925     0.928     0.927      9402\n",
      "         E_n      0.929     0.927     0.928      9334\n",
      "         S_u      0.996     0.992     0.994      3147\n",
      "        B_vn      0.863     0.901     0.881      2770\n",
      "        E_vn      0.866     0.906     0.885      2741\n",
      "         B_a      0.893     0.899     0.896      1166\n",
      "         E_a      0.900     0.908     0.904      1154\n",
      "         S_d      0.934     0.960     0.947       910\n",
      "         B_d      0.942     0.938     0.940       813\n",
      "         E_d      0.942     0.945     0.944       806\n",
      "         I_n      0.769     0.827     0.797      1871\n",
      "         S_r      0.981     0.983     0.982       477\n",
      "         S_p      0.957     0.955     0.956      1706\n",
      "         I_t      0.970     0.993     0.981      2491\n",
      "         B_m      0.944     0.954     0.949      1316\n",
      "         I_m      0.940     0.957     0.949      1341\n",
      "         E_m      0.935     0.941     0.938      1297\n",
      "         S_m      0.964     0.899     0.931       179\n",
      "         S_n      0.829     0.796     0.812       788\n",
      "         B_r      0.980     0.958     0.969       713\n",
      "         E_r      0.978     0.956     0.967       710\n",
      "        B_vd      0.819     0.747     0.782        91\n",
      "        E_vd      0.819     0.747     0.782        91\n",
      "         I_a      0.780     0.754     0.767       179\n",
      "         S_c      0.943     0.956     0.949       880\n",
      "         I_r      0.872     0.932     0.901        44\n",
      "         S_f      0.969     0.963     0.966       488\n",
      "         B_s      0.933     0.958     0.945       189\n",
      "         E_s      0.928     0.952     0.940       189\n",
      "        B_ad      0.894     0.939     0.916       342\n",
      "        E_ad      0.897     0.944     0.920       340\n",
      "         S_a      0.870     0.815     0.842       470\n",
      "         S_v      0.917     0.905     0.911      2055\n",
      "        B_ns      0.921     0.879     0.899      1745\n",
      "        E_ns      0.913     0.767     0.834      1741\n",
      "        I_ns      0.822     0.913     0.865      2101\n",
      "         S_q      0.887     0.747     0.811        95\n",
      "         S_t      1.000     0.667     0.800         6\n",
      "        S_xc      0.880     0.737     0.802        99\n",
      "         B_c      0.957     0.978     0.968       274\n",
      "         E_c      0.960     0.982     0.971       272\n",
      "         B_f      0.898     0.954     0.925       175\n",
      "         E_f      0.898     0.954     0.925       175\n",
      "         I_s      0.933     0.875     0.903        16\n",
      "         I_v      0.731     0.803     0.765       402\n",
      "        S_ad      0.750     0.844     0.794        32\n",
      "        B_an      0.818     0.711     0.761        76\n",
      "        E_an      0.818     0.720     0.766        75\n",
      "         I_f      0.500     1.000     0.667         1\n",
      "         I_d      0.857     0.892     0.874        74\n",
      "        S_xx      0.826     0.543     0.655        35\n",
      "        B_nw      0.788     0.825     0.806        63\n",
      "        I_nw      0.760     0.757     0.758       222\n",
      "        E_nw      0.800     0.852     0.825        61\n",
      "        S_an      0.455     0.625     0.526         8\n",
      "        B_xx      0.000     0.000     0.000        43\n",
      "        I_xx      0.000     0.000     0.000       103\n",
      "        E_xx      0.000     0.000     0.000        43\n",
      "        I_vn      0.727     0.767     0.746       163\n",
      "        S_vn      0.733     0.673     0.702        49\n",
      "         B_w      0.857     0.947     0.900        19\n",
      "         I_w      0.833     1.000     0.909         5\n",
      "         E_w      0.900     0.947     0.923        19\n",
      "        B_xc      0.452     0.318     0.373        44\n",
      "        I_xc      0.537     0.439     0.483        98\n",
      "        E_xc      0.484     0.366     0.417        41\n",
      "        S_vd      0.455     0.714     0.556         7\n",
      "         I_c      0.944     1.000     0.971        17\n",
      "        I_ad      0.000     0.000     0.000         3\n",
      "         B_q      0.500     1.000     0.667         2\n",
      "         E_q      0.500     1.000     0.667         2\n",
      "        I_vd      0.500     0.167     0.250         6\n",
      "         B_u      1.000     0.917     0.957        12\n",
      "         E_u      1.000     0.917     0.957        12\n",
      "        I_an      0.000     0.000     0.000         4\n",
      "         I_q      0.000     0.000     0.000         0\n",
      "        S_nw      0.000     0.000     0.000         0\n",
      "         I_p      0.000     0.000     0.000         1\n",
      "         I_u      0.000     0.000     0.000         0\n",
      "         S_s      0.000     0.000     0.000         0\n",
      "         B_l      0.000     0.000     0.000         0\n",
      "         I_l      0.000     0.000     0.000         0\n",
      "         E_l      0.000     0.000     0.000         0\n",
      "         B_i      0.000     0.000     0.000         0\n",
      "         I_i      0.000     0.000     0.000         0\n",
      "         E_i      0.000     0.000     0.000         0\n",
      "         B_j      0.000     0.000     0.000         0\n",
      "         I_j      0.000     0.000     0.000         0\n",
      "         E_j      0.000     0.000     0.000         0\n",
      "         S_j      0.000     0.000     0.000         0\n",
      "\n",
      "   micro avg      0.929     0.929     0.929    143628\n",
      "   macro avg      0.695     0.697     0.691    143628\n",
      "weighted avg      0.927     0.929     0.928    143628\n",
      "\n"
     ]
    },
    {
     "data": {
      "application/vnd.jupyter.widget-view+json": {
       "model_id": "a576b9455a044b0bbdf95097799e59b7",
       "version_major": 2,
       "version_minor": 0
      },
      "text/plain": [
       "HBox(children=(IntProgress(value=0, max=6201), HTML(value='')))"
      ]
     },
     "metadata": {},
     "output_type": "display_data"
    },
    {
     "name": "stderr",
     "output_type": "stream",
     "text": [
      "2019-04-18 16:52:52,018 INFO: \n",
      "epoch 5, average train epoch loss=2.3787\n",
      "\n"
     ]
    },
    {
     "name": "stdout",
     "output_type": "stream",
     "text": [
      "\n"
     ]
    },
    {
     "data": {
      "application/vnd.jupyter.widget-view+json": {
       "model_id": "7130d864495a4e1ea35332a6b0a7d30a",
       "version_major": 2,
       "version_minor": 0
      },
      "text/plain": [
       "HBox(children=(IntProgress(value=0, max=21), HTML(value='')))"
      ]
     },
     "metadata": {},
     "output_type": "display_data"
    },
    {
     "name": "stdout",
     "output_type": "stream",
     "text": [
      "\n"
     ]
    },
    {
     "name": "stderr",
     "output_type": "stream",
     "text": [
      "2019-04-18 16:53:05,416 INFO: on epoch 4 by max_f1: 0.932\n",
      "2019-04-18 16:53:05,416 INFO: Saving new best model...\n"
     ]
    },
    {
     "name": "stdout",
     "output_type": "stream",
     "text": [
      "              precision    recall  f1-score   support\n",
      "\n",
      "       <pad>      0.000     0.000     0.000         0\n",
      "       [CLS]      1.000     1.000     1.000      2617\n",
      "         B_t      0.978     0.970     0.974      1252\n",
      "         E_t      0.976     0.967     0.971      1238\n",
      "         S_w      0.998     0.998     0.998      9860\n",
      "        B_nt      0.935     0.962     0.948      4923\n",
      "        I_nt      0.949     0.973     0.961     21804\n",
      "        E_nt      0.929     0.932     0.930      4845\n",
      "        B_ti      0.978     0.989     0.983      3104\n",
      "        I_ti      0.940     0.996     0.968      4430\n",
      "        E_ti      0.983     0.956     0.969      3078\n",
      "        B_nr      0.959     0.973     0.966      3842\n",
      "        I_nr      0.872     0.953     0.911      2967\n",
      "        E_nr      0.954     0.908     0.930      3818\n",
      "         B_v      0.943     0.928     0.935      5713\n",
      "         E_v      0.946     0.928     0.937      5679\n",
      "         B_p      0.955     0.965     0.960       311\n",
      "         E_p      0.955     0.965     0.960       310\n",
      "        B_nz      0.740     0.675     0.706      1293\n",
      "        I_nz      0.646     0.696     0.670      2334\n",
      "        E_nz      0.714     0.643     0.677      1279\n",
      "         B_n      0.942     0.923     0.932      9402\n",
      "         E_n      0.945     0.921     0.933      9334\n",
      "         S_u      0.995     0.993     0.994      3147\n",
      "        B_vn      0.871     0.903     0.887      2770\n",
      "        E_vn      0.875     0.908     0.892      2741\n",
      "         B_a      0.913     0.903     0.908      1166\n",
      "         E_a      0.916     0.912     0.914      1154\n",
      "         S_d      0.949     0.952     0.950       910\n",
      "         B_d      0.940     0.943     0.942       813\n",
      "         E_d      0.942     0.948     0.945       806\n",
      "         I_n      0.849     0.831     0.840      1871\n",
      "         S_r      0.985     0.981     0.983       477\n",
      "         S_p      0.949     0.964     0.956      1706\n",
      "         I_t      0.972     0.989     0.980      2491\n",
      "         B_m      0.958     0.950     0.954      1316\n",
      "         I_m      0.962     0.934     0.948      1341\n",
      "         E_m      0.946     0.934     0.940      1297\n",
      "         S_m      0.938     0.927     0.933       179\n",
      "         S_n      0.820     0.816     0.818       788\n",
      "         B_r      0.978     0.979     0.978       713\n",
      "         E_r      0.977     0.979     0.978       710\n",
      "        B_vd      0.806     0.824     0.815        91\n",
      "        E_vd      0.806     0.824     0.815        91\n",
      "         I_a      0.843     0.721     0.777       179\n",
      "         S_c      0.958     0.936     0.947       880\n",
      "         I_r      0.880     1.000     0.936        44\n",
      "         S_f      0.960     0.973     0.966       488\n",
      "         B_s      0.957     0.942     0.949       189\n",
      "         E_s      0.952     0.937     0.944       189\n",
      "        B_ad      0.877     0.936     0.905       342\n",
      "        E_ad      0.879     0.941     0.909       340\n",
      "         S_a      0.880     0.826     0.852       470\n",
      "         S_v      0.927     0.898     0.912      2055\n",
      "        B_ns      0.926     0.881     0.903      1745\n",
      "        E_ns      0.919     0.770     0.838      1741\n",
      "        I_ns      0.815     0.919     0.864      2101\n",
      "         S_q      0.920     0.726     0.812        95\n",
      "         S_t      1.000     0.667     0.800         6\n",
      "        S_xc      0.938     0.758     0.838        99\n",
      "         B_c      0.967     0.971     0.969       274\n",
      "         E_c      0.971     0.974     0.972       272\n",
      "         B_f      0.916     0.937     0.927       175\n",
      "         E_f      0.916     0.937     0.927       175\n",
      "         I_s      0.842     1.000     0.914        16\n",
      "         I_v      0.785     0.801     0.793       402\n",
      "        S_ad      0.871     0.844     0.857        32\n",
      "        B_an      0.779     0.789     0.784        76\n",
      "        E_an      0.779     0.800     0.789        75\n",
      "         I_f      0.333     1.000     0.500         1\n",
      "         I_d      0.883     0.919     0.901        74\n",
      "        S_xx      0.833     0.571     0.678        35\n",
      "        B_nw      0.852     0.825     0.839        63\n",
      "        I_nw      0.812     0.680     0.740       222\n",
      "        E_nw      0.831     0.803     0.817        61\n",
      "        S_an      0.750     0.750     0.750         8\n",
      "        B_xx      1.000     0.023     0.045        43\n",
      "        I_xx      1.000     0.155     0.269       103\n",
      "        E_xx      1.000     0.023     0.045        43\n",
      "        I_vn      0.718     0.828     0.769       163\n",
      "        S_vn      0.762     0.653     0.703        49\n",
      "         B_w      0.895     0.895     0.895        19\n",
      "         I_w      1.000     1.000     1.000         5\n",
      "         E_w      0.895     0.895     0.895        19\n",
      "        B_xc      0.667     0.091     0.160        44\n",
      "        I_xc      0.923     0.122     0.216        98\n",
      "        E_xc      0.667     0.098     0.170        41\n",
      "        S_vd      0.444     0.571     0.500         7\n",
      "         I_c      0.944     1.000     0.971        17\n",
      "        I_ad      0.500     0.333     0.400         3\n",
      "         B_q      1.000     1.000     1.000         2\n",
      "         E_q      1.000     1.000     1.000         2\n",
      "        I_vd      0.600     0.500     0.545         6\n",
      "         B_u      1.000     0.917     0.957        12\n",
      "         E_u      1.000     0.917     0.957        12\n",
      "        I_an      0.000     0.000     0.000         4\n",
      "         I_q      0.000     0.000     0.000         0\n",
      "        S_nw      0.000     0.000     0.000         0\n",
      "         I_p      0.000     0.000     0.000         1\n",
      "         I_u      0.000     0.000     0.000         0\n",
      "         S_s      0.000     0.000     0.000         0\n",
      "         B_l      0.000     0.000     0.000         0\n",
      "         I_l      0.000     0.000     0.000         0\n",
      "         E_l      0.000     0.000     0.000         0\n",
      "         B_i      0.000     0.000     0.000         0\n",
      "         I_i      0.000     0.000     0.000         0\n",
      "         E_i      0.000     0.000     0.000         0\n",
      "         B_j      0.000     0.000     0.000         0\n",
      "         I_j      0.000     0.000     0.000         0\n",
      "         E_j      0.000     0.000     0.000         0\n",
      "         S_j      0.000     0.000     0.000         0\n",
      "\n",
      "   micro avg      0.933     0.933     0.933    143628\n",
      "   macro avg      0.751     0.703     0.706    143628\n",
      "weighted avg      0.934     0.933     0.932    143628\n",
      "\n"
     ]
    },
    {
     "data": {
      "application/vnd.jupyter.widget-view+json": {
       "model_id": "38d233835cfe4dc683f7b6bd6854adc3",
       "version_major": 2,
       "version_minor": 0
      },
      "text/plain": [
       "HBox(children=(IntProgress(value=0, max=6201), HTML(value='')))"
      ]
     },
     "metadata": {},
     "output_type": "display_data"
    },
    {
     "name": "stderr",
     "output_type": "stream",
     "text": [
      "2019-04-18 17:56:47,432 INFO: \n",
      "epoch 6, average train epoch loss=2.2572\n",
      "\n"
     ]
    },
    {
     "name": "stdout",
     "output_type": "stream",
     "text": [
      "\n"
     ]
    },
    {
     "data": {
      "application/vnd.jupyter.widget-view+json": {
       "model_id": "bd65060e7c544912949290d12790ae09",
       "version_major": 2,
       "version_minor": 0
      },
      "text/plain": [
       "HBox(children=(IntProgress(value=0, max=21), HTML(value='')))"
      ]
     },
     "metadata": {},
     "output_type": "display_data"
    },
    {
     "name": "stdout",
     "output_type": "stream",
     "text": [
      "\n"
     ]
    },
    {
     "name": "stderr",
     "output_type": "stream",
     "text": [
      "2019-04-18 17:57:00,977 INFO: on epoch 5 by max_f1: 0.935\n",
      "2019-04-18 17:57:00,978 INFO: Saving new best model...\n"
     ]
    },
    {
     "name": "stdout",
     "output_type": "stream",
     "text": [
      "              precision    recall  f1-score   support\n",
      "\n",
      "       <pad>      0.000     0.000     0.000         0\n",
      "       [CLS]      1.000     1.000     1.000      2617\n",
      "         B_t      0.978     0.971     0.975      1252\n",
      "         E_t      0.977     0.970     0.974      1238\n",
      "         S_w      0.999     0.998     0.998      9860\n",
      "        B_nt      0.939     0.965     0.952      4923\n",
      "        I_nt      0.951     0.977     0.964     21804\n",
      "        E_nt      0.934     0.935     0.935      4845\n",
      "        B_ti      0.982     0.990     0.986      3104\n",
      "        I_ti      0.942     0.997     0.969      4430\n",
      "        E_ti      0.986     0.954     0.970      3078\n",
      "        B_nr      0.958     0.971     0.964      3842\n",
      "        I_nr      0.871     0.953     0.911      2967\n",
      "        E_nr      0.952     0.909     0.930      3818\n",
      "         B_v      0.943     0.931     0.937      5713\n",
      "         E_v      0.947     0.931     0.939      5679\n",
      "         B_p      0.964     0.958     0.961       311\n",
      "         E_p      0.964     0.958     0.961       310\n",
      "        B_nz      0.737     0.698     0.717      1293\n",
      "        I_nz      0.657     0.729     0.691      2334\n",
      "        E_nz      0.714     0.666     0.689      1279\n",
      "         B_n      0.948     0.923     0.935      9402\n",
      "         E_n      0.951     0.922     0.936      9334\n",
      "         S_u      0.995     0.993     0.994      3147\n",
      "        B_vn      0.875     0.903     0.889      2770\n",
      "        E_vn      0.879     0.907     0.893      2741\n",
      "         B_a      0.908     0.910     0.909      1166\n",
      "         E_a      0.913     0.919     0.916      1154\n",
      "         S_d      0.952     0.957     0.955       910\n",
      "         B_d      0.944     0.935     0.939       813\n",
      "         E_d      0.945     0.940     0.943       806\n",
      "         I_n      0.861     0.822     0.841      1871\n",
      "         S_r      0.987     0.983     0.985       477\n",
      "         S_p      0.954     0.968     0.961      1706\n",
      "         I_t      0.972     0.989     0.981      2491\n",
      "         B_m      0.954     0.955     0.954      1316\n",
      "         I_m      0.956     0.949     0.953      1341\n",
      "         E_m      0.945     0.943     0.944      1297\n",
      "         S_m      0.964     0.905     0.934       179\n",
      "         S_n      0.844     0.806     0.825       788\n",
      "         B_r      0.976     0.971     0.973       713\n",
      "         E_r      0.976     0.970     0.973       710\n",
      "        B_vd      0.811     0.846     0.828        91\n",
      "        E_vd      0.811     0.846     0.828        91\n",
      "         I_a      0.806     0.788     0.797       179\n",
      "         S_c      0.961     0.948     0.954       880\n",
      "         I_r      0.875     0.955     0.913        44\n",
      "         S_f      0.964     0.980     0.972       488\n",
      "         B_s      0.953     0.958     0.955       189\n",
      "         E_s      0.947     0.952     0.950       189\n",
      "        B_ad      0.894     0.939     0.916       342\n",
      "        E_ad      0.896     0.941     0.918       340\n",
      "         S_a      0.881     0.832     0.856       470\n",
      "         S_v      0.932     0.898     0.915      2055\n",
      "        B_ns      0.925     0.876     0.900      1745\n",
      "        E_ns      0.923     0.796     0.855      1741\n",
      "        I_ns      0.839     0.910     0.873      2101\n",
      "         S_q      0.947     0.758     0.842        95\n",
      "         S_t      1.000     0.667     0.800         6\n",
      "        S_xc      0.898     0.798     0.845        99\n",
      "         B_c      0.968     0.978     0.973       274\n",
      "         E_c      0.967     0.982     0.974       272\n",
      "         B_f      0.927     0.937     0.932       175\n",
      "         E_f      0.927     0.937     0.932       175\n",
      "         I_s      0.842     1.000     0.914        16\n",
      "         I_v      0.782     0.794     0.788       402\n",
      "        S_ad      0.800     0.750     0.774        32\n",
      "        B_an      0.822     0.789     0.805        76\n",
      "        E_an      0.822     0.800     0.811        75\n",
      "         I_f      1.000     1.000     1.000         1\n",
      "         I_d      0.872     0.919     0.895        74\n",
      "        S_xx      0.870     0.571     0.690        35\n",
      "        B_nw      0.833     0.794     0.813        63\n",
      "        I_nw      0.790     0.662     0.721       222\n",
      "        E_nw      0.810     0.770     0.790        61\n",
      "        S_an      0.750     0.750     0.750         8\n",
      "        B_xx      1.000     0.023     0.045        43\n",
      "        I_xx      1.000     0.155     0.269       103\n",
      "        E_xx      1.000     0.023     0.045        43\n",
      "        I_vn      0.777     0.791     0.784       163\n",
      "        S_vn      0.780     0.653     0.711        49\n",
      "         B_w      0.857     0.947     0.900        19\n",
      "         I_w      0.833     1.000     0.909         5\n",
      "         E_w      0.900     0.947     0.923        19\n",
      "        B_xc      0.700     0.159     0.259        44\n",
      "        I_xc      0.686     0.245     0.361        98\n",
      "        E_xc      0.700     0.171     0.275        41\n",
      "        S_vd      0.545     0.857     0.667         7\n",
      "         I_c      0.944     1.000     0.971        17\n",
      "        I_ad      0.500     0.333     0.400         3\n",
      "         B_q      0.500     1.000     0.667         2\n",
      "         E_q      0.500     1.000     0.667         2\n",
      "        I_vd      0.667     0.333     0.444         6\n",
      "         B_u      1.000     0.917     0.957        12\n",
      "         E_u      1.000     0.917     0.957        12\n",
      "        I_an      0.000     0.000     0.000         4\n",
      "         I_q      0.000     0.000     0.000         0\n",
      "        S_nw      0.000     0.000     0.000         0\n",
      "         I_p      0.000     0.000     0.000         1\n",
      "         I_u      0.000     0.000     0.000         0\n",
      "         S_s      0.000     0.000     0.000         0\n",
      "         B_l      0.000     0.000     0.000         0\n",
      "         I_l      0.000     0.000     0.000         0\n",
      "         E_l      0.000     0.000     0.000         0\n",
      "         B_i      0.000     0.000     0.000         0\n",
      "         I_i      0.000     0.000     0.000         0\n",
      "         E_i      0.000     0.000     0.000         0\n",
      "         B_j      0.000     0.000     0.000         0\n",
      "         I_j      0.000     0.000     0.000         0\n",
      "         E_j      0.000     0.000     0.000         0\n",
      "         S_j      0.000     0.000     0.000         0\n",
      "\n",
      "   micro avg      0.936     0.936     0.936    143628\n",
      "   macro avg      0.748     0.708     0.709    143628\n",
      "weighted avg      0.936     0.936     0.935    143628\n",
      "\n"
     ]
    },
    {
     "data": {
      "application/vnd.jupyter.widget-view+json": {
       "model_id": "5f5269b4abb140adb324344caf3e214a",
       "version_major": 2,
       "version_minor": 0
      },
      "text/plain": [
       "HBox(children=(IntProgress(value=0, max=6201), HTML(value='')))"
      ]
     },
     "metadata": {},
     "output_type": "display_data"
    },
    {
     "name": "stderr",
     "output_type": "stream",
     "text": [
      "2019-04-18 18:57:05,052 INFO: \n",
      "epoch 7, average train epoch loss=2.1653\n",
      "\n"
     ]
    },
    {
     "name": "stdout",
     "output_type": "stream",
     "text": [
      "\n"
     ]
    },
    {
     "data": {
      "application/vnd.jupyter.widget-view+json": {
       "model_id": "b8a0ba0185754a24981cbe633791de4c",
       "version_major": 2,
       "version_minor": 0
      },
      "text/plain": [
       "HBox(children=(IntProgress(value=0, max=21), HTML(value='')))"
      ]
     },
     "metadata": {},
     "output_type": "display_data"
    },
    {
     "name": "stdout",
     "output_type": "stream",
     "text": [
      "\n"
     ]
    },
    {
     "name": "stderr",
     "output_type": "stream",
     "text": [
      "2019-04-18 18:57:18,359 INFO: on epoch 6 by max_f1: 0.936\n",
      "2019-04-18 18:57:18,360 INFO: Saving new best model...\n"
     ]
    },
    {
     "name": "stdout",
     "output_type": "stream",
     "text": [
      "              precision    recall  f1-score   support\n",
      "\n",
      "       <pad>      0.000     0.000     0.000         0\n",
      "       [CLS]      1.000     1.000     1.000      2617\n",
      "         B_t      0.978     0.975     0.976      1252\n",
      "         E_t      0.977     0.975     0.976      1238\n",
      "         S_w      0.999     0.998     0.998      9860\n",
      "        B_nt      0.938     0.967     0.953      4923\n",
      "        I_nt      0.954     0.977     0.965     21804\n",
      "        E_nt      0.934     0.939     0.936      4845\n",
      "        B_ti      0.981     0.991     0.986      3104\n",
      "        I_ti      0.940     0.998     0.968      4430\n",
      "        E_ti      0.985     0.956     0.970      3078\n",
      "        B_nr      0.959     0.973     0.966      3842\n",
      "        I_nr      0.878     0.959     0.917      2967\n",
      "        E_nr      0.953     0.911     0.932      3818\n",
      "         B_v      0.948     0.928     0.938      5713\n",
      "         E_v      0.951     0.928     0.939      5679\n",
      "         B_p      0.971     0.955     0.963       311\n",
      "         E_p      0.971     0.958     0.964       310\n",
      "        B_nz      0.767     0.675     0.718      1293\n",
      "        I_nz      0.676     0.710     0.692      2334\n",
      "        E_nz      0.739     0.640     0.686      1279\n",
      "         B_n      0.943     0.930     0.936      9402\n",
      "         E_n      0.947     0.930     0.938      9334\n",
      "         S_u      0.994     0.992     0.993      3147\n",
      "        B_vn      0.874     0.908     0.891      2770\n",
      "        E_vn      0.877     0.912     0.894      2741\n",
      "         B_a      0.911     0.914     0.913      1166\n",
      "         E_a      0.915     0.922     0.918      1154\n",
      "         S_d      0.947     0.955     0.951       910\n",
      "         B_d      0.947     0.943     0.945       813\n",
      "         E_d      0.948     0.949     0.949       806\n",
      "         I_n      0.842     0.841     0.841      1871\n",
      "         S_r      0.985     0.985     0.985       477\n",
      "         S_p      0.956     0.964     0.960      1706\n",
      "         I_t      0.974     0.991     0.983      2491\n",
      "         B_m      0.955     0.961     0.958      1316\n",
      "         I_m      0.952     0.957     0.955      1341\n",
      "         E_m      0.945     0.948     0.946      1297\n",
      "         S_m      0.964     0.905     0.934       179\n",
      "         S_n      0.841     0.810     0.825       788\n",
      "         B_r      0.976     0.973     0.975       713\n",
      "         E_r      0.976     0.973     0.975       710\n",
      "        B_vd      0.784     0.835     0.809        91\n",
      "        E_vd      0.784     0.835     0.809        91\n",
      "         I_a      0.832     0.777     0.803       179\n",
      "         S_c      0.957     0.951     0.954       880\n",
      "         I_r      0.878     0.977     0.925        44\n",
      "         S_f      0.964     0.977     0.970       488\n",
      "         B_s      0.948     0.963     0.955       189\n",
      "         E_s      0.943     0.958     0.950       189\n",
      "        B_ad      0.922     0.936     0.929       342\n",
      "        E_ad      0.922     0.938     0.930       340\n",
      "         S_a      0.895     0.834     0.863       470\n",
      "         S_v      0.925     0.904     0.914      2055\n",
      "        B_ns      0.923     0.884     0.903      1745\n",
      "        E_ns      0.917     0.801     0.855      1741\n",
      "        I_ns      0.847     0.914     0.879      2101\n",
      "         S_q      0.923     0.758     0.832        95\n",
      "         S_t      1.000     0.667     0.800         6\n",
      "        S_xc      0.949     0.758     0.843        99\n",
      "         B_c      0.954     0.982     0.968       274\n",
      "         E_c      0.957     0.985     0.971       272\n",
      "         B_f      0.916     0.937     0.927       175\n",
      "         E_f      0.916     0.937     0.927       175\n",
      "         I_s      0.842     1.000     0.914        16\n",
      "         I_v      0.793     0.818     0.805       402\n",
      "        S_ad      0.833     0.781     0.806        32\n",
      "        B_an      0.829     0.763     0.795        76\n",
      "        E_an      0.829     0.773     0.800        75\n",
      "         I_f      0.500     1.000     0.667         1\n",
      "         I_d      0.895     0.919     0.907        74\n",
      "        S_xx      0.870     0.571     0.690        35\n",
      "        B_nw      0.820     0.794     0.806        63\n",
      "        I_nw      0.782     0.662     0.717       222\n",
      "        E_nw      0.797     0.770     0.783        61\n",
      "        S_an      0.667     0.750     0.706         8\n",
      "        B_xx      1.000     0.023     0.045        43\n",
      "        I_xx      1.000     0.155     0.269       103\n",
      "        E_xx      1.000     0.023     0.045        43\n",
      "        I_vn      0.750     0.810     0.779       163\n",
      "        S_vn      0.795     0.633     0.705        49\n",
      "         B_w      0.900     0.947     0.923        19\n",
      "         I_w      1.000     1.000     1.000         5\n",
      "         E_w      0.900     0.947     0.923        19\n",
      "        B_xc      1.000     0.045     0.087        44\n",
      "        I_xc      1.000     0.051     0.097        98\n",
      "        E_xc      1.000     0.049     0.093        41\n",
      "        S_vd      0.545     0.857     0.667         7\n",
      "         I_c      0.944     1.000     0.971        17\n",
      "        I_ad      0.500     0.333     0.400         3\n",
      "         B_q      0.667     1.000     0.800         2\n",
      "         E_q      0.667     1.000     0.800         2\n",
      "        I_vd      0.750     0.500     0.600         6\n",
      "         B_u      1.000     0.917     0.957        12\n",
      "         E_u      1.000     0.917     0.957        12\n",
      "        I_an      0.000     0.000     0.000         4\n",
      "         I_q      0.000     0.000     0.000         0\n",
      "        S_nw      0.000     0.000     0.000         0\n",
      "         I_p      0.000     0.000     0.000         1\n",
      "         I_u      0.000     0.000     0.000         0\n",
      "         S_s      0.000     0.000     0.000         0\n",
      "         B_l      0.000     0.000     0.000         0\n",
      "         I_l      0.000     0.000     0.000         0\n",
      "         E_l      0.000     0.000     0.000         0\n",
      "         B_i      0.000     0.000     0.000         0\n",
      "         I_i      0.000     0.000     0.000         0\n",
      "         E_i      0.000     0.000     0.000         0\n",
      "         B_j      0.000     0.000     0.000         0\n",
      "         I_j      0.000     0.000     0.000         0\n",
      "         E_j      0.000     0.000     0.000         0\n",
      "         S_j      0.000     0.000     0.000         0\n",
      "\n",
      "   micro avg      0.937     0.937     0.937    143628\n",
      "   macro avg      0.758     0.706     0.706    143628\n",
      "weighted avg      0.938     0.937     0.936    143628\n",
      "\n"
     ]
    },
    {
     "data": {
      "application/vnd.jupyter.widget-view+json": {
       "model_id": "af344054c51b4f94b43f865ba4c1063a",
       "version_major": 2,
       "version_minor": 0
      },
      "text/plain": [
       "HBox(children=(IntProgress(value=0, max=6201), HTML(value='')))"
      ]
     },
     "metadata": {},
     "output_type": "display_data"
    }
   ],
   "source": [
    "# 正常训练\n",
    "\n",
    "from bailian_nlp.modules import BertNerData as NerData\n",
    "\n",
    "data = NerData.create(\n",
    "    train_path,\n",
    "    valid_path, \n",
    "    vocab_file,\n",
    "    data_type=\"bert_uncased\",\n",
    "    is_cls=False,\n",
    "    max_seq_len=128,\n",
    "    batch_size=128\n",
    "    \n",
    ")\n",
    "\n",
    "import torch\n",
    "import torch.nn as nn\n",
    "from importlib import reload\n",
    "from bailian_nlp.modules.models import bert_models\n",
    "reload(bert_models)\n",
    "\n",
    "model = bert_models.BertBiLSTMAttnCRF.create(\n",
    "    len(data.label2idx),\n",
    "    bert_config_file, \n",
    "    init_checkpoint_pt,\n",
    "    enc_hidden_dim=256\n",
    ")\n",
    "model.get_n_trainable_params()\n",
    "\n",
    "\n",
    "from bailian_nlp.modules.train import train\n",
    "reload(train)\n",
    "num_epochs = 10\n",
    "learner = train.NerLearner(model, data,\n",
    "                     best_model_path=model_pt,\n",
    "                     lr=0.001, clip=1.0, sup_labels=data.id2label,\n",
    "                     t_total=num_epochs * len(data.train_dl))\n",
    "\n",
    "learner.fit(num_epochs, target_metric='f1')\n"
   ]
  },
  {
   "cell_type": "code",
   "execution_count": null,
   "metadata": {},
   "outputs": [],
   "source": [
    "num_epochs = 10\n",
    "learner = train.NerLearner(model, data,\n",
    "                     best_model_path=model_pt,\n",
    "                     lr=0.001, clip=1.0, sup_labels=data.id2label,\n",
    "                     t_total=num_epochs * len(data.train_dl))\n",
    "\n",
    "learner.fit(num_epochs, target_metric='f1')"
   ]
  },
  {
   "cell_type": "code",
   "execution_count": 5,
   "metadata": {},
   "outputs": [
    {
     "name": "stderr",
     "output_type": "stream",
     "text": [
      "2019-04-17 10:47:39,699 INFO: load default user_dict in /home/liuxiang/Projects/ner-bert/bailian_nlp/datadrive/dict/user_dict.txt\n",
      "2019-04-17 10:47:39,702 INFO: 本次加载词条数：3\n",
      "2019-04-17 10:47:39,703 INFO: 当前总词条数: 3\n",
      "2019-04-17 10:47:47,988 INFO: found pos model file in /home/liuxiang/Projects/ner-bert/bailian_nlp/datadrive/models/chinese_L-12_H-768_A-12/pos.bin\n",
      "2019-04-17 10:47:48,867 INFO: pos model loads success!\n"
     ]
    },
    {
     "data": {
      "application/vnd.jupyter.widget-view+json": {
       "model_id": "cbfa9d2c2d404586bd3b20f9cf16da76",
       "version_major": 2,
       "version_minor": 0
      },
      "text/plain": [
       "HBox(children=(IntProgress(value=0, description='bert data', max=793769, style=ProgressStyle(description_width…"
      ]
     },
     "metadata": {},
     "output_type": "display_data"
    },
    {
     "name": "stderr",
     "output_type": "stream",
     "text": [
      "2019-04-17 10:51:25,215 DEBUG: get_data cost 211.709043s\n"
     ]
    },
    {
     "name": "stdout",
     "output_type": "stream",
     "text": [
      "\n"
     ]
    },
    {
     "data": {
      "application/vnd.jupyter.widget-view+json": {
       "model_id": "9e481d804e6a4a858ec9b4d502cc4d95",
       "version_major": 2,
       "version_minor": 0
      },
      "text/plain": [
       "HBox(children=(IntProgress(value=0, description='bert data', max=2574, style=ProgressStyle(description_width='…"
      ]
     },
     "metadata": {},
     "output_type": "display_data"
    },
    {
     "name": "stderr",
     "output_type": "stream",
     "text": [
      "2019-04-17 10:51:26,159 DEBUG: get_data cost 0.94289s\n"
     ]
    },
    {
     "name": "stdout",
     "output_type": "stream",
     "text": [
      "\n"
     ]
    },
    {
     "name": "stderr",
     "output_type": "stream",
     "text": [
      "2019-04-17 10:51:26,982 INFO: found pos model file in /home/liuxiang/Projects/ner-bert/bailian_nlp/datadrive/models/chinese_L-12_H-768_A-12/pos.bin\n",
      "2019-04-17 10:51:27,241 INFO: pos model loads success!\n",
      "2019-04-17 10:51:27,492 INFO: Resuming train... Current epoch 0.\n"
     ]
    },
    {
     "data": {
      "application/vnd.jupyter.widget-view+json": {
       "model_id": "026375ecc5c14e338ba8e062f8880ccb",
       "version_major": 2,
       "version_minor": 0
      },
      "text/plain": [
       "HBox(children=(IntProgress(value=0, max=24806), HTML(value='')))"
      ]
     },
     "metadata": {},
     "output_type": "display_data"
    },
    {
     "name": "stderr",
     "output_type": "stream",
     "text": [
      "2019-04-17 12:10:04,434 INFO: \n",
      "epoch 1, average train epoch loss=1.4911\n",
      "\n"
     ]
    },
    {
     "name": "stdout",
     "output_type": "stream",
     "text": [
      "\n"
     ]
    },
    {
     "data": {
      "application/vnd.jupyter.widget-view+json": {
       "model_id": "77866a6481cd4d5aa0766e6d2c52e089",
       "version_major": 2,
       "version_minor": 0
      },
      "text/plain": [
       "HBox(children=(IntProgress(value=0, max=81), HTML(value='')))"
      ]
     },
     "metadata": {},
     "output_type": "display_data"
    },
    {
     "name": "stdout",
     "output_type": "stream",
     "text": [
      "\n"
     ]
    },
    {
     "name": "stderr",
     "output_type": "stream",
     "text": [
      "2019-04-17 12:10:14,770 INFO: on epoch 0 by max_f1: 0.928\n",
      "2019-04-17 12:10:14,772 INFO: Saving new best model...\n"
     ]
    },
    {
     "name": "stdout",
     "output_type": "stream",
     "text": [
      "              precision    recall  f1-score   support\n",
      "\n",
      "        E_an      0.821     0.780     0.800        41\n",
      "         B_t      0.987     0.981     0.984       851\n",
      "       [CLS]      1.000     1.000     1.000      2574\n",
      "        E_ti      0.981     0.930     0.955      1763\n",
      "        I_xx      0.000     0.000     0.000        34\n",
      "         B_q      0.667     0.500     0.571         4\n",
      "        E_nr      0.960     0.864     0.909      2683\n",
      "         B_v      0.918     0.937     0.928      3055\n",
      "           X      1.000     1.000     1.000       741\n",
      "        B_xx      0.000     0.000     0.000        12\n",
      "        S_xc      0.815     0.898     0.855        59\n",
      "         I_j      0.000     0.000     0.000         0\n",
      "         S_u      0.996     0.995     0.995      1533\n",
      "        E_ad      0.867     0.903     0.884       144\n",
      "        S_nw      0.000     0.000     0.000         0\n",
      "         I_s      0.833     0.833     0.833         6\n",
      "        I_nr      0.838     0.965     0.897      2184\n",
      "         I_t      0.986     0.995     0.991      1840\n",
      "         B_s      0.951     0.961     0.956       102\n",
      "        I_xc      0.693     0.852     0.765        61\n",
      "        S_vd      1.000     0.667     0.800         3\n",
      "         B_f      0.918     0.927     0.922        96\n",
      "         S_n      0.849     0.780     0.813       432\n",
      "        S_xx      0.737     0.667     0.700        21\n",
      "         S_j      0.000     0.000     0.000         0\n",
      "        I_ns      0.856     0.920     0.887      2050\n",
      "        E_nz      0.697     0.622     0.657       680\n",
      "         B_j      0.000     0.000     0.000         0\n",
      "        S_vn      0.889     0.667     0.762        24\n",
      "        B_ad      0.856     0.897     0.876       146\n",
      "        E_vn      0.898     0.861     0.879      1417\n",
      "       <pad>      0.000     0.000     0.000         0\n",
      "         E_n      0.921     0.927     0.924      4727\n",
      "        B_nt      0.946     0.954     0.950      3547\n",
      "         E_t      0.984     0.980     0.982       834\n",
      "         I_a      0.867     0.703     0.776        74\n",
      "        I_an      0.000     0.000     0.000         2\n",
      "         B_p      0.976     0.938     0.957       176\n",
      "        B_an      0.795     0.738     0.765        42\n",
      "         I_q      0.000     0.000     0.000         0\n",
      "         I_d      0.889     0.941     0.914        51\n",
      "         S_p      0.958     0.966     0.962       987\n",
      "         I_u      0.000     0.000     0.000         0\n",
      "         I_c      1.000     1.000     1.000         4\n",
      "         B_l      0.000     0.000     0.000         0\n",
      "        E_ns      0.918     0.789     0.849      1458\n",
      "        E_xc      0.676     0.714     0.694        35\n",
      "         S_q      0.932     0.774     0.845        53\n",
      "        I_vn      0.819     0.694     0.751       111\n",
      "         I_w      1.000     0.917     0.957        12\n",
      "         S_f      0.976     0.956     0.966       294\n",
      "         S_c      0.956     0.947     0.951       414\n",
      "         E_c      0.938     0.968     0.953       126\n",
      "         S_m      0.921     0.955     0.938       110\n",
      "         E_f      0.918     0.927     0.922        96\n",
      "        I_ti      0.928     0.983     0.955      2551\n",
      "         E_i      0.000     0.000     0.000         0\n",
      "        B_nr      0.960     0.976     0.968      2712\n",
      "         E_w      1.000     0.909     0.952        11\n",
      "        E_vd      0.839     0.619     0.712        42\n",
      "         I_p      0.000     0.000     0.000         0\n",
      "         S_v      0.900     0.899     0.900      1171\n",
      "         S_a      0.890     0.880     0.885       266\n",
      "         E_s      0.951     0.970     0.960       100\n",
      "         E_a      0.905     0.885     0.895       563\n",
      "         I_v      0.649     0.728     0.687       173\n",
      "         B_m      0.936     0.951     0.943       675\n",
      "        I_nz      0.649     0.646     0.648      1257\n",
      "         I_r      0.857     0.706     0.774        17\n",
      "        I_nt      0.942     0.975     0.958     16838\n",
      "        S_ad      0.308     0.571     0.400         7\n",
      "        B_vn      0.891     0.851     0.870      1436\n",
      "         E_l      0.000     0.000     0.000         0\n",
      "         E_j      0.000     0.000     0.000         0\n",
      "        E_xx      0.000     0.000     0.000        11\n",
      "        E_nt      0.935     0.829     0.879      3432\n",
      "         S_d      0.939     0.947     0.943       505\n",
      "         E_p      0.976     0.948     0.962       173\n",
      "         S_t      1.000     0.714     0.833         7\n",
      "        I_ad      0.000     0.000     0.000         2\n",
      "        B_vd      0.839     0.565     0.675        46\n",
      "        S_an      1.000     0.429     0.600         7\n",
      "        I_nw      0.972     0.719     0.827       146\n",
      "         E_r      0.952     0.952     0.952       356\n",
      "        I_vd      0.000     0.000     0.000         3\n",
      "        E_nw      0.923     0.735     0.818        49\n",
      "         I_f      0.000     0.000     0.000         0\n",
      "         B_u      1.000     0.750     0.857         4\n",
      "         E_q      0.667     0.500     0.571         4\n",
      "        B_ti      0.970     0.979     0.974      1816\n",
      "         B_r      0.953     0.927     0.940       370\n",
      "         I_m      0.969     0.908     0.937       651\n",
      "         I_n      0.805     0.798     0.802       881\n",
      "        B_ns      0.921     0.882     0.901      1465\n",
      "         I_i      0.000     0.000     0.000         0\n",
      "         B_a      0.893     0.870     0.881       577\n",
      "         E_v      0.923     0.938     0.930      3002\n",
      "         S_w      0.997     0.998     0.997      6056\n",
      "        B_nw      0.923     0.706     0.800        51\n",
      "         B_n      0.914     0.924     0.919      4824\n",
      "         B_c      0.931     0.946     0.938       129\n",
      "         E_m      0.942     0.937     0.939       653\n",
      "        B_nz      0.695     0.643     0.668       709\n",
      "         B_w      1.000     0.909     0.952        11\n",
      "         E_u      1.000     1.000     1.000         3\n",
      "         B_d      0.940     0.913     0.926       413\n",
      "         B_i      0.000     0.000     0.000         0\n",
      "         S_r      0.948     0.988     0.968       257\n",
      "         I_l      0.000     0.000     0.000         0\n",
      "        B_xc      0.676     0.658     0.667        38\n",
      "         E_d      0.944     0.923     0.934       404\n",
      "\n",
      "   micro avg      0.929     0.929     0.929     90583\n",
      "   macro avg      0.717     0.682     0.695     90583\n",
      "weighted avg      0.929     0.929     0.928     90583\n",
      "\n"
     ]
    }
   ],
   "source": [
    "# 恢复训练\n",
    "\n",
    "from bailian_nlp.released import pos\n",
    "from importlib import reload\n",
    "reload(pos)\n",
    "tagger = pos.PosTagger()\n",
    "tagger.init_env(for_train=True)\n",
    "\n",
    "data = tagger.learner.data\n",
    "learner = tagger.learner\n",
    "num_epochs = 1\n",
    "learner.load_model()\n",
    "learner.t_total = num_epochs * len(data.train_dl)\n",
    "learner.sup_labels = list(set(data.id2label[1:]) | set(learner.sup_labels))\n",
    "learner.fit(num_epochs, target_metric='f1')\n"
   ]
  },
  {
   "cell_type": "code",
   "execution_count": 6,
   "metadata": {},
   "outputs": [
    {
     "name": "stderr",
     "output_type": "stream",
     "text": [
      "2019-04-17 12:52:44,550 INFO: Resuming train... Current epoch 1.\n"
     ]
    },
    {
     "data": {
      "application/vnd.jupyter.widget-view+json": {
       "model_id": "f65b0cc482904579b4978d5ff7cd8498",
       "version_major": 2,
       "version_minor": 0
      },
      "text/plain": [
       "HBox(children=(IntProgress(value=0, max=24806), HTML(value='')))"
      ]
     },
     "metadata": {},
     "output_type": "display_data"
    },
    {
     "name": "stderr",
     "output_type": "stream",
     "text": [
      "2019-04-17 14:11:02,057 INFO: \n",
      "epoch 2, average train epoch loss=1.7876\n",
      "\n"
     ]
    },
    {
     "name": "stdout",
     "output_type": "stream",
     "text": [
      "\n"
     ]
    },
    {
     "data": {
      "application/vnd.jupyter.widget-view+json": {
       "model_id": "4bce1521a6a1487c8bb300638821008d",
       "version_major": 2,
       "version_minor": 0
      },
      "text/plain": [
       "HBox(children=(IntProgress(value=0, max=81), HTML(value='')))"
      ]
     },
     "metadata": {},
     "output_type": "display_data"
    },
    {
     "name": "stdout",
     "output_type": "stream",
     "text": [
      "\n"
     ]
    },
    {
     "name": "stderr",
     "output_type": "stream",
     "text": [
      "2019-04-17 14:11:12,114 INFO: on epoch 1 by max_f1: 0.932\n",
      "2019-04-17 14:11:12,115 INFO: Saving new best model...\n"
     ]
    },
    {
     "name": "stdout",
     "output_type": "stream",
     "text": [
      "              precision    recall  f1-score   support\n",
      "\n",
      "        E_an      0.806     0.707     0.753        41\n",
      "         B_t      0.981     0.987     0.984       851\n",
      "       [CLS]      1.000     1.000     1.000      2574\n",
      "        E_ti      0.981     0.934     0.957      1763\n",
      "        I_xx      0.842     0.471     0.604        34\n",
      "         B_q      1.000     0.500     0.667         4\n",
      "        E_nr      0.960     0.858     0.906      2683\n",
      "         B_v      0.945     0.921     0.933      3055\n",
      "           X      1.000     1.000     1.000       741\n",
      "        B_xx      0.200     0.083     0.118        12\n",
      "        S_xc      0.806     0.915     0.857        59\n",
      "         I_j      0.000     0.000     0.000         0\n",
      "         S_u      0.996     0.995     0.995      1533\n",
      "        E_ad      0.902     0.896     0.899       144\n",
      "        S_nw      0.000     0.000     0.000         0\n",
      "         I_s      1.000     0.833     0.909         6\n",
      "        I_nr      0.834     0.960     0.893      2184\n",
      "         I_t      0.987     0.997     0.992      1840\n",
      "         B_s      0.960     0.941     0.950       102\n",
      "        I_xc      0.620     0.803     0.700        61\n",
      "        S_vd      1.000     0.333     0.500         3\n",
      "         B_f      0.919     0.948     0.933        96\n",
      "         S_n      0.852     0.799     0.824       432\n",
      "        S_xx      0.889     0.762     0.821        21\n",
      "         S_j      0.000     0.000     0.000         0\n",
      "        I_ns      0.864     0.887     0.875      2050\n",
      "        E_nz      0.728     0.649     0.686       680\n",
      "         B_j      0.000     0.000     0.000         0\n",
      "        S_vn      0.889     0.667     0.762        24\n",
      "        B_ad      0.903     0.890     0.897       146\n",
      "        E_vn      0.888     0.888     0.888      1417\n",
      "       <pad>      0.000     0.000     0.000         0\n",
      "         E_n      0.938     0.918     0.928      4727\n",
      "        B_nt      0.944     0.968     0.956      3547\n",
      "         E_t      0.980     0.988     0.984       834\n",
      "         I_a      0.750     0.689     0.718        74\n",
      "        I_an      0.000     0.000     0.000         2\n",
      "         B_p      0.982     0.949     0.965       176\n",
      "        B_an      0.806     0.690     0.744        42\n",
      "         I_q      0.000     0.000     0.000         0\n",
      "         I_d      0.862     0.980     0.917        51\n",
      "         S_p      0.959     0.973     0.966       987\n",
      "         I_u      0.000     0.000     0.000         0\n",
      "         I_c      0.800     1.000     0.889         4\n",
      "         B_l      0.000     0.000     0.000         0\n",
      "        E_ns      0.915     0.746     0.822      1458\n",
      "        E_xc      0.649     0.686     0.667        35\n",
      "         S_q      0.936     0.830     0.880        53\n",
      "        I_vn      0.695     0.739     0.716       111\n",
      "         I_w      0.923     1.000     0.960        12\n",
      "         S_f      0.975     0.935     0.955       294\n",
      "         S_c      0.966     0.952     0.959       414\n",
      "         E_c      0.938     0.968     0.953       126\n",
      "         S_m      0.921     0.955     0.938       110\n",
      "         E_f      0.919     0.948     0.933        96\n",
      "        I_ti      0.938     0.992     0.964      2551\n",
      "         E_i      0.000     0.000     0.000         0\n",
      "        B_nr      0.960     0.975     0.967      2712\n",
      "         E_w      0.917     1.000     0.957        11\n",
      "        E_vd      0.838     0.738     0.785        42\n",
      "         I_p      0.000     0.000     0.000         0\n",
      "         S_v      0.921     0.899     0.910      1171\n",
      "         S_a      0.878     0.895     0.886       266\n",
      "         E_s      0.960     0.960     0.960       100\n",
      "         E_a      0.894     0.901     0.897       563\n",
      "         I_v      0.654     0.688     0.670       173\n",
      "         B_m      0.941     0.947     0.944       675\n",
      "        I_nz      0.648     0.707     0.677      1257\n",
      "         I_r      0.867     0.765     0.812        17\n",
      "        I_nt      0.937     0.987     0.961     16838\n",
      "        S_ad      0.500     0.571     0.533         7\n",
      "        B_vn      0.880     0.875     0.878      1436\n",
      "         E_l      0.000     0.000     0.000         0\n",
      "         E_j      0.000     0.000     0.000         0\n",
      "        E_xx      0.000     0.000     0.000        11\n",
      "        E_nt      0.937     0.843     0.887      3432\n",
      "         S_d      0.956     0.949     0.952       505\n",
      "         E_p      0.982     0.960     0.971       173\n",
      "         S_t      1.000     0.714     0.833         7\n",
      "        I_ad      1.000     0.500     0.667         2\n",
      "        B_vd      0.825     0.717     0.767        46\n",
      "        S_an      0.600     0.429     0.500         7\n",
      "        I_nw      0.855     0.726     0.785       146\n",
      "         E_r      0.963     0.963     0.963       356\n",
      "        I_vd      1.000     0.333     0.500         3\n",
      "        E_nw      0.925     0.755     0.831        49\n",
      "         I_f      0.000     0.000     0.000         0\n",
      "         B_u      1.000     0.750     0.857         4\n",
      "         E_q      1.000     0.500     0.667         4\n",
      "        B_ti      0.976     0.991     0.983      1816\n",
      "         B_r      0.954     0.946     0.950       370\n",
      "         I_m      0.952     0.935     0.943       651\n",
      "         I_n      0.831     0.785     0.807       881\n",
      "        B_ns      0.927     0.870     0.898      1465\n",
      "         I_i      0.000     0.000     0.000         0\n",
      "         B_a      0.881     0.884     0.882       577\n",
      "         E_v      0.951     0.924     0.938      3002\n",
      "         S_w      0.997     0.998     0.997      6056\n",
      "        B_nw      0.875     0.686     0.769        51\n",
      "         B_n      0.933     0.918     0.925      4824\n",
      "         B_c      0.917     0.946     0.931       129\n",
      "         E_m      0.947     0.933     0.940       653\n",
      "        B_nz      0.729     0.659     0.692       709\n",
      "         B_w      0.917     1.000     0.957        11\n",
      "         E_u      1.000     1.000     1.000         3\n",
      "         B_d      0.920     0.942     0.931       413\n",
      "         B_i      0.000     0.000     0.000         0\n",
      "         S_r      0.962     0.973     0.967       257\n",
      "         I_l      0.000     0.000     0.000         0\n",
      "        B_xc      0.632     0.632     0.632        38\n",
      "         E_d      0.925     0.950     0.938       404\n",
      "\n",
      "   micro avg      0.932     0.932     0.932     90583\n",
      "   macro avg      0.744     0.699     0.714     90583\n",
      "weighted avg      0.933     0.932     0.932     90583\n",
      "\n"
     ]
    }
   ],
   "source": [
    "learner.fit(num_epochs, target_metric='f1')"
   ]
  },
  {
   "cell_type": "code",
   "execution_count": null,
   "metadata": {},
   "outputs": [],
   "source": [
    "from modules.data import bert_data\n",
    "reload(bert_data)\n",
    "dl = bert_data.get_bert_data_loader_for_predict(valid_path, learner)"
   ]
  },
  {
   "cell_type": "code",
   "execution_count": null,
   "metadata": {},
   "outputs": [],
   "source": [
    "# learner.load_model()\n",
    "preds = learner.predict(dl)"
   ]
  },
  {
   "cell_type": "code",
   "execution_count": null,
   "metadata": {},
   "outputs": [],
   "source": [
    "from modules.utils.plot_metrics import get_bert_span_report\n",
    "clf_report = get_bert_span_report(dl, preds)\n",
    "print(clf_report)"
   ]
  },
  {
   "cell_type": "code",
   "execution_count": 3,
   "metadata": {},
   "outputs": [
    {
     "name": "stderr",
     "output_type": "stream",
     "text": [
      "2019-04-18 11:13:32,906 INFO: load default user_dict in /home/liuxiang/Projects/ner-bert/bailian_nlp/datadrive/dict/user_dict.txt\n",
      "2019-04-18 11:13:32,908 INFO: 本次加载词条数：3\n",
      "2019-04-18 11:13:32,909 INFO: 当前总词条数: 3\n",
      "2019-04-18 11:13:40,573 INFO: found pos model file in /home/liuxiang/Projects/ner-bert/bailian_nlp/datadrive/models/chinese_L-12_H-768_A-12/pos.bin\n",
      "2019-04-18 11:13:40,888 INFO: pos model loads success!\n"
     ]
    }
   ],
   "source": [
    "from bailian_nlp.released import pos\n",
    "from importlib import reload\n",
    "reload(pos)\n",
    "tagger = pos.PosTagger()\n"
   ]
  },
  {
   "cell_type": "code",
   "execution_count": 7,
   "metadata": {},
   "outputs": [
    {
     "data": {
      "application/vnd.jupyter.widget-view+json": {
       "model_id": "8cdefd099fb54811a642632d90dead18",
       "version_major": 2,
       "version_minor": 0
      },
      "text/plain": [
       "HBox(children=(IntProgress(value=0, description='bert data', max=1, style=ProgressStyle(description_width='ini…"
      ]
     },
     "metadata": {},
     "output_type": "display_data"
    },
    {
     "name": "stderr",
     "output_type": "stream",
     "text": [
      "2019-04-18 11:17:00,052 DEBUG: get_data cost 0.050898s\n"
     ]
    },
    {
     "name": "stdout",
     "output_type": "stream",
     "text": [
      "\n"
     ]
    },
    {
     "data": {
      "application/vnd.jupyter.widget-view+json": {
       "model_id": "acfa582905f643888147c0a8cccea071",
       "version_major": 2,
       "version_minor": 0
      },
      "text/plain": [
       "HBox(children=(IntProgress(value=0, max=1), HTML(value='')))"
      ]
     },
     "metadata": {},
     "output_type": "display_data"
    },
    {
     "name": "stderr",
     "output_type": "stream",
     "text": [
      "2019-04-18 11:17:00,178 DEBUG: text_array_for_predict cost 0.18011s\n"
     ]
    },
    {
     "name": "stdout",
     "output_type": "stream",
     "text": [
      "\n",
      "0.18120479583740234\n"
     ]
    },
    {
     "data": {
      "text/plain": [
       "[[('2012-11-8 ', 't'),\n",
       "  ('的', 'u'),\n",
       "  ('客户', 'n'),\n",
       "  ('包括', 'v'),\n",
       "  ('：', 'w'),\n",
       "  ('宝洁 ', 'nt'),\n",
       "  ('、', 'w'),\n",
       "  ('杜邦', 'nt'),\n",
       "  ('、', 'w'),\n",
       "  ('强生', 'nt'),\n",
       "  ('、', 'w'),\n",
       "  ('百事可 乐', 'nt'),\n",
       "  ('、', 'w'),\n",
       "  ('3M ', 'nz'),\n",
       "  ('、', 'w'),\n",
       "  ('三菱', 'nt'),\n",
       "  ('、', 'w'),\n",
       "  ('吉列', 'nz'),\n",
       "  ('、', 'w'),\n",
       "  ('通用医疗', 'nt'),\n",
       "  ('系统', 'n'),\n",
       "  ('、', 'w'),\n",
       "  ('美国 运通', 'nt'),\n",
       "  ('、', 'w'),\n",
       "  ('雅芳', 'nt'),\n",
       "  ('、', 'w'),\n",
       "  ('纽约银 行', 'nt'),\n",
       "  ('、', 'w'),\n",
       "  ('百时美', 'nt'),\n",
       "  ('—', 'w'),\n",
       "  ('施贵 宝', 'nr'),\n",
       "  ('、', 'w'),\n",
       "  ('礼来', 'nz'),\n",
       "  ('、', 'w'),\n",
       "  ('迪斯尼', 'nt'),\n",
       "  ('、', 'w'),\n",
       "  ('纳贝斯克', 'ns'),\n",
       "  ('、', 'w'),\n",
       "  ('纽约', 'ns')]]"
      ]
     },
     "execution_count": 7,
     "metadata": {},
     "output_type": "execute_result"
    }
   ],
   "source": [
    "import time\n",
    "\n",
    "st = time.time()\n",
    "text = '近日，编程猫（深圳点猫科技有限公司）正式对外宣布完成B轮1.2亿元融资。本轮融资由高瓴资本领投，清流资本、清晗基金跟投，天使轮投资者猎豹移动继续跟投。'\n",
    "# text = '未来编程教育产业将蓬勃发展，编程猫作为提供工具与内容的企业，有望长期处于行业领跑者地位。'\n",
    "# text = '美年大健康产业（集团）有限公司美年大健康产业（集团）有限公司美年大健康产业（集团）有限公司始创于2004年,是中国健康体检和医疗服务集团,总部位于上海,深耕布局北京、深圳、沈阳、广州、成都、武汉、...'\n",
    "# text = '百炼智能百炼智能'\n",
    "# text = '高越君冯是聪'\n",
    "text = '周光明确否认CEO佟显侨和衡量推动发出公司公告'\n",
    "text = '周光明确否认CEO佟显侨和CTO衡量说的罪名'\n",
    "text = '董事'\n",
    "# text = '一言九鼎'\n",
    "# text = '客户包括雀巢、洲际酒店、瑞士航空、德意志银行、红牛、瑞士联合银行等世界知名公司。'\n",
    "# text = '药方越是多的，越表明病是难的于治疗'\n",
    "text = '2012-11-8 的客户包括：宝洁 、杜邦、强生、百事可 乐、3M 、三菱、吉列、通用医疗系统、美国 运通、雅芳、纽约银 行、百时美—施贵 宝、礼来、迪斯尼、纳贝斯克、纽约'\n",
    "res = tagger.cut(text)\n",
    "ed = time.time()\n",
    "print(ed - st)\n",
    "res"
   ]
  },
  {
   "cell_type": "code",
   "execution_count": null,
   "metadata": {},
   "outputs": [],
   "source": []
  }
 ],
 "metadata": {
  "kernelspec": {
   "display_name": "Python [conda env:py3.6]",
   "language": "python",
   "name": "conda-env-py3.6-py"
  },
  "language_info": {
   "codemirror_mode": {
    "name": "ipython",
    "version": 3
   },
   "file_extension": ".py",
   "mimetype": "text/x-python",
   "name": "python",
   "nbconvert_exporter": "python",
   "pygments_lexer": "ipython3",
   "version": "3.6.7"
  }
 },
 "nbformat": 4,
 "nbformat_minor": 2
}
