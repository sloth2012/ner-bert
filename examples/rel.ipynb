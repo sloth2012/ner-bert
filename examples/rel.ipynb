{
 "cells": [
  {
   "cell_type": "code",
   "execution_count": 1,
   "metadata": {},
   "outputs": [],
   "source": [
    "%reload_ext autoreload\n",
    "%autoreload 2\n",
    "%matplotlib inline\n",
    "\n",
    "import pandas as pd\n",
    "import warnings\n",
    "import os\n",
    "import sys\n",
    "import re\n",
    "\n",
    "sys.path.append(\"../\")\n",
    "warnings.filterwarnings(\"ignore\")"
   ]
  },
  {
   "cell_type": "code",
   "execution_count": 2,
   "metadata": {},
   "outputs": [],
   "source": [
    "import os\n",
    "\n",
    "\n",
    "root_dir = os.path.abspath('../')\n",
    "\n",
    "data_path = os.path.join(root_dir, 'datadrive/bailian')\n",
    "if not os.path.exists(data_path):\n",
    "    os.makedirs(data_path, exist_ok=True)\n",
    "\n",
    "train_path = os.path.join(data_path, 'train.csv')\n",
    "valid_path = os.path.join(data_path, 'valid_small.csv')\n",
    "\n",
    "model_dir = os.path.join(root_dir, 'datadrive/models/chinese_L-12_H-768_A-12/')\n",
    "init_checkpoint_pt = os.path.join(model_dir, 'bert_model.bin')\n",
    "bert_config_file = os.path.join(model_dir, 'bert_config.json')\n",
    "vocab_file = os.path.join(model_dir, 'vocab.txt')\n",
    "model_pt = os.path.join(model_dir, 'pytorch_model.bin')\n",
    "\n"
   ]
  },
  {
   "cell_type": "code",
   "execution_count": null,
   "metadata": {
    "slideshow": {
     "slide_type": "-"
    }
   },
   "outputs": [],
   "source": [
    "def build_data():\n",
    "    \n",
    "    import re\n",
    "    import json\n",
    "    \n",
    "    p = re.compile(r'(.+?)/(?:([a-z]{1,2})(?:$| ))')\n",
    "    seg_file = os.path.join(data_path, 'final_baidu-23w.txt')\n",
    "    \n",
    "    delimiter='△△△'\n",
    "    with open(seg_file) as fin, open(train_path, 'w') as train_f, open(valid_path, 'w') as valid_f:\n",
    "        train_f.write(f'0{delimiter}1\\n')\n",
    "        valid_f.write(f'0{delimiter}1\\n')\n",
    "        for line in fin:\n",
    "            line = line.strip()\n",
    "            if not line:\n",
    "                continue\n",
    "                \n",
    "            import random\n",
    "            score = random.random()\n",
    "            \n",
    "            fout = train_f if score > 0.3 else valid_f\n",
    "            words = []\n",
    "            flags = []\n",
    "            for word, flag in p.findall(line):\n",
    "                char_list = [c if c not in [' ', '\\x7f']  else 'unk' for c in list(word)]\n",
    "                \n",
    "                tag_list = [f'B_{flag}'] + [f'I_{flag}']  * (len(char_list) - 1)\n",
    "                \n",
    "                if len(char_list) != len(tag_list):\n",
    "                    print(line)\n",
    "                    print(word, flag)\n",
    "                    print(char_list, tag_list)\n",
    "                    \n",
    "                words.extend(char_list)\n",
    "                flags.extend(tag_list)\n",
    "                \n",
    "            assert len(words) == len(flags)\n",
    "                \n",
    "            fout.write(delimiter.join([\n",
    "                ' '.join(flags),\n",
    "                ' '.join(words)\n",
    "            ]))\n",
    "            fout.write('\\n')\n",
    "            \n",
    "            \n",
    "            \n",
    "build_data()\n",
    "    "
   ]
  },
  {
   "cell_type": "code",
   "execution_count": 5,
   "metadata": {},
   "outputs": [
    {
     "data": {
      "text/plain": [
       "[[3, 4], [1, 2]]"
      ]
     },
     "execution_count": 5,
     "metadata": {},
     "output_type": "execute_result"
    }
   ],
   "source": [
    "from sklearn.utils import shuffle\n",
    "shuffle([[1,2], [3, 4]])"
   ]
  },
  {
   "cell_type": "code",
   "execution_count": 69,
   "metadata": {},
   "outputs": [
    {
     "data": {
      "application/vnd.jupyter.widget-view+json": {
       "model_id": "3cf381f72cea491397572be113692770",
       "version_major": 2,
       "version_minor": 0
      },
      "text/plain": [
       "HBox(children=(IntProgress(value=0, description='bert data', max=155954, style=ProgressStyle(description_width…"
      ]
     },
     "metadata": {},
     "output_type": "display_data"
    },
    {
     "data": {
      "application/vnd.jupyter.widget-view+json": {
       "model_id": "0d743b59e59640a2b48df95403e0b99a",
       "version_major": 2,
       "version_minor": 0
      },
      "text/plain": [
       "HBox(children=(IntProgress(value=0, description='bert data', max=499, style=ProgressStyle(description_width='i…"
      ]
     },
     "metadata": {},
     "output_type": "display_data"
    },
    {
     "name": "stderr",
     "output_type": "stream",
     "text": [
      "2019-03-26 12:38:13,079 INFO: Resuming train... Current epoch 0.\n"
     ]
    },
    {
     "data": {
      "application/vnd.jupyter.widget-view+json": {
       "model_id": "7cd0e7f0ee7d43c18534f877b3ed8c60",
       "version_major": 2,
       "version_minor": 0
      },
      "text/plain": [
       "HBox(children=(IntProgress(value=0, max=9748), HTML(value='')))"
      ]
     },
     "metadata": {},
     "output_type": "display_data"
    }
   ],
   "source": [
    "# 正常训练\n",
    "\n",
    "from modules import BertNerData as NerData\n",
    "\n",
    "data = NerData.create(\n",
    "    train_path,\n",
    "    valid_path, \n",
    "    vocab_file,\n",
    "    data_type=\"bert_uncased\",\n",
    "    is_cls=False\n",
    ")\n",
    "\n",
    "import torch\n",
    "from importlib import reload\n",
    "from modules.models import bert_models\n",
    "reload(bert_models)\n",
    "\n",
    "model = bert_models.BertBiLSTMAttnCRF.create(\n",
    "    len(data.label2idx),\n",
    "    bert_config_file, \n",
    "    init_checkpoint_pt,\n",
    "    enc_hidden_dim=256\n",
    ")\n",
    "model.get_n_trainable_params()\n",
    "\n",
    "from modules.train import train\n",
    "reload(train)\n",
    "num_epochs = 20\n",
    "learner = train.NerLearner(model, data,\n",
    "                     best_model_path=model_pt,\n",
    "                     lr=0.001, clip=1.0, sup_labels=data.id2label,\n",
    "                     t_total=num_epochs * len(data.train_dl))\n",
    "\n",
    "learner.fit(num_epochs, target_metric='f1')\n",
    "\n"
   ]
  },
  {
   "cell_type": "code",
   "execution_count": 4,
   "metadata": {},
   "outputs": [
    {
     "data": {
      "text/plain": [
       "(4999, 499)"
      ]
     },
     "execution_count": 4,
     "metadata": {},
     "output_type": "execute_result"
    }
   ],
   "source": [
    "len(data.train_dl.dataset), len(data.valid_dl.dataset)"
   ]
  },
  {
   "cell_type": "code",
   "execution_count": 13,
   "metadata": {},
   "outputs": [
    {
     "data": {
      "application/vnd.jupyter.widget-view+json": {
       "model_id": "1d508ddb55ed49cb95dd47a162b8e583",
       "version_major": 2,
       "version_minor": 0
      },
      "text/plain": [
       "HBox(children=(IntProgress(value=0, description='bert data', max=155954, style=ProgressStyle(description_width…"
      ]
     },
     "metadata": {},
     "output_type": "display_data"
    },
    {
     "data": {
      "application/vnd.jupyter.widget-view+json": {
       "model_id": "ae129ae5b06e49c28a1a6c5db2f1da55",
       "version_major": 2,
       "version_minor": 0
      },
      "text/plain": [
       "HBox(children=(IntProgress(value=0, description='bert data', max=499, style=ProgressStyle(description_width='i…"
      ]
     },
     "metadata": {},
     "output_type": "display_data"
    },
    {
     "name": "stderr",
     "output_type": "stream",
     "text": [
      "2019-03-27 03:21:59,756 INFO: Resuming train... Current epoch 0.\n"
     ]
    },
    {
     "data": {
      "application/vnd.jupyter.widget-view+json": {
       "model_id": "1df37f076cda41438564c5c8df177343",
       "version_major": 2,
       "version_minor": 0
      },
      "text/plain": [
       "HBox(children=(IntProgress(value=0, max=9748), HTML(value='')))"
      ]
     },
     "metadata": {},
     "output_type": "display_data"
    },
    {
     "name": "stderr",
     "output_type": "stream",
     "text": [
      "2019-03-27 07:03:02,948 INFO: \n",
      "epoch 1, average train epoch loss=13.276\n",
      "\n"
     ]
    },
    {
     "data": {
      "application/vnd.jupyter.widget-view+json": {
       "model_id": "0405d9729738412bbb778dc5b092640a",
       "version_major": 2,
       "version_minor": 0
      },
      "text/plain": [
       "HBox(children=(IntProgress(value=0, max=32), HTML(value='')))"
      ]
     },
     "metadata": {},
     "output_type": "display_data"
    },
    {
     "name": "stderr",
     "output_type": "stream",
     "text": [
      "2019-03-27 07:03:41,551 INFO: on epoch 0 by max_f1: 0.918\n",
      "2019-03-27 07:03:41,552 INFO: Saving new best model...\n"
     ]
    },
    {
     "name": "stdout",
     "output_type": "stream",
     "text": [
      "             precision    recall  f1-score   support\n",
      "\n",
      "      <pad>      0.000     0.000     0.000         0\n",
      "      [CLS]      1.000     1.000     1.000       499\n",
      "        B_m      0.957     0.950     0.953       776\n",
      "        B_w      0.996     0.995     0.996      6365\n",
      "       B_nt      0.896     0.944     0.919      2248\n",
      "       I_nt      0.901     0.950     0.925     11396\n",
      "       B_nr      0.939     0.981     0.960      1692\n",
      "       I_nr      0.920     0.979     0.949      2890\n",
      "        I_w      0.990     1.000     0.995       578\n",
      "          X      1.000     1.000     1.000       680\n",
      "       B_nz      0.762     0.582     0.660       766\n",
      "       I_nz      0.723     0.591     0.650      2368\n",
      "        B_n      0.914     0.887     0.901      5111\n",
      "        I_n      0.911     0.884     0.897      8455\n",
      "        B_v      0.930     0.905     0.917      3741\n",
      "        I_v      0.915     0.892     0.903      3807\n",
      "        B_p      0.966     0.950     0.958       923\n",
      "        I_m      0.974     0.978     0.976      1742\n",
      "        I_p      0.962     0.901     0.930       141\n",
      "        B_r      0.978     0.979     0.978       578\n",
      "        I_r      0.971     0.964     0.968       388\n",
      "       B_vn      0.848     0.871     0.859      1653\n",
      "       I_vn      0.853     0.857     0.855      2130\n",
      "       B_vd      0.639     0.736     0.684        53\n",
      "       I_vd      0.651     0.732     0.689        56\n",
      "        B_a      0.917     0.883     0.900      1064\n",
      "        I_a      0.924     0.870     0.896       877\n",
      "        B_t      0.978     0.970     0.974       542\n",
      "        I_t      0.981     0.985     0.983      1523\n",
      "       B_ti      0.933     0.986     0.959      2099\n",
      "       I_ti      0.937     0.996     0.965      4921\n",
      "        B_u      0.994     0.997     0.996      1765\n",
      "        B_c      0.951     0.968     0.960       625\n",
      "        B_d      0.939     0.935     0.937       787\n",
      "        I_d      0.940     0.926     0.933       528\n",
      "       B_ns      0.895     0.820     0.856       427\n",
      "       I_ns      0.858     0.798     0.827       672\n",
      "        I_c      0.986     0.972     0.979       144\n",
      "        B_f      0.947     0.961     0.954       337\n",
      "       B_ad      0.873     0.920     0.896       187\n",
      "       I_ad      0.864     0.922     0.892       179\n",
      "        I_f      0.854     0.933     0.892        75\n",
      "       B_xc      0.803     0.778     0.790        63\n",
      "        B_s      0.937     0.983     0.959       120\n",
      "        I_s      0.940     0.984     0.962       128\n",
      "       B_an      0.662     0.705     0.683        61\n",
      "       I_an      0.645     0.702     0.672        57\n",
      "       B_nw      0.923     0.727     0.814        33\n",
      "       I_nw      0.852     0.760     0.803       121\n",
      "        I_u      1.000     0.889     0.941         9\n",
      "       B_xx      0.000     0.000     0.000        31\n",
      "       I_xx      0.000     0.000     0.000       109\n",
      "       I_xc      0.781     0.882     0.828       178\n",
      "        B_q      0.903     0.700     0.789        40\n",
      "        I_q      1.000     1.000     1.000         1\n",
      "\n",
      "avg / total      0.917     0.920     0.918     76739\n",
      "\n"
     ]
    },
    {
     "data": {
      "application/vnd.jupyter.widget-view+json": {
       "model_id": "953a27c79fe9482a9c61684e7b003ca7",
       "version_major": 2,
       "version_minor": 0
      },
      "text/plain": [
       "HBox(children=(IntProgress(value=0, max=9748), HTML(value='')))"
      ]
     },
     "metadata": {},
     "output_type": "display_data"
    }
   ],
   "source": [
    "# 恢复训练\n",
    "\n",
    "import torch\n",
    "from importlib import reload\n",
    "from modules.models import bert_models\n",
    "from modules.models import released_models\n",
    "from modules.data import bert_data\n",
    "reload(bert_data)\n",
    "reload(bert_models)\n",
    "reload(released_models)\n",
    "\n",
    "config_file = os.path.join(model_dir, 'pytorch_model.json')\n",
    "learner = released_models.recover_from_config(config_file)\n",
    "num_epochs = 20\n",
    "learner.load_model()\n",
    "learner.fit(num_epochs, target_metric='f1')\n"
   ]
  },
  {
   "cell_type": "code",
   "execution_count": 12,
   "metadata": {},
   "outputs": [
    {
     "data": {
      "text/plain": [
       "modules.data.bert_data.DataLoaderForTrain"
      ]
     },
     "execution_count": 12,
     "metadata": {},
     "output_type": "execute_result"
    }
   ],
   "source": [
    "type(learner.data.train_dl)"
   ]
  },
  {
   "cell_type": "code",
   "execution_count": 15,
   "metadata": {},
   "outputs": [
    {
     "data": {
      "application/vnd.jupyter.widget-view+json": {
       "model_id": "792d2faa44e5491d82f5ed93c7e3015a",
       "version_major": 2,
       "version_minor": 0
      },
      "text/plain": [
       "HBox(children=(IntProgress(value=0, description='bert data', max=499, style=ProgressStyle(description_width='i…"
      ]
     },
     "metadata": {},
     "output_type": "display_data"
    }
   ],
   "source": [
    "from modules.data import bert_data\n",
    "reload(bert_data)\n",
    "dl = bert_data.get_bert_data_loader_for_predict(valid_path, learner)"
   ]
  },
  {
   "cell_type": "code",
   "execution_count": 17,
   "metadata": {},
   "outputs": [
    {
     "data": {
      "application/vnd.jupyter.widget-view+json": {
       "model_id": "74557cbb677449b68f69ef0f6095ffd0",
       "version_major": 2,
       "version_minor": 0
      },
      "text/plain": [
       "HBox(children=(IntProgress(value=0, max=32), HTML(value='')))"
      ]
     },
     "metadata": {},
     "output_type": "display_data"
    }
   ],
   "source": [
    "# learner.load_model()\n",
    "preds = learner.predict(dl)"
   ]
  },
  {
   "cell_type": "code",
   "execution_count": 19,
   "metadata": {},
   "outputs": [
    {
     "name": "stdout",
     "output_type": "stream",
     "text": [
      "             precision    recall  f1-score   support\n",
      "\n",
      "          c      0.420     0.427     0.424       625\n",
      "         ti      0.540     0.572     0.556      2099\n",
      "          a      0.439     0.430     0.435      1064\n",
      "          p      0.499     0.494     0.497       923\n",
      "          m      0.457     0.455     0.456       776\n",
      "         nw      0.500     0.394     0.441        33\n",
      "         xc      0.394     0.413     0.403        63\n",
      "         an      0.231     0.246     0.238        61\n",
      "          u      0.431     0.432     0.431      1765\n",
      "         nz      0.385     0.299     0.337       766\n",
      "          n      0.488     0.474     0.481      5111\n",
      "          q      0.387     0.300     0.338        40\n",
      "         nt      0.524     0.552     0.538      2248\n",
      "         vn      0.409     0.423     0.416      1653\n",
      "         vd      0.180     0.208     0.193        53\n",
      "         nr      0.545     0.569     0.557      1692\n",
      "         xx      0.000     0.000     0.000        31\n",
      "          f      0.462     0.469     0.465       337\n",
      "          d      0.438     0.436     0.437       787\n",
      "         ad      0.455     0.481     0.468       187\n",
      "          r      0.471     0.471     0.471       578\n",
      "         ns      0.399     0.372     0.385       427\n",
      "          w      0.545     0.544     0.544      6365\n",
      "          v      0.486     0.472     0.479      3741\n",
      "          s      0.508     0.533     0.520       120\n",
      "          t      0.609     0.607     0.608       542\n",
      "\n",
      "avg / total      0.492     0.492     0.492     32087\n",
      "\n"
     ]
    }
   ],
   "source": [
    "from modules.utils.plot_metrics import get_bert_span_report\n",
    "clf_report = get_bert_span_report(dl, preds)\n",
    "print(clf_report)"
   ]
  },
  {
   "cell_type": "code",
   "execution_count": 10,
   "metadata": {},
   "outputs": [],
   "source": [
    "from blnlp import pos\n",
    "from importlib import reload\n",
    "reload(pos)\n",
    "tagger = pos.PosTagger()\n"
   ]
  },
  {
   "cell_type": "code",
   "execution_count": 13,
   "metadata": {},
   "outputs": [
    {
     "data": {
      "application/vnd.jupyter.widget-view+json": {
       "model_id": "e25a0a2f5f264e5eb4136cb3c1398b6f",
       "version_major": 2,
       "version_minor": 0
      },
      "text/plain": [
       "HBox(children=(IntProgress(value=0, description='bert data', max=1, style=ProgressStyle(description_width='ini…"
      ]
     },
     "metadata": {},
     "output_type": "display_data"
    },
    {
     "name": "stdout",
     "output_type": "stream",
     "text": [
      "\n"
     ]
    },
    {
     "data": {
      "application/vnd.jupyter.widget-view+json": {
       "model_id": "7fa747e30be242a08a4300b13453b847",
       "version_major": 2,
       "version_minor": 0
      },
      "text/plain": [
       "HBox(children=(IntProgress(value=0, max=1), HTML(value='')))"
      ]
     },
     "metadata": {},
     "output_type": "display_data"
    },
    {
     "name": "stdout",
     "output_type": "stream",
     "text": [
      "\n",
      "0.28635597229003906\n"
     ]
    },
    {
     "data": {
      "text/plain": [
       "[('近日', 't'),\n",
       " ('，', 'w'),\n",
       " ('编程猫', 'nt'),\n",
       " ('（', 'w'),\n",
       " ('深圳点猫科技有限公司', 'nt'),\n",
       " ('）', 'w'),\n",
       " ('正式', 'ad'),\n",
       " ('对外', 'd'),\n",
       " ('宣布完成', 'v'),\n",
       " ('B', 'xc'),\n",
       " ('轮', 'q'),\n",
       " ('1.2亿元', 'm'),\n",
       " ('融资', 'vn'),\n",
       " ('。', 'w'),\n",
       " ('本轮', 'r'),\n",
       " ('融资', 'vn'),\n",
       " ('由', 'p'),\n",
       " ('高瓴资本', 'nt'),\n",
       " ('领', 'v'),\n",
       " ('投', 'vn'),\n",
       " ('，', 'w'),\n",
       " ('清流资本', 'nt'),\n",
       " ('、', 'w'),\n",
       " ('清晗基金', 'nt'),\n",
       " ('跟', 'vd'),\n",
       " ('投', 'v'),\n",
       " ('，', 'w'),\n",
       " ('天使轮', 'nz'),\n",
       " ('投资者', 'n'),\n",
       " ('猎豹移动', 'nt'),\n",
       " ('继续跟', 'vd'),\n",
       " ('投', 'v'),\n",
       " ('。', 'w')]"
      ]
     },
     "execution_count": 13,
     "metadata": {},
     "output_type": "execute_result"
    }
   ],
   "source": [
    "import time\n",
    "\n",
    "st = time.time()\n",
    "text = '近日，编程猫（深圳点猫科技有限公司）正式对外宣布完成B轮1.2亿元融资。本轮融资由高瓴资本领投，清流资本、清晗基金跟投，天使轮投资者猎豹移动继续跟投。'\n",
    "# text = '未来编程教育产业将蓬勃发展，编程猫作为提供工具与内容的企业，有望长期处于行业领跑者地位。'\n",
    "res = tagger.cut(text)\n",
    "ed = time.time()\n",
    "print(ed - st)\n",
    "res"
   ]
  },
  {
   "cell_type": "code",
   "execution_count": 64,
   "metadata": {},
   "outputs": [
    {
     "data": {
      "text/plain": [
       "False"
      ]
     },
     "execution_count": 64,
     "metadata": {},
     "output_type": "execute_result"
    }
   ],
   "source": [
    "tagger.learner.data.is_meta"
   ]
  }
 ],
 "metadata": {
  "kernelspec": {
   "display_name": "Python 3",
   "language": "python",
   "name": "python3"
  },
  "language_info": {
   "codemirror_mode": {
    "name": "ipython",
    "version": 3
   },
   "file_extension": ".py",
   "mimetype": "text/x-python",
   "name": "python",
   "nbconvert_exporter": "python",
   "pygments_lexer": "ipython3",
   "version": "3.6.7"
  }
 },
 "nbformat": 4,
 "nbformat_minor": 2
}
