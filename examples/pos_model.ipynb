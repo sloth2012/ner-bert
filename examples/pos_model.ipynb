{
 "cells": [
  {
   "cell_type": "code",
   "execution_count": 1,
   "metadata": {},
   "outputs": [],
   "source": [
    "%reload_ext autoreload\n",
    "%autoreload 2\n",
    "%matplotlib inline\n",
    "\n",
    "import pandas as pd\n",
    "import warnings\n",
    "import os\n",
    "import sys\n",
    "import re\n",
    "\n",
    "sys.path.append(\"../\")\n",
    "warnings.filterwarnings(\"ignore\")"
   ]
  },
  {
   "cell_type": "code",
   "execution_count": 2,
   "metadata": {},
   "outputs": [],
   "source": [
    "import os\n",
    "\n",
    "\n",
    "root_dir = os.path.abspath('../')\n",
    "\n",
    "data_path = os.path.join(root_dir, 'datadrive/bailian')\n",
    "if not os.path.exists(data_path):\n",
    "    os.makedirs(data_path, exist_ok=True)\n",
    "\n",
    "train_path = os.path.join(data_path, 'pos/train.csv')\n",
    "valid_path = os.path.join(data_path, 'pos/valid.csv')\n",
    "\n",
    "custom_path = os.path.join(data_path, 'pos/custom.csv')\n",
    "\n",
    "model_dir = os.path.join(root_dir, 'datadrive/models/chinese_L-12_H-768_A-12/')\n",
    "init_checkpoint_pt = os.path.join(model_dir, 'bert_model.bin')\n",
    "bert_config_file = os.path.join(model_dir, 'bert_config.json')\n",
    "config_file = os.path.join(model_dir, 'pos.json')\n",
    "vocab_file = os.path.join(model_dir, 'vocab.txt')\n",
    "model_pt = os.path.join(model_dir, 'pos.bin')\n",
    "\n"
   ]
  },
  {
   "cell_type": "code",
   "execution_count": 3,
   "metadata": {},
   "outputs": [
    {
     "name": "stderr",
     "output_type": "stream",
     "text": [
      "2019-04-18 20:32:33,133 INFO: load default user_dict in /Users/lx/PycharmProjects/ner-bert/bailian_nlp/datadrive/dict/user_dict.txt\n",
      "2019-04-18 20:32:33,135 INFO: 本次加载词条数：4\n",
      "2019-04-18 20:32:33,136 INFO: 当前总词条数: 4\n",
      "2019-04-18 20:32:34,407 INFO: found pos model file in /Users/lx/PycharmProjects/ner-bert/bailian_nlp/datadrive/models/chinese_L-12_H-768_A-12/pos.bin\n",
      "2019-04-18 20:32:34,802 INFO: pos model loads success!\n"
     ]
    }
   ],
   "source": [
    "from bailian_nlp import PosTagger\n",
    "tagger = PosTagger()\n"
   ]
  },
  {
   "cell_type": "code",
   "execution_count": null,
   "metadata": {},
   "outputs": [],
   "source": [
    "dataloader = tagger.learner.data\n",
    "\n",
    "dataloader.reload_dl(custom_path)\n",
    "dataloader.reload_dl(valid_path, for_train=False)\n"
   ]
  },
  {
   "cell_type": "code",
   "execution_count": 9,
   "metadata": {},
   "outputs": [
    {
     "data": {
      "application/vnd.jupyter.widget-view+json": {
       "model_id": "9a30a74f72374afd964f54f7923758a1",
       "version_major": 2,
       "version_minor": 0
      },
      "text/plain": [
       "HBox(children=(IntProgress(value=0, description='bert data', max=1, style=ProgressStyle(description_width='ini…"
      ]
     },
     "metadata": {},
     "output_type": "display_data"
    },
    {
     "name": "stderr",
     "output_type": "stream",
     "text": [
      "2019-04-18 15:05:58,173 DEBUG: get_data cost 0.036472s\n"
     ]
    },
    {
     "name": "stdout",
     "output_type": "stream",
     "text": [
      "\n"
     ]
    },
    {
     "data": {
      "application/vnd.jupyter.widget-view+json": {
       "model_id": "86a1ec3086a347a7b0807ef38041781f",
       "version_major": 2,
       "version_minor": 0
      },
      "text/plain": [
       "HBox(children=(IntProgress(value=0, max=1), HTML(value='')))"
      ]
     },
     "metadata": {},
     "output_type": "display_data"
    },
    {
     "name": "stderr",
     "output_type": "stream",
     "text": [
      "2019-04-18 15:05:58,263 DEBUG: text_array_for_predict cost 0.129615s\n"
     ]
    },
    {
     "name": "stdout",
     "output_type": "stream",
     "text": [
      "\n"
     ]
    },
    {
     "data": {
      "text/plain": [
       "[[('！！', 'ns'), ('！！', 'ns'), ('！！', 'ns'), ('！！', 'ns'), ('！！！', 'nr')]]"
      ]
     },
     "execution_count": 9,
     "metadata": {},
     "output_type": "execute_result"
    }
   ],
   "source": [
    "text = '！！！！！！！！！！！'\n",
    "tagger.lexerCustom(text)"
   ]
  },
  {
   "cell_type": "code",
   "execution_count": 7,
   "metadata": {},
   "outputs": [
    {
     "data": {
      "application/vnd.jupyter.widget-view+json": {
       "model_id": "6c3030741aa34842b3bb64bd3b99f4ef",
       "version_major": 2,
       "version_minor": 0
      },
      "text/plain": [
       "HBox(children=(IntProgress(value=0, description='bert data', max=7, style=ProgressStyle(description_width='ini…"
      ]
     },
     "metadata": {},
     "output_type": "display_data"
    },
    {
     "name": "stderr",
     "output_type": "stream",
     "text": [
      "2019-04-18 21:04:41,000 DEBUG: get_data cost 0.032963s\n"
     ]
    },
    {
     "name": "stdout",
     "output_type": "stream",
     "text": [
      "\n"
     ]
    },
    {
     "data": {
      "application/vnd.jupyter.widget-view+json": {
       "model_id": "8faba0683c114fc1bee3597e8b260733",
       "version_major": 2,
       "version_minor": 0
      },
      "text/plain": [
       "HBox(children=(IntProgress(value=0, max=1), HTML(value='')))"
      ]
     },
     "metadata": {},
     "output_type": "display_data"
    },
    {
     "name": "stderr",
     "output_type": "stream",
     "text": [
      "2019-04-18 21:04:42,283 DEBUG: text_array_for_predict cost 1.317004s\n"
     ]
    },
    {
     "name": "stdout",
     "output_type": "stream",
     "text": [
      "\n"
     ]
    },
    {
     "data": {
      "text/plain": [
       "[[('近日', 't'),\n",
       "  ('，', 'w'),\n",
       "  ('编程猫', 'nt'),\n",
       "  ('（', 'w'),\n",
       "  ('深圳点猫科技有限公司', 'nt'),\n",
       "  ('）', 'w'),\n",
       "  ('正式', 'ad'),\n",
       "  ('对外', 'd'),\n",
       "  ('宣布', 'v'),\n",
       "  ('完成', 'v'),\n",
       "  ('B', 'xc'),\n",
       "  ('轮', 'q'),\n",
       "  ('1.2亿元', 'm'),\n",
       "  ('融资', 'vn'),\n",
       "  ('。', 'w'),\n",
       "  ('本轮', 'r'),\n",
       "  ('融资', 'vn'),\n",
       "  ('由', 'p'),\n",
       "  ('高瓴资本', 'nt'),\n",
       "  ('领', 'v'),\n",
       "  ('投', 'vn'),\n",
       "  ('，', 'w'),\n",
       "  ('清流资本', 'nt'),\n",
       "  ('、', 'w'),\n",
       "  ('清晗基金', 'nt'),\n",
       "  ('跟', 'vd'),\n",
       "  ('投', 'v'),\n",
       "  ('，', 'w'),\n",
       "  ('天使轮', 'nz'),\n",
       "  ('投资者', 'n'),\n",
       "  ('猎豹移动', 'nt'),\n",
       "  ('继续', 'vd'),\n",
       "  ('跟', 'vd'),\n",
       "  ('投', 'v'),\n",
       "  ('。', 'w')],\n",
       " [('美年大健康产业（集团）有限公司', 'nt'),\n",
       "  ('美年大健康产业（集团）有限公司', 'nt'),\n",
       "  ('美年大健康产业（集团）有限公司', 'nt'),\n",
       "  ('始创于', 'xx'),\n",
       "  ('2004年', 't'),\n",
       "  (',', 'w'),\n",
       "  ('是', 'v'),\n",
       "  ('中国健康体检和医疗服务集团', 'nt'),\n",
       "  (',', 'w'),\n",
       "  ('总部', 'n'),\n",
       "  ('位于', 'v'),\n",
       "  ('上海', 'ns'),\n",
       "  (',', 'w'),\n",
       "  ('深耕', 'v'),\n",
       "  ('布局', 'v'),\n",
       "  ('北京', 'ns'),\n",
       "  ('、', 'w'),\n",
       "  ('深圳', 'ns'),\n",
       "  ('、', 'w'),\n",
       "  ('沈阳', 'ns'),\n",
       "  ('、', 'w'),\n",
       "  ('广州', 'ns'),\n",
       "  ('、', 'w'),\n",
       "  ('成都', 'ns'),\n",
       "  ('、', 'w'),\n",
       "  ('武汉', 'ns'),\n",
       "  ('、', 'w'),\n",
       "  ('.', 'w'),\n",
       "  ('.', 'w'),\n",
       "  ('.', 'w')],\n",
       " [('雷军', 'nr'), ('马化腾', 'nr'), ('李彦宏', 'nr')],\n",
       " [('本钢板材股份有限公司', 'nt'), ('成都数联铭品科技有限公司', 'nt'), ('美欣达集团有限公司', 'nt')],\n",
       " [('“”“”', 'nz')],\n",
       " [('有限', 'a')],\n",
       " [(\"Your's data \", 'nt')]]"
      ]
     },
     "execution_count": 7,
     "metadata": {},
     "output_type": "execute_result"
    }
   ],
   "source": [
    "text_list = [\n",
    "#     '张建忠保定 晚上好！'\n",
    "#     '百炼成钢',\n",
    "#     '\\n',\n",
    "#     '好人是好人，\\n坏人是坏人',\n",
    "    '近日，编程猫（深圳点猫科技有限公司）正式对外宣布完成B轮1.2亿元融资。本轮融资由高瓴资本领投，清流资本、清晗基金跟投，天使轮投资者猎豹移动继续跟投。',\n",
    "    '美年大健康产业（集团）有限公司美年大健康产业（集团）有限公司美年大健康产业（集团）有限公司始创于2004年,是中国健康体检和医疗服务集团,总部位于上海,深耕布局北京、深圳、沈阳、广州、成都、武汉、...',\n",
    "    '雷军马化腾李彦宏',\n",
    "    '本钢板材股份有限公司成都数联铭品科技有限公司美欣达集团有限公司',\n",
    "    \"“”“”\",\n",
    "    '有限',\n",
    "    'Your\\'s data '\n",
    "]\n",
    "\n",
    "tagger.lexerCustom(text_list)"
   ]
  },
  {
   "cell_type": "code",
   "execution_count": 13,
   "metadata": {},
   "outputs": [
    {
     "data": {
      "text/plain": [
       "[]"
      ]
     },
     "execution_count": 13,
     "metadata": {},
     "output_type": "execute_result"
    }
   ],
   "source": [
    "dic.trie.parse_text(text)"
   ]
  },
  {
   "cell_type": "markdown",
   "metadata": {},
   "source": [
    "## 添加自定义词性标注结果集\n",
    "\n",
    "input: 中文/n 博大精深/a  \n",
    "\n",
    "output: n_B n_I a_B a_I"
   ]
  },
  {
   "cell_type": "code",
   "execution_count": null,
   "metadata": {},
   "outputs": [],
   "source": [
    "def tag_sent_convter(pos_sent, delimiter='△△△'):\n",
    "    '''\n",
    "        将词性标注句子转成bert训练的输入格式\n",
    "    '''\n",
    "    import re\n",
    "    import json\n",
    "    \n",
    "    p = re.compile(r'(.+?)/(?:([a-z]{1,2})(?:$| ))')\n",
    "    seg_file = os.path.join(data_path, 'final_baidu-23w.txt')\n",
    "    \n",
    "    line = pos_sent.strip()\n",
    "    if not line:\n",
    "        return\n",
    "    \n",
    "    words = []\n",
    "    flags = []\n",
    "    \n",
    "    replace_chars = [\n",
    "        '\\x97',\n",
    "        '\\uf076',\n",
    "        \"\\ue405\",\n",
    "        \"\\ue105\",\n",
    "        \"\\ue415\",\n",
    "        '\\x07',\n",
    "        '\\x7f',\n",
    "        '\\u3000',\n",
    "        '\\xa0',\n",
    "        ' '\n",
    "    ]\n",
    "    for word, flag in p.findall(line):\n",
    "        char_list = [c if c not in replace_chars  else 'unk' for c in list(word)]\n",
    "\n",
    "        tag_list = [f'B_{flag}'] + [f'I_{flag}']  * (len(char_list) - 1)\n",
    "\n",
    "        if len(char_list) != len(tag_list):\n",
    "            print(line)\n",
    "            print(word, flag)\n",
    "            print(char_list, tag_list)\n",
    "\n",
    "        words.extend(char_list)\n",
    "        flags.extend(tag_list)\n",
    "    \n",
    "    if len(words) == 0:\n",
    "        return\n",
    "    \n",
    "    return delimiter.join([\n",
    "        ' '.join(flags),\n",
    "        ' '.join(words)\n",
    "    ])\n",
    "\n",
    "def save2customfile(pos_sent):\n",
    "    '''\n",
    "        保存到自定义文档中，主要用于增量训练反馈数据\n",
    "    '''\n",
    "    \n",
    "    bert_sent = tag_sent_convter(pos_sent)\n",
    "    if not bert_sent:\n",
    "        return\n",
    "    \n",
    "    with open(custom_path, 'a') as f:\n",
    "        f.write(bert_sent)\n",
    "        f.write('\\n')\n",
    "    \n",
    "    \n",
    "\n",
    "pos_sents = [\n",
    "    '周光/nr 明确/ad 否认/v CEO/ti 佟显侨/nr 和/c CTO/ti 衡量/nr 说/v 的/u 罪名/n ，/w 并/c 说会/v 跟/p 投资人/vn 、/w 技术leader/ti 一起/d 出来说明/v',\n",
    "    '当时/t 其/r 2位/m 创始人/ti 佟显侨/nr 和/c 衡量/nr 推动发出/v 公司公告/n ，/w 把/p 还在/v 东京/ns 代表/v RoadStar/nt 出席/v 活动/n 的/u 另/r 一/m 联合创始人/ti 周光/nr 开除/v 。/w'\n",
    "]\n",
    "\n",
    "for pos_sent in pos_sents:\n",
    "    save2customfile(pos_sent)\n",
    "\n",
    "\n",
    "            "
   ]
  }
 ],
 "metadata": {
  "kernelspec": {
   "display_name": "Python [conda env:py3.6]",
   "language": "python",
   "name": "conda-env-py3.6-py"
  },
  "language_info": {
   "codemirror_mode": {
    "name": "ipython",
    "version": 3
   },
   "file_extension": ".py",
   "mimetype": "text/x-python",
   "name": "python",
   "nbconvert_exporter": "python",
   "pygments_lexer": "ipython3",
   "version": "3.6.7"
  }
 },
 "nbformat": 4,
 "nbformat_minor": 2
}
