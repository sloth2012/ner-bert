{
 "cells": [
  {
   "cell_type": "code",
   "execution_count": 1,
   "metadata": {},
   "outputs": [],
   "source": [
    "%reload_ext autoreload\n",
    "%autoreload 2\n",
    "%matplotlib inline\n",
    "\n",
    "import pandas as pd\n",
    "import warnings\n",
    "import os\n",
    "import sys\n",
    "import re\n",
    "\n",
    "sys.path.append(\"../\")\n",
    "warnings.filterwarnings(\"ignore\")"
   ]
  },
  {
   "cell_type": "code",
   "execution_count": 2,
   "metadata": {},
   "outputs": [],
   "source": [
    "import os\n",
    "\n",
    "\n",
    "root_dir = os.path.abspath('../')\n",
    "\n",
    "data_path = os.path.join(root_dir, 'datadrive/bailian')\n",
    "if not os.path.exists(data_path):\n",
    "    os.makedirs(data_path, exist_ok=True)\n",
    "\n",
    "train_path = os.path.join(data_path, 'pos/train.csv')\n",
    "valid_path = os.path.join(data_path, 'pos/valid_small.csv')\n",
    "\n",
    "model_dir = os.path.join(root_dir, 'datadrive/models/chinese_L-12_H-768_A-12/')\n",
    "init_checkpoint_pt = os.path.join(model_dir, 'bert_model.bin')\n",
    "bert_config_file = os.path.join(model_dir, 'bert_config.json')\n",
    "config_file = os.path.join(model_dir, 'pos.json')\n",
    "vocab_file = os.path.join(model_dir, 'vocab.txt')\n",
    "model_pt = os.path.join(model_dir, 'pos.bin')\n",
    "\n"
   ]
  },
  {
   "cell_type": "code",
   "execution_count": 4,
   "metadata": {},
   "outputs": [],
   "source": [
    "from blnlp import settings, utils\n",
    "mapping = {\n",
    "    'train_path': settings.DEFAULT_POS_TRAIN_FILE,\n",
    "    'valid_path': settings.DEFAULT_POS_VALID_FILE,\n",
    "    'vocab_file': settings.CHINESE_BERT_VOCAB_FILE,\n",
    "    'bert_config_file': settings.CHINESE_BERT_MODEL_CONFIG_FILE,\n",
    "    'init_checkpoint_pt': settings.CHINESE_BERT_MODEL_FILE,\n",
    "    'best_model_path': settings.DEFAULT_POS_MODEL_FILE\n",
    "}\n",
    "\n",
    "config = utils.valid_config(settings.DEFAULT_POS_MODEL_CONFIG_FILE, mapping)\n",
    "\n",
    "import torch\n",
    "from importlib import reload\n",
    "from modules.models import bert_models\n",
    "from modules.models import released_models\n",
    "from modules.data import bert_data\n",
    "reload(bert_data)\n",
    "reload(bert_models)\n",
    "reload(released_models)\n",
    "\n",
    "learner = released_models.recover_from_config(config, for_train=False)\n",
    "learner.load_model()"
   ]
  },
  {
   "cell_type": "code",
   "execution_count": null,
   "metadata": {},
   "outputs": [],
   "source": []
  }
 ],
 "metadata": {
  "kernelspec": {
   "display_name": "Python 3",
   "language": "python",
   "name": "python3"
  },
  "language_info": {
   "codemirror_mode": {
    "name": "ipython",
    "version": 3
   },
   "file_extension": ".py",
   "mimetype": "text/x-python",
   "name": "python",
   "nbconvert_exporter": "python",
   "pygments_lexer": "ipython3",
   "version": "3.6.7"
  }
 },
 "nbformat": 4,
 "nbformat_minor": 2
}
