{
 "cells": [
  {
   "cell_type": "code",
   "execution_count": 1,
   "metadata": {},
   "outputs": [],
   "source": [
    "%reload_ext autoreload\n",
    "%autoreload 2\n",
    "%matplotlib inline\n",
    "\n",
    "import pandas as pd\n",
    "import warnings\n",
    "import os\n",
    "import sys\n",
    "import re\n",
    "\n",
    "sys.path.append(\"../\")\n",
    "warnings.filterwarnings(\"ignore\")"
   ]
  },
  {
   "cell_type": "code",
   "execution_count": 2,
   "metadata": {},
   "outputs": [],
   "source": [
    "import os\n",
    "\n",
    "\n",
    "root_dir = os.path.abspath('../')\n",
    "\n",
    "data_path = os.path.join(root_dir, 'datadrive/bailian')\n",
    "if not os.path.exists(data_path):\n",
    "    os.makedirs(data_path, exist_ok=True)\n",
    "\n",
    "train_path = os.path.join(data_path, 'pos/train.csv')\n",
    "valid_path = os.path.join(data_path, 'pos/valid_small.csv')\n",
    "\n",
    "custom_path = os.path.join(data_path, 'pos/custom.csv')\n",
    "\n",
    "model_dir = os.path.join(root_dir, 'datadrive/models/chinese_L-12_H-768_A-12/')\n",
    "init_checkpoint_pt = os.path.join(model_dir, 'bert_model.bin')\n",
    "bert_config_file = os.path.join(model_dir, 'bert_config.json')\n",
    "config_file = os.path.join(model_dir, 'pos.json')\n",
    "vocab_file = os.path.join(model_dir, 'vocab.txt')\n",
    "model_pt = os.path.join(model_dir, 'pos.bin')\n",
    "\n"
   ]
  },
  {
   "cell_type": "code",
   "execution_count": 5,
   "metadata": {},
   "outputs": [],
   "source": [
    "from blnlp.pos import PosTagger\n",
    "tagger = PosTagger()\n"
   ]
  },
  {
   "cell_type": "code",
   "execution_count": null,
   "metadata": {},
   "outputs": [],
   "source": [
    "dataloader = tagger.learner.data\n",
    "\n",
    "dataloader.reload_dl(custom_path)\n",
    "dataloader.reload_dl(valid_path, for_train=False)\n"
   ]
  },
  {
   "cell_type": "code",
   "execution_count": null,
   "metadata": {},
   "outputs": [],
   "source": [
    "tagger.delete_userdict()\n",
    "tagger.load_userdict('./untitled.txt')\n",
    "text = '百炼成钢'\n",
    "tagger.lexerCustom(text)"
   ]
  },
  {
   "cell_type": "code",
   "execution_count": 6,
   "metadata": {},
   "outputs": [
    {
     "data": {
      "application/vnd.jupyter.widget-view+json": {
       "model_id": "3a5c7463a05b4872bf3d86ddde8f56f4",
       "version_major": 2,
       "version_minor": 0
      },
      "text/plain": [
       "HBox(children=(IntProgress(value=0, description='bert data', max=3, style=ProgressStyle(description_width='ini…"
      ]
     },
     "metadata": {},
     "output_type": "display_data"
    },
    {
     "name": "stderr",
     "output_type": "stream",
     "text": [
      "2019-04-10 21:21:25,942 DEBUG: get_data cost 0.074253s\n"
     ]
    },
    {
     "name": "stdout",
     "output_type": "stream",
     "text": [
      "\n"
     ]
    },
    {
     "data": {
      "application/vnd.jupyter.widget-view+json": {
       "model_id": "772debf6cebd4d3ea27cf23c7034a126",
       "version_major": 2,
       "version_minor": 0
      },
      "text/plain": [
       "HBox(children=(IntProgress(value=0, max=1), HTML(value='')))"
      ]
     },
     "metadata": {},
     "output_type": "display_data"
    },
    {
     "name": "stderr",
     "output_type": "stream",
     "text": [
      "2019-04-10 21:21:26,086 DEBUG: text_array_for_predict cost 0.226675s\n"
     ]
    },
    {
     "name": "stdout",
     "output_type": "stream",
     "text": [
      "\n"
     ]
    },
    {
     "data": {
      "text/plain": [
       "[[('百炼成钢', 'nt')],\n",
       " [('\\n', 'w')],\n",
       " [('好人', 'n'),\n",
       "  ('是', 'v'),\n",
       "  ('好人', 'n'),\n",
       "  ('，', 'w'),\n",
       "  ('\\n', 'w'),\n",
       "  ('坏人', 'n'),\n",
       "  ('是', 'v'),\n",
       "  ('坏人', 'n')]]"
      ]
     },
     "execution_count": 6,
     "metadata": {},
     "output_type": "execute_result"
    }
   ],
   "source": [
    "text_list = [\n",
    "    '百炼成钢',\n",
    "    '\\n',\n",
    "    '好人是好人，\\n坏人是坏人'\n",
    "]\n",
    "\n",
    "tagger.lexerCustom(text_list)"
   ]
  },
  {
   "cell_type": "code",
   "execution_count": null,
   "metadata": {},
   "outputs": [],
   "source": []
  },
  {
   "cell_type": "markdown",
   "metadata": {},
   "source": [
    "## 添加自定义词性标注结果集\n",
    "\n",
    "input: 中文/n 博大精深/a  \n",
    "\n",
    "output: n_B n_I a_B a_I"
   ]
  },
  {
   "cell_type": "code",
   "execution_count": null,
   "metadata": {},
   "outputs": [],
   "source": [
    "def tag_sent_convter(pos_sent, delimiter='△△△'):\n",
    "    '''\n",
    "        将词性标注句子转成bert训练的输入格式\n",
    "    '''\n",
    "    import re\n",
    "    import json\n",
    "    \n",
    "    p = re.compile(r'(.+?)/(?:([a-z]{1,2})(?:$| ))')\n",
    "    seg_file = os.path.join(data_path, 'final_baidu-23w.txt')\n",
    "    \n",
    "    line = pos_sent.strip()\n",
    "    if not line:\n",
    "        return\n",
    "    \n",
    "    words = []\n",
    "    flags = []\n",
    "    \n",
    "    replace_chars = [\n",
    "        '\\x97',\n",
    "        '\\uf076',\n",
    "        \"\\ue405\",\n",
    "        \"\\ue105\",\n",
    "        \"\\ue415\",\n",
    "        '\\x07',\n",
    "        '\\x7f',\n",
    "        '\\u3000',\n",
    "        '\\xa0',\n",
    "        ' '\n",
    "    ]\n",
    "    for word, flag in p.findall(line):\n",
    "        char_list = [c if c not in replace_chars  else 'unk' for c in list(word)]\n",
    "\n",
    "        tag_list = [f'B_{flag}'] + [f'I_{flag}']  * (len(char_list) - 1)\n",
    "\n",
    "        if len(char_list) != len(tag_list):\n",
    "            print(line)\n",
    "            print(word, flag)\n",
    "            print(char_list, tag_list)\n",
    "\n",
    "        words.extend(char_list)\n",
    "        flags.extend(tag_list)\n",
    "    \n",
    "    if len(words) == 0:\n",
    "        return\n",
    "    \n",
    "    return delimiter.join([\n",
    "        ' '.join(flags),\n",
    "        ' '.join(words)\n",
    "    ])\n",
    "\n",
    "def save2customfile(pos_sent):\n",
    "    '''\n",
    "        保存到自定义文档中，主要用于增量训练反馈数据\n",
    "    '''\n",
    "    \n",
    "    bert_sent = tag_sent_convter(pos_sent)\n",
    "    if not bert_sent:\n",
    "        return\n",
    "    \n",
    "    with open(custom_path, 'a') as f:\n",
    "        f.write(bert_sent)\n",
    "        f.write('\\n')\n",
    "    \n",
    "    \n",
    "\n",
    "pos_sents = [\n",
    "    '周光/nr 明确/ad 否认/v CEO/ti 佟显侨/nr 和/c CTO/ti 衡量/nr 说/v 的/u 罪名/n ，/w 并/c 说会/v 跟/p 投资人/vn 、/w 技术leader/ti 一起/d 出来说明/v',\n",
    "    '当时/t 其/r 2位/m 创始人/ti 佟显侨/nr 和/c 衡量/nr 推动发出/v 公司公告/n ，/w 把/p 还在/v 东京/ns 代表/v RoadStar/nt 出席/v 活动/n 的/u 另/r 一/m 联合创始人/ti 周光/nr 开除/v 。/w'\n",
    "]\n",
    "\n",
    "for pos_sent in pos_sents:\n",
    "    save2customfile(pos_sent)\n",
    "\n",
    "\n",
    "            "
   ]
  },
  {
   "cell_type": "code",
   "execution_count": null,
   "metadata": {},
   "outputs": [],
   "source": [
    "from modules.layers import bert_modeling\n",
    "bert_config = bert_modeling.BertConfig.from_json_file(bert_config_file)\n",
    "model = bert_modeling.BertModel(bert_config)"
   ]
  },
  {
   "cell_type": "code",
   "execution_count": null,
   "metadata": {},
   "outputs": [],
   "source": [
    "from modules.train import train\n",
    "reload(train)\n",
    "num_epochs = 20\n",
    "learner = train.NerLearner(model, data,\n",
    "                     best_model_path=model_pt,\n",
    "                     lr=0.001, clip=1.0, sup_labels=data.id2label,\n",
    "                     t_total=num_epochs * len(data.train_dl))"
   ]
  },
  {
   "cell_type": "code",
   "execution_count": null,
   "metadata": {},
   "outputs": [],
   "source": [
    "model = bert_models.BertBiLSTMAttnCRF.create(\n",
    "    len(data.label2idx),\n",
    "    bert_config_file, \n",
    "    model_pt,\n",
    "    enc_hidden_dim=256\n",
    ")"
   ]
  },
  {
   "cell_type": "code",
   "execution_count": null,
   "metadata": {},
   "outputs": [],
   "source": [
    "torch.load(init_checkpoint_pt, map_location='cpu')"
   ]
  },
  {
   "cell_type": "code",
   "execution_count": null,
   "metadata": {},
   "outputs": [],
   "source": [
    "p = torch.load(model_pt, map_location='cpu')"
   ]
  },
  {
   "cell_type": "code",
   "execution_count": null,
   "metadata": {},
   "outputs": [],
   "source": [
    "for k in p.keys():\n",
    "    print(k)"
   ]
  }
 ],
 "metadata": {
  "kernelspec": {
   "display_name": "Python [conda env:py3.6]",
   "language": "python",
   "name": "conda-env-py3.6-py"
  },
  "language_info": {
   "codemirror_mode": {
    "name": "ipython",
    "version": 3
   },
   "file_extension": ".py",
   "mimetype": "text/x-python",
   "name": "python",
   "nbconvert_exporter": "python",
   "pygments_lexer": "ipython3",
   "version": "3.6.7"
  }
 },
 "nbformat": 4,
 "nbformat_minor": 2
}
