{
 "cells": [
  {
   "cell_type": "code",
   "execution_count": 1,
   "metadata": {},
   "outputs": [],
   "source": [
    "%reload_ext autoreload\n",
    "%autoreload 2\n",
    "%matplotlib inline\n",
    "\n",
    "import pandas as pd\n",
    "import warnings\n",
    "import os\n",
    "import sys\n",
    "import re\n",
    "\n",
    "sys.path.append(\"../\")\n",
    "warnings.filterwarnings(\"ignore\")"
   ]
  },
  {
   "cell_type": "code",
   "execution_count": 2,
   "metadata": {},
   "outputs": [],
   "source": [
    "import os\n",
    "\n",
    "\n",
    "root_dir = os.path.abspath('../')\n",
    "\n",
    "data_path = os.path.join(root_dir, 'datadrive/bailian')\n",
    "if not os.path.exists(data_path):\n",
    "    os.makedirs(data_path, exist_ok=True)\n",
    "\n",
    "train_path = os.path.join(data_path, 'pos/train.csv')\n",
    "valid_path = os.path.join(data_path, 'pos/valid_small.csv')\n",
    "\n",
    "custom_path = os.path.join(data_path, 'pos/custom.csv')\n",
    "\n",
    "model_dir = os.path.join(root_dir, 'datadrive/models/chinese_L-12_H-768_A-12/')\n",
    "init_checkpoint_pt = os.path.join(model_dir, 'bert_model.bin')\n",
    "bert_config_file = os.path.join(model_dir, 'bert_config.json')\n",
    "config_file = os.path.join(model_dir, 'pos.json')\n",
    "vocab_file = os.path.join(model_dir, 'vocab.txt')\n",
    "model_pt = os.path.join(model_dir, 'pos.bin')\n",
    "\n"
   ]
  },
  {
   "cell_type": "code",
   "execution_count": 5,
   "metadata": {},
   "outputs": [
    {
     "name": "stderr",
     "output_type": "stream",
     "text": [
      "2019-04-11 20:39:57,110 INFO: load default user_dict in /Users/lx/PycharmProjects/ner-bert/bailian_nlp/datadrive/dict/user_dict.txt\n",
      "2019-04-11 20:39:57,111 INFO: 本次加载词条数：4\n",
      "2019-04-11 20:39:57,112 INFO: 当前总词条数: 4\n",
      "2019-04-11 20:39:58,269 INFO: found pos model file in /Users/lx/PycharmProjects/ner-bert/bailian_nlp/datadrive/models/chinese_L-12_H-768_A-12/pos.bin\n",
      "2019-04-11 20:39:58,688 INFO: pos model loads success!\n"
     ]
    }
   ],
   "source": [
    "from bailian_nlp import PosTagger\n",
    "tagger = PosTagger()\n"
   ]
  },
  {
   "cell_type": "code",
   "execution_count": null,
   "metadata": {},
   "outputs": [],
   "source": [
    "dataloader = tagger.learner.data\n",
    "\n",
    "dataloader.reload_dl(custom_path)\n",
    "dataloader.reload_dl(valid_path, for_train=False)\n"
   ]
  },
  {
   "cell_type": "code",
   "execution_count": null,
   "metadata": {},
   "outputs": [],
   "source": [
    "tagger.delete_userdict()\n",
    "tagger.load_userdict('./untitled.txt')\n",
    "text = '百炼成钢'\n",
    "tagger.lexerCustom(text)"
   ]
  },
  {
   "cell_type": "code",
   "execution_count": 8,
   "metadata": {},
   "outputs": [
    {
     "data": {
      "application/vnd.jupyter.widget-view+json": {
       "model_id": "d91af44a399e4190ad693c1c2a3b616f",
       "version_major": 2,
       "version_minor": 0
      },
      "text/plain": [
       "HBox(children=(IntProgress(value=0, description='bert data', max=2, style=ProgressStyle(description_width='ini…"
      ]
     },
     "metadata": {},
     "output_type": "display_data"
    },
    {
     "name": "stderr",
     "output_type": "stream",
     "text": [
      "2019-04-12 19:55:58,999 DEBUG: get_data cost 0.029539s\n"
     ]
    },
    {
     "name": "stdout",
     "output_type": "stream",
     "text": [
      "\n"
     ]
    },
    {
     "data": {
      "application/vnd.jupyter.widget-view+json": {
       "model_id": "834048e6b08c49fc85bf1906bf0371ff",
       "version_major": 2,
       "version_minor": 0
      },
      "text/plain": [
       "HBox(children=(IntProgress(value=0, max=1), HTML(value='')))"
      ]
     },
     "metadata": {},
     "output_type": "display_data"
    },
    {
     "name": "stderr",
     "output_type": "stream",
     "text": [
      "2019-04-12 19:55:59,267 DEBUG: text_array_for_predict cost 0.298016s\n"
     ]
    },
    {
     "name": "stdout",
     "output_type": "stream",
     "text": [
      "\n",
      "[['B_nt', 'I_nt', 'I_nt', 'I_nt', 'I_nt', 'I_nt', 'I_nt', 'I_nt', 'I_nt', 'I_nt', 'I_nt', 'I_nt', 'I_nt', 'I_nt', 'I_nt', 'B_nt', 'I_nt', 'I_nt', 'I_nt', 'I_nt', 'I_nt', 'I_nt', 'I_nt', 'I_nt', 'I_nt', 'I_nt', 'I_nt', 'I_nt', 'I_nt', 'I_nt', 'I_nt', 'I_nt', 'I_nt', 'I_nt', 'I_nt', 'I_nt', 'I_nt', 'I_nt', 'I_nt', 'I_nt', 'I_nt', 'I_nt', 'I_nt', 'I_nt', 'I_nt', 'B_v', 'I_v', 'B_p', 'B_t', 'I_t', 'I_t', 'I_t', 'I_t', 'B_w'], ['B_v', 'B_nt', 'I_nt', 'I_nt', 'I_nt', 'I_nt', 'I_nt', 'B_c', 'B_n', 'I_n', 'B_vn', 'I_vn', 'I_nt', 'I_nt', 'B_w', 'B_n', 'I_n', 'B_v', 'I_v', 'B_ns', 'I_ns', 'B_w', 'B_v', 'I_v', 'B_n', 'I_n', 'B_ns', 'I_ns', 'B_w', 'B_ns', 'I_ns', 'B_w', 'B_ns', 'I_ns', 'B_w', 'B_ns', 'I_ns', 'B_w', 'B_ns', 'I_ns', 'B_w', 'B_ns', 'I_ns', 'B_w', 'I_w', 'I_w', 'I_w']]\n"
     ]
    },
    {
     "data": {
      "text/plain": [
       "[[('美年大健康产业（集团）有限公司', 'nt'),\n",
       "  ('美年大健康产业（集团）有限公司美年大健康产业（集团）有限公司', 'nt'),\n",
       "  ('始创', 'v'),\n",
       "  ('于', 'p'),\n",
       "  ('2004年', 't'),\n",
       "  (',', 'w'),\n",
       "  ('是', 'v'),\n",
       "  ('中国健康体检', 'nt'),\n",
       "  ('和', 'c'),\n",
       "  ('医疗', 'n'),\n",
       "  ('服务', 'vn'),\n",
       "  ('集团', 'nt'),\n",
       "  (',', 'w'),\n",
       "  ('总部', 'n'),\n",
       "  ('位于', 'v'),\n",
       "  ('上海', 'ns'),\n",
       "  (',', 'w'),\n",
       "  ('深耕', 'v'),\n",
       "  ('布局', 'n'),\n",
       "  ('北京', 'ns'),\n",
       "  ('、', 'w'),\n",
       "  ('深圳', 'ns'),\n",
       "  ('、', 'w'),\n",
       "  ('沈阳', 'ns'),\n",
       "  ('、', 'w'),\n",
       "  ('广州', 'ns'),\n",
       "  ('、', 'w'),\n",
       "  ('成都', 'ns'),\n",
       "  ('、', 'w'),\n",
       "  ('武汉', 'ns'),\n",
       "  ('、...', 'w')]]"
      ]
     },
     "execution_count": 8,
     "metadata": {},
     "output_type": "execute_result"
    }
   ],
   "source": [
    "text_list = [\n",
    "#     '张建忠保定 晚上好！'\n",
    "#     '百炼成钢',\n",
    "#     '\\n',\n",
    "#     '好人是好人，\\n坏人是坏人',\n",
    "    '美年大健康产业（集团）有限公司美年大健康产业（集团）有限公司美年大健康产业（集团）有限公司始创于2004年,是中国健康体检和医疗服务集团,总部位于上海,深耕布局北京、深圳、沈阳、广州、成都、武汉、...',\n",
    "#     '房青林、多少度、、'\n",
    "]\n",
    "\n",
    "tagger.lexerCustom(text_list)"
   ]
  },
  {
   "cell_type": "code",
   "execution_count": 26,
   "metadata": {},
   "outputs": [
    {
     "data": {
      "text/plain": [
       "'始'"
      ]
     },
     "execution_count": 26,
     "metadata": {},
     "output_type": "execute_result"
    }
   ],
   "source": [
    "text[45]"
   ]
  },
  {
   "cell_type": "code",
   "execution_count": 12,
   "metadata": {},
   "outputs": [],
   "source": [
    "from bailian_nlp.released.pos import _DICTIONARY\n",
    "dic = _DICTIONARY\n",
    "text =     '美年大健康产业（集团）有限公司美年大健康产业（集团）有限公司美年大健康产业（集团）有限公司始创于2004年,是中国健康体检和医疗服务集团,总部位于上海,深耕布局北京、深圳、沈阳、广州、成都、武汉、...'\n",
    "for d in dic.parse_words(text):\n",
    "    print(d)"
   ]
  },
  {
   "cell_type": "code",
   "execution_count": 13,
   "metadata": {},
   "outputs": [
    {
     "data": {
      "text/plain": [
       "[]"
      ]
     },
     "execution_count": 13,
     "metadata": {},
     "output_type": "execute_result"
    }
   ],
   "source": [
    "dic.trie.parse_text(text)"
   ]
  },
  {
   "cell_type": "markdown",
   "metadata": {},
   "source": [
    "## 添加自定义词性标注结果集\n",
    "\n",
    "input: 中文/n 博大精深/a  \n",
    "\n",
    "output: n_B n_I a_B a_I"
   ]
  },
  {
   "cell_type": "code",
   "execution_count": null,
   "metadata": {},
   "outputs": [],
   "source": [
    "def tag_sent_convter(pos_sent, delimiter='△△△'):\n",
    "    '''\n",
    "        将词性标注句子转成bert训练的输入格式\n",
    "    '''\n",
    "    import re\n",
    "    import json\n",
    "    \n",
    "    p = re.compile(r'(.+?)/(?:([a-z]{1,2})(?:$| ))')\n",
    "    seg_file = os.path.join(data_path, 'final_baidu-23w.txt')\n",
    "    \n",
    "    line = pos_sent.strip()\n",
    "    if not line:\n",
    "        return\n",
    "    \n",
    "    words = []\n",
    "    flags = []\n",
    "    \n",
    "    replace_chars = [\n",
    "        '\\x97',\n",
    "        '\\uf076',\n",
    "        \"\\ue405\",\n",
    "        \"\\ue105\",\n",
    "        \"\\ue415\",\n",
    "        '\\x07',\n",
    "        '\\x7f',\n",
    "        '\\u3000',\n",
    "        '\\xa0',\n",
    "        ' '\n",
    "    ]\n",
    "    for word, flag in p.findall(line):\n",
    "        char_list = [c if c not in replace_chars  else 'unk' for c in list(word)]\n",
    "\n",
    "        tag_list = [f'B_{flag}'] + [f'I_{flag}']  * (len(char_list) - 1)\n",
    "\n",
    "        if len(char_list) != len(tag_list):\n",
    "            print(line)\n",
    "            print(word, flag)\n",
    "            print(char_list, tag_list)\n",
    "\n",
    "        words.extend(char_list)\n",
    "        flags.extend(tag_list)\n",
    "    \n",
    "    if len(words) == 0:\n",
    "        return\n",
    "    \n",
    "    return delimiter.join([\n",
    "        ' '.join(flags),\n",
    "        ' '.join(words)\n",
    "    ])\n",
    "\n",
    "def save2customfile(pos_sent):\n",
    "    '''\n",
    "        保存到自定义文档中，主要用于增量训练反馈数据\n",
    "    '''\n",
    "    \n",
    "    bert_sent = tag_sent_convter(pos_sent)\n",
    "    if not bert_sent:\n",
    "        return\n",
    "    \n",
    "    with open(custom_path, 'a') as f:\n",
    "        f.write(bert_sent)\n",
    "        f.write('\\n')\n",
    "    \n",
    "    \n",
    "\n",
    "pos_sents = [\n",
    "    '周光/nr 明确/ad 否认/v CEO/ti 佟显侨/nr 和/c CTO/ti 衡量/nr 说/v 的/u 罪名/n ，/w 并/c 说会/v 跟/p 投资人/vn 、/w 技术leader/ti 一起/d 出来说明/v',\n",
    "    '当时/t 其/r 2位/m 创始人/ti 佟显侨/nr 和/c 衡量/nr 推动发出/v 公司公告/n ，/w 把/p 还在/v 东京/ns 代表/v RoadStar/nt 出席/v 活动/n 的/u 另/r 一/m 联合创始人/ti 周光/nr 开除/v 。/w'\n",
    "]\n",
    "\n",
    "for pos_sent in pos_sents:\n",
    "    save2customfile(pos_sent)\n",
    "\n",
    "\n",
    "            "
   ]
  }
 ],
 "metadata": {
  "kernelspec": {
   "display_name": "Python [conda env:py3.6]",
   "language": "python",
   "name": "conda-env-py3.6-py"
  },
  "language_info": {
   "codemirror_mode": {
    "name": "ipython",
    "version": 3
   },
   "file_extension": ".py",
   "mimetype": "text/x-python",
   "name": "python",
   "nbconvert_exporter": "python",
   "pygments_lexer": "ipython3",
   "version": "3.6.7"
  }
 },
 "nbformat": 4,
 "nbformat_minor": 2
}
