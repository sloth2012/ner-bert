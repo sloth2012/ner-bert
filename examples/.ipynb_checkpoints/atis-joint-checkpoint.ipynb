{
 "cells": [
  {
   "cell_type": "markdown",
   "metadata": {},
   "source": [
    "### Atis example"
   ]
  },
  {
   "cell_type": "code",
   "execution_count": 9,
   "metadata": {},
   "outputs": [],
   "source": [
    "%reload_ext autoreload\n",
    "%autoreload 2\n",
    "%matplotlib inline\n",
    "\n",
    "import pandas as pd\n",
    "import warnings\n",
    "import os\n",
    "import sys\n",
    "\n",
    "sys.path.append(\"../\")\n",
    "warnings.filterwarnings(\"ignore\")"
   ]
  },
  {
   "cell_type": "markdown",
   "metadata": {},
   "source": [
    "Download atis dataset from [here](https://github.com/Microsoft/CNTK/tree/master/Examples/LanguageUnderstanding/ATIS/Data)"
   ]
  },
  {
   "cell_type": "markdown",
   "metadata": {},
   "source": [
    "### Run NER model"
   ]
  },
  {
   "cell_type": "code",
   "execution_count": 10,
   "metadata": {},
   "outputs": [],
   "source": [
    "import os\n",
    "\n",
    "\n",
    "data_path = \"/datadrive/JointSLU/data/\"\n",
    "train_path = os.path.join(data_path, \"train_filtered.csv\")\n",
    "valid_path = os.path.join(data_path, \"valid_filtered.csv\")\n",
    "model_dir = \"/datadrive/models/multilingual_L-12_H-768_A-12/\"\n",
    "init_checkpoint_pt = \"/datadrive/models/multilingual_L-12_H-768_A-12/pytorch_model.bin\"\n",
    "bert_config_file = os.path.join(model_dir, \"bert_config.json\")\n",
    "vocab_file = os.path.join(model_dir, \"vocab.txt\")"
   ]
  },
  {
   "cell_type": "code",
   "execution_count": 11,
   "metadata": {},
   "outputs": [
    {
     "data": {
      "text/plain": [
       "(True, 0)"
      ]
     },
     "execution_count": 11,
     "metadata": {},
     "output_type": "execute_result"
    }
   ],
   "source": [
    "import torch\n",
    "torch.cuda.set_device(0)\n",
    "torch.cuda.is_available(), torch.cuda.current_device()"
   ]
  },
  {
   "cell_type": "markdown",
   "metadata": {},
   "source": [
    "#### Create data loaders"
   ]
  },
  {
   "cell_type": "code",
   "execution_count": 12,
   "metadata": {},
   "outputs": [],
   "source": [
    "from modules import BertNerData as NerData"
   ]
  },
  {
   "cell_type": "code",
   "execution_count": 13,
   "metadata": {},
   "outputs": [],
   "source": [
    "data = NerData.create(train_path, valid_path, vocab_file, data_type=\"bert_uncased\", is_cls=True)"
   ]
  },
  {
   "cell_type": "code",
   "execution_count": 14,
   "metadata": {},
   "outputs": [
    {
     "data": {
      "text/plain": [
       "(9445, 888)"
      ]
     },
     "execution_count": 14,
     "metadata": {},
     "output_type": "execute_result"
    }
   ],
   "source": [
    "len(data.train_dl.dataset), len(data.valid_dl.dataset)"
   ]
  },
  {
   "cell_type": "code",
   "execution_count": 15,
   "metadata": {},
   "outputs": [
    {
     "data": {
      "text/plain": [
       "(144, 17)"
      ]
     },
     "execution_count": 15,
     "metadata": {},
     "output_type": "execute_result"
    }
   ],
   "source": [
    "len(data.label2idx), len(data.id2cls)"
   ]
  },
  {
   "cell_type": "code",
   "execution_count": 16,
   "metadata": {},
   "outputs": [
    {
     "data": {
      "text/plain": [
       "106"
      ]
     },
     "execution_count": 16,
     "metadata": {},
     "output_type": "execute_result"
    }
   ],
   "source": [
    "sup_labels = list(pd.read_csv(\"/datadrive/JointSLU/data/slt_flt.csv\").slots)\n",
    "len(sup_labels)"
   ]
  },
  {
   "cell_type": "markdown",
   "metadata": {},
   "source": [
    "#### Create Ner model"
   ]
  },
  {
   "cell_type": "markdown",
   "metadata": {},
   "source": [
    "Set params of encoder and decoder as proposed [here](https://arxiv.org/pdf/1609.01454.pdf)"
   ]
  },
  {
   "cell_type": "code",
   "execution_count": 17,
   "metadata": {},
   "outputs": [],
   "source": [
    "from modules.models.bert_models import BertBiLSTMAttnCRFJoint"
   ]
  },
  {
   "cell_type": "code",
   "execution_count": 18,
   "metadata": {},
   "outputs": [],
   "source": [
    "model = BertBiLSTMAttnCRFJoint.create(len(data.label2idx), len(data.cls2idx),\n",
    "                                      bert_config_file, init_checkpoint_pt, enc_hidden_dim=256)"
   ]
  },
  {
   "cell_type": "code",
   "execution_count": 19,
   "metadata": {},
   "outputs": [
    {
     "data": {
      "text/plain": [
       "AttnCRFJointDecoder(\n",
       "  (attn): MultiHeadAttention(\n",
       "    (attention): _MultiHeadAttention(\n",
       "      (attention): ScaledDotProductAttention(\n",
       "        (softmax): Softmax()\n",
       "        (dropout): Dropout(p=0.5)\n",
       "      )\n",
       "    )\n",
       "    (proj): Linear(in_features=192, out_features=256, bias=True)\n",
       "    (dropout): Dropout(p=0.5)\n",
       "    (layer_norm): LayerNormalization()\n",
       "  )\n",
       "  (linear): Linears(\n",
       "    (linears): ModuleList(\n",
       "      (0): Linear(in_features=256, out_features=128, bias=True)\n",
       "    )\n",
       "    (output_linear): Linear(in_features=128, out_features=144, bias=True)\n",
       "  )\n",
       "  (crf): CRF()\n",
       "  (intent_out): PoolingLinearClassifier(\n",
       "    (dropout): Dropout(p=0.5)\n",
       "    (linear): Linears(\n",
       "      (linears): ModuleList(\n",
       "        (0): Linear(in_features=768, out_features=128, bias=True)\n",
       "      )\n",
       "      (output_linear): Linear(in_features=128, out_features=17, bias=True)\n",
       "    )\n",
       "  )\n",
       "  (intent_loss): CrossEntropyLoss()\n",
       ")"
      ]
     },
     "execution_count": 19,
     "metadata": {},
     "output_type": "execute_result"
    }
   ],
   "source": [
    "model.decoder"
   ]
  },
  {
   "cell_type": "markdown",
   "metadata": {},
   "source": [
    "#### Create learner"
   ]
  },
  {
   "cell_type": "code",
   "execution_count": 24,
   "metadata": {},
   "outputs": [],
   "source": [
    "from modules import NerLearner"
   ]
  },
  {
   "cell_type": "code",
   "execution_count": 25,
   "metadata": {},
   "outputs": [
    {
     "name": "stderr",
     "output_type": "stream",
     "text": [
      "INFO:root:Don't use lr scheduler...\n"
     ]
    }
   ],
   "source": [
    "num_epochs = 100\n",
    "learner = NerLearner(model, data,\n",
    "                     best_model_path=\"/datadrive/models/atis/joint.cpt\",\n",
    "                     lr=0.01, clip=1.0, sup_labels=sup_labels,\n",
    "                     t_total=num_epochs * len(data.train_dl))"
   ]
  },
  {
   "cell_type": "code",
   "execution_count": 65,
   "metadata": {
    "scrolled": false
   },
   "outputs": [
    {
     "name": "stderr",
     "output_type": "stream",
     "text": [
      "INFO:root:Resuming train... Current epoch 43.\n"
     ]
    },
    {
     "data": {
      "application/vnd.jupyter.widget-view+json": {
       "model_id": "",
       "version_major": 2,
       "version_minor": 0
      },
      "text/plain": [
       "HBox(children=(IntProgress(value=0, max=591), HTML(value='')))"
      ]
     },
     "metadata": {},
     "output_type": "display_data"
    },
    {
     "name": "stderr",
     "output_type": "stream",
     "text": [
      "INFO:root:\n",
      "epoch 44, average train epoch loss=0.095276\n",
      "\n"
     ]
    },
    {
     "data": {
      "application/vnd.jupyter.widget-view+json": {
       "model_id": "",
       "version_major": 2,
       "version_minor": 0
      },
      "text/plain": [
       "HBox(children=(IntProgress(value=0, max=56), HTML(value='')))"
      ]
     },
     "metadata": {},
     "output_type": "display_data"
    },
    {
     "name": "stderr",
     "output_type": "stream",
     "text": [
      "INFO:root:on epoch 10 by max_prec: 0.877\n",
      "INFO:root:on epoch {} classification report:\n"
     ]
    },
    {
     "name": "stdout",
     "output_type": "stream",
     "text": [
      "                              precision    recall  f1-score   support\n",
      "\n",
      "           B_toloc.city-name      0.971     0.996     0.983       712\n",
      "                B_round-trip      1.000     0.973     0.986        73\n",
      "                I_round-trip      1.000     1.000     1.000        71\n",
      "                         I_O      0.976     0.992     0.984       123\n",
      "             B_cost-relative      1.000     0.973     0.986        37\n",
      "               B_fare-amount      1.000     1.000     1.000         2\n",
      "               I_fare-amount      1.000     1.000     1.000         2\n",
      "    B_arrive-date.month-name      0.714     0.833     0.769         6\n",
      "    B_arrive-date.day-number      0.714     0.833     0.769         6\n",
      "         I_fromloc.city-name      0.967     1.000     0.983       235\n",
      "         B_stoploc.city-name      1.000     1.000     1.000        20\n",
      " B_arrive-time.time-relative      0.967     0.935     0.951        31\n",
      "          B_arrive-time.time      0.892     0.971     0.930        34\n",
      "          I_arrive-time.time      0.947     0.973     0.960        37\n",
      "          B_toloc.state-code      1.000     1.000     1.000        18\n",
      "           I_toloc.city-name      0.963     0.994     0.978       338\n",
      "         I_stoploc.city-name      1.000     1.000     1.000        14\n",
      "          B_meal-description      1.000     0.700     0.824        10\n",
      "    B_depart-date.month-name      0.982     0.964     0.973        56\n",
      "    B_depart-date.day-number      0.981     0.964     0.972        55\n",
      "              B_airline-name      0.980     1.000     0.990        96\n",
      "              I_airline-name      1.000     0.971     0.985        68\n",
      " B_depart-time.period-of-day      0.975     0.921     0.947       126\n",
      "      B_depart-date.day-name      0.986     0.990     0.988       210\n",
      "          B_toloc.state-name      0.839     0.929     0.881        28\n",
      " B_depart-time.time-relative      0.968     0.968     0.968        63\n",
      "          B_depart-time.time      0.859     1.000     0.924        55\n",
      "        B_toloc.airport-name      1.000     1.000     1.000         3\n",
      "        I_toloc.airport-name      1.000     1.000     1.000         3\n",
      " B_depart-date.date-relative      0.944     1.000     0.971        17\n",
      "                        B_or      0.429     1.000     0.600         3\n",
      "              B_airline-code      0.912     0.912     0.912        34\n",
      "                B_class-type      0.960     1.000     0.980        24\n",
      "                I_class-type      1.000     1.000     1.000        17\n",
      "             I_cost-relative      1.000     0.909     0.952        33\n",
      "          I_depart-time.time      0.946     1.000     0.972        53\n",
      "      B_fromloc.airport-name      0.500     1.000     0.667        12\n",
      "      I_fromloc.airport-name      0.457     1.000     0.627        16\n",
      "                 B_city-name      0.897     0.456     0.605        57\n",
      "                B_flight-mod      1.000     1.000     1.000        24\n",
      "                      B_meal      0.941     1.000     0.970        16\n",
      "                      I_meal      0.941     1.000     0.970        16\n",
      "                   B_economy      1.000     1.000     1.000         6\n",
      "           B_fare-basis-code      0.944     1.000     0.971        17\n",
      "          I_meal-description      0.000     0.000     0.000         2\n",
      "           I_fare-basis-code      1.000     1.000     1.000         6\n",
      "    I_depart-date.day-number      1.000     0.952     0.976        21\n",
      "B_depart-date.today-relative      0.889     0.889     0.889         9\n",
      "               B_flight-stop      1.000     1.000     1.000        21\n",
      "               I_flight-stop      1.000     1.000     1.000        21\n",
      "              B_airport-code      0.600     0.333     0.429         9\n",
      "              I_airport-code      0.667     0.444     0.533         9\n",
      "        B_fromloc.state-name      0.944     1.000     0.971        17\n",
      "        I_fromloc.state-name      1.000     1.000     1.000         1\n",
      "                 I_city-name      0.889     0.432     0.582        37\n",
      "                I_flight-mod      1.000     0.615     0.762        13\n",
      "                   B_connect      1.000     1.000     1.000         6\n",
      "      B_arrive-date.day-name      0.846     1.000     0.917        11\n",
      "        B_fromloc.state-code      0.885     1.000     0.939        23\n",
      "          B_depart-date.year      1.000     1.000     1.000         3\n",
      "    B_depart-time.start-time      1.000     1.000     1.000         3\n",
      "    I_depart-time.start-time      1.000     1.000     1.000         1\n",
      "      B_depart-time.end-time      1.000     1.000     1.000         3\n",
      "      I_depart-time.end-time      1.000     1.000     1.000         3\n",
      "    B_arrive-time.start-time      1.000     0.875     0.933         8\n",
      "      B_arrive-time.end-time      1.000     0.875     0.933         8\n",
      "      I_arrive-time.end-time      1.000     0.875     0.933         8\n",
      " I_depart-time.period-of-day      1.000     0.667     0.800         6\n",
      "               B_flight-days      1.000     1.000     1.000        10\n",
      "                       B_mod      1.000     0.500     0.667         2\n",
      "             B_flight-number      0.833     1.000     0.909        10\n",
      "          I_toloc.state-name      1.000     1.000     1.000         1\n",
      "                 B_meal-code      1.000     1.000     1.000         1\n",
      "              B_airport-name      0.800     0.381     0.516        21\n",
      "              I_airport-name      0.857     0.400     0.545        30\n",
      "            B_transport-type      1.000     1.000     1.000        10\n",
      "            I_transport-type      1.000     0.833     0.909         6\n",
      "                B_state-code      1.000     1.000     1.000         1\n",
      "             B_aircraft-code      1.000     0.879     0.935        33\n",
      "        B_toloc.country-name      1.000     1.000     1.000         1\n",
      "        B_toloc.airport-code      1.000     1.000     1.000         3\n",
      "        I_toloc.airport-code      1.000     1.000     1.000         3\n",
      " B_return-date.date-relative      1.000     0.667     0.800         3\n",
      " I_return-date.date-relative      1.000     0.667     0.800         3\n",
      "               B_flight-time      0.500     1.000     0.667         1\n",
      "      B_fromloc.airport-code      0.800     1.000     0.889         4\n",
      "      I_fromloc.airport-code      0.500     1.000     0.667         4\n",
      " B_arrive-time.period-of-day      0.750     1.000     0.857         6\n",
      "    B_depart-time.period-mod      1.000     1.000     1.000         5\n",
      "      I_depart-date.day-name      0.333     1.000     0.500         1\n",
      "             I_flight-number      0.000     0.000     0.000         1\n",
      "               I_flight-time      1.000     1.000     1.000         1\n",
      " B_arrive-date.date-relative      1.000     1.000     1.000         2\n",
      "          B_restriction-code      1.000     1.000     1.000         4\n",
      "          I_restriction-code      1.000     1.000     1.000         4\n",
      "             I_aircraft-code      1.000     0.963     0.981        27\n",
      "             B_period-of-day      1.000     0.333     0.500         3\n",
      "      I_arrive-date.day-name      0.000     0.000     0.000         1\n",
      "    I_arrive-time.start-time      1.000     1.000     1.000         1\n",
      "                 B_days-code      0.000     0.000     0.000         1\n",
      " I_arrive-time.time-relative      1.000     1.000     1.000         4\n",
      " I_depart-time.time-relative      0.000     0.000     0.000         1\n",
      "                  B_day-name      1.000     0.500     0.667         2\n",
      "                  I_day-name      0.000     0.000     0.000         1\n",
      "              I_airline-code      0.000     0.000     0.000         2\n",
      "             I_period-of-day      0.000     0.000     0.000         1\n",
      "\n",
      "                   micro avg      0.952     0.948     0.950      3341\n",
      "                   macro avg      0.855     0.842     0.833      3341\n",
      "                weighted avg      0.954     0.948     0.945      3341\n",
      "\n",
      "                precision    recall  f1-score   support\n",
      "\n",
      "  abbreviation      1.000     0.970     0.985        33\n",
      "      aircraft      0.692     1.000     0.818         9\n",
      "       airfare      0.923     1.000     0.960        48\n",
      "       airline      1.000     1.000     1.000        38\n",
      "       airport      1.000     0.889     0.941        18\n",
      "      capacity      1.000     1.000     1.000        21\n",
      "          city      0.600     0.500     0.545         6\n",
      "      distance      1.000     0.900     0.947        10\n",
      "        flight      0.984     0.984     0.984       632\n",
      "flight+airfare      0.833     0.417     0.556        12\n",
      "     flight_no      1.000     0.875     0.933         8\n",
      "   flight_time      1.000     1.000     1.000         1\n",
      "   ground_fare      1.000     0.714     0.833         7\n",
      "ground_service      0.973     1.000     0.986        36\n",
      "          meal      0.833     0.833     0.833         6\n",
      "      quantity      0.429     1.000     0.600         3\n",
      "   restriction      0.000     0.000     0.000         0\n",
      "\n",
      "     micro avg      0.968     0.968     0.968       888\n",
      "     macro avg      0.839     0.828     0.819       888\n",
      "  weighted avg      0.972     0.968     0.968       888\n",
      "\n"
     ]
    }
   ],
   "source": [
    "learner.fit(num_epochs, target_metric='prec')"
   ]
  },
  {
   "cell_type": "markdown",
   "metadata": {},
   "source": [
    "### Get best results"
   ]
  },
  {
   "cell_type": "code",
   "execution_count": 27,
   "metadata": {},
   "outputs": [],
   "source": [
    "learner.load_model()"
   ]
  },
  {
   "cell_type": "markdown",
   "metadata": {},
   "source": [
    "#### Get span results for valid ds (where train support > 3)"
   ]
  },
  {
   "cell_type": "code",
   "execution_count": 28,
   "metadata": {},
   "outputs": [],
   "source": [
    "import pandas as pd\n",
    "sup_slots = list(pd.read_csv(\"/datadrive/JointSLU/data/sup_slots.csv\").sup_slots)"
   ]
  },
  {
   "cell_type": "code",
   "execution_count": 44,
   "metadata": {},
   "outputs": [],
   "source": [
    "from modules.data.bert_data import get_bert_data_loader_for_predict"
   ]
  },
  {
   "cell_type": "code",
   "execution_count": 45,
   "metadata": {},
   "outputs": [],
   "source": [
    "dl = get_bert_data_loader_for_predict(data_path + \"valid_filtered.csv\", learner)"
   ]
  },
  {
   "cell_type": "code",
   "execution_count": 55,
   "metadata": {},
   "outputs": [
    {
     "data": {
      "application/vnd.jupyter.widget-view+json": {
       "model_id": "",
       "version_major": 2,
       "version_minor": 0
      },
      "text/plain": [
       "HBox(children=(IntProgress(value=0, max=56), HTML(value='')))"
      ]
     },
     "metadata": {},
     "output_type": "display_data"
    }
   ],
   "source": [
    "preds, preds_cls = learner.predict(dl)"
   ]
  },
  {
   "cell_type": "code",
   "execution_count": 56,
   "metadata": {},
   "outputs": [
    {
     "data": {
      "application/vnd.jupyter.widget-view+json": {
       "model_id": "",
       "version_major": 2,
       "version_minor": 0
      },
      "text/plain": [
       "HBox(children=(IntProgress(value=0, max=56), HTML(value='')))"
      ]
     },
     "metadata": {},
     "output_type": "display_data"
    }
   ],
   "source": [
    "from modules.train.train import validate_step\n",
    "\n",
    "\n",
    "clf_report, clf_report_cls = validate_step(\n",
    "    learner.data.valid_dl, learner.model, learner.data.id2label, learner.sup_labels, learner.data.id2cls)"
   ]
  },
  {
   "cell_type": "markdown",
   "metadata": {},
   "source": [
    "Mean IOB precision"
   ]
  },
  {
   "cell_type": "code",
   "execution_count": 57,
   "metadata": {},
   "outputs": [
    {
     "data": {
      "text/plain": [
       "0.8768301886792453"
      ]
     },
     "execution_count": 57,
     "metadata": {},
     "output_type": "execute_result"
    }
   ],
   "source": [
    "import numpy as np\n",
    "\n",
    "\n",
    "np.mean([float(line.split()[1]) for line in clf_report.split(\"\\n\")[2:-5] if int(line.split()[-1]) > 0 and line.split()[0] in ss])"
   ]
  },
  {
   "cell_type": "markdown",
   "metadata": {},
   "source": [
    "Span mean precision"
   ]
  },
  {
   "cell_type": "code",
   "execution_count": 61,
   "metadata": {},
   "outputs": [
    {
     "data": {
      "text/plain": [
       "0.8235797101449275"
      ]
     },
     "execution_count": 61,
     "metadata": {},
     "output_type": "execute_result"
    }
   ],
   "source": [
    "from modules.utils.plot_metrics import get_bert_span_report\n",
    "\n",
    "\n",
    "clf_report = get_bert_span_report(dl, preds)\n",
    "np.mean([float(line.split()[1]) for line in clf_report.split(\"\\n\")[2:-5] if int(line.split()[-1]) > 0])"
   ]
  },
  {
   "cell_type": "markdown",
   "metadata": {},
   "source": [
    "Classification mean"
   ]
  },
  {
   "cell_type": "code",
   "execution_count": 64,
   "metadata": {},
   "outputs": [
    {
     "data": {
      "text/plain": [
       "0.8943125000000001"
      ]
     },
     "execution_count": 64,
     "metadata": {},
     "output_type": "execute_result"
    }
   ],
   "source": [
    "np.mean([float(line.split()[1]) for line in clf_report_cls.split(\"\\n\")[2:-5] if int(line.split()[-1]) > 0])"
   ]
  }
 ],
 "metadata": {
  "kernelspec": {
   "display_name": "Python 3",
   "language": "python",
   "name": "python3"
  },
  "language_info": {
   "codemirror_mode": {
    "name": "ipython",
    "version": 3
   },
   "file_extension": ".py",
   "mimetype": "text/x-python",
   "name": "python",
   "nbconvert_exporter": "python",
   "pygments_lexer": "ipython3",
   "version": "3.6.5"
  }
 },
 "nbformat": 4,
 "nbformat_minor": 2
}
