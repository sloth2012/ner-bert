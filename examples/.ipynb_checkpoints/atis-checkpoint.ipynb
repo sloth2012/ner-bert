{
 "cells": [
  {
   "cell_type": "markdown",
   "metadata": {},
   "source": [
    "### Atis example"
   ]
  },
  {
   "cell_type": "code",
   "execution_count": 2,
   "metadata": {},
   "outputs": [],
   "source": [
    "%reload_ext autoreload\n",
    "%autoreload 2\n",
    "%matplotlib inline\n",
    "\n",
    "import pandas as pd\n",
    "import warnings\n",
    "import os\n",
    "import sys\n",
    "\n",
    "sys.path.append(\"../\")\n",
    "\n",
    "warnings.filterwarnings(\"ignore\")"
   ]
  },
  {
   "cell_type": "markdown",
   "metadata": {},
   "source": [
    "Download atis dataset from [here](https://github.com/Microsoft/CNTK/tree/master/Examples/LanguageUnderstanding/ATIS/Data)"
   ]
  },
  {
   "cell_type": "markdown",
   "metadata": {},
   "source": [
    "### Run NER model"
   ]
  },
  {
   "cell_type": "code",
   "execution_count": 4,
   "metadata": {},
   "outputs": [],
   "source": [
    "import os\n",
    "\n",
    "\n",
    "data_path = \"/datadrive/JointSLU/data/\"\n",
    "train_path = os.path.join(data_path, \"train_filtered.csv\")\n",
    "valid_path = os.path.join(data_path, \"valid_filtered.csv\")\n",
    "model_dir = \"/datadrive/models/multi_cased_L-12_H-768_A-12/\"\n",
    "init_checkpoint_pt = os.path.join(\"/datadrive/models/multi_cased_L-12_H-768_A-12/\", \"pytorch_model.bin\")\n",
    "bert_config_file = os.path.join(\"/datadrive/bert/multi_cased_L-12_H-768_A-12/\", \"bert_config.json\")\n",
    "vocab_file = os.path.join(\"/datadrive/bert/multi_cased_L-12_H-768_A-12/\", \"vocab.txt\")"
   ]
  },
  {
   "cell_type": "code",
   "execution_count": 5,
   "metadata": {},
   "outputs": [
    {
     "data": {
      "text/plain": [
       "(True, 0)"
      ]
     },
     "execution_count": 5,
     "metadata": {},
     "output_type": "execute_result"
    }
   ],
   "source": [
    "import torch\n",
    "torch.cuda.set_device(0)\n",
    "torch.cuda.is_available(), torch.cuda.current_device()"
   ]
  },
  {
   "cell_type": "markdown",
   "metadata": {},
   "source": [
    "#### Create data loaders"
   ]
  },
  {
   "cell_type": "code",
   "execution_count": 6,
   "metadata": {},
   "outputs": [
    {
     "name": "stderr",
     "output_type": "stream",
     "text": [
      "INFO:summarizer.preprocessing.cleaner:'pattern' package not found; tag filters are not available for English\n"
     ]
    }
   ],
   "source": [
    "from modules import BertNerData as NerData"
   ]
  },
  {
   "cell_type": "code",
   "execution_count": 7,
   "metadata": {},
   "outputs": [],
   "source": [
    "data = NerData.create(train_path, valid_path, vocab_file, data_type=\"bert_cased\")"
   ]
  },
  {
   "cell_type": "code",
   "execution_count": 8,
   "metadata": {},
   "outputs": [
    {
     "data": {
      "text/plain": [
       "(9445, 888)"
      ]
     },
     "execution_count": 8,
     "metadata": {},
     "output_type": "execute_result"
    }
   ],
   "source": [
    "len(data.train_dl.dataset), len(data.valid_dl.dataset)"
   ]
  },
  {
   "cell_type": "code",
   "execution_count": 9,
   "metadata": {},
   "outputs": [
    {
     "data": {
      "text/plain": [
       "154"
      ]
     },
     "execution_count": 9,
     "metadata": {},
     "output_type": "execute_result"
    }
   ],
   "source": [
    "len(data.label2idx) #, len(data.cls2idx)"
   ]
  },
  {
   "cell_type": "markdown",
   "metadata": {},
   "source": [
    "#### Create Ner model"
   ]
  },
  {
   "cell_type": "markdown",
   "metadata": {},
   "source": [
    "Set params of encoder and decoder as proposed [here](https://arxiv.org/pdf/1609.01454.pdf)"
   ]
  },
  {
   "cell_type": "code",
   "execution_count": 10,
   "metadata": {},
   "outputs": [],
   "source": [
    "from modules.models.bert_models import BertBiLSTMAttnCRF"
   ]
  },
  {
   "cell_type": "code",
   "execution_count": 18,
   "metadata": {},
   "outputs": [],
   "source": [
    "model = BertBiLSTMAttnCRF.create(len(data.label2idx), bert_config_file, init_checkpoint_pt, enc_hidden_dim=256)"
   ]
  },
  {
   "cell_type": "markdown",
   "metadata": {},
   "source": [
    "#### Create learner"
   ]
  },
  {
   "cell_type": "code",
   "execution_count": 19,
   "metadata": {},
   "outputs": [],
   "source": [
    "from modules import NerLearner"
   ]
  },
  {
   "cell_type": "code",
   "execution_count": 20,
   "metadata": {},
   "outputs": [
    {
     "name": "stderr",
     "output_type": "stream",
     "text": [
      "INFO:root:Use lr OneCycleScheduler...\n"
     ]
    }
   ],
   "source": [
    "num_epochs = 250\n",
    "learner = NerLearner(model, data,\n",
    "                     best_model_path=\"/datadrive/models/atis/base_line_final.cpt\",\n",
    "                     lr=0.01, clip=1.0, sup_labels=data.id2label[5:],\n",
    "                     t_total=num_epochs * len(data.train_dl))"
   ]
  },
  {
   "cell_type": "code",
   "execution_count": null,
   "metadata": {
    "scrolled": true
   },
   "outputs": [],
   "source": [
    "learner.fit(num_epochs, target_metric='prec')"
   ]
  },
  {
   "cell_type": "markdown",
   "metadata": {},
   "source": [
    "### Get best results"
   ]
  },
  {
   "cell_type": "code",
   "execution_count": 34,
   "metadata": {},
   "outputs": [],
   "source": [
    "learner.load_model()"
   ]
  },
  {
   "cell_type": "markdown",
   "metadata": {},
   "source": [
    "#### Get span results for valid ds (where train support > 3)"
   ]
  },
  {
   "cell_type": "code",
   "execution_count": 21,
   "metadata": {},
   "outputs": [],
   "source": [
    "import pandas as pd\n",
    "sup_slots = list(pd.read_csv(\"/datadrive/JointSLU/data/sup_slots.csv\").sup_slots)"
   ]
  },
  {
   "cell_type": "code",
   "execution_count": 24,
   "metadata": {},
   "outputs": [],
   "source": [
    "from modules.data.data import get_bert_data_loader_for_predict"
   ]
  },
  {
   "cell_type": "code",
   "execution_count": 26,
   "metadata": {},
   "outputs": [],
   "source": [
    "dl = get_bert_data_loader_for_predict(data_path + \"valid_filtered.csv\", learner)"
   ]
  },
  {
   "cell_type": "code",
   "execution_count": 371,
   "metadata": {},
   "outputs": [],
   "source": [
    "span_df = span_df[[s in sup_slots for s in list(span_df.slots)]]"
   ]
  },
  {
   "cell_type": "code",
   "execution_count": 27,
   "metadata": {},
   "outputs": [
    {
     "data": {
      "text/plain": [
       "HBox(children=(IntProgress(value=0, max=56), HTML(value='')))"
      ]
     },
     "metadata": {},
     "output_type": "display_data"
    },
    {
     "name": "stdout",
     "output_type": "stream",
     "text": [
      "\r"
     ]
    }
   ],
   "source": [
    "preds = learner.predict(dl)"
   ]
  },
  {
   "cell_type": "code",
   "execution_count": 22,
   "metadata": {},
   "outputs": [],
   "source": [
    "ss = [\"B_\"+s for s in sup_slots] + [\"I_\"+s for s in sup_slots]"
   ]
  },
  {
   "cell_type": "code",
   "execution_count": 38,
   "metadata": {},
   "outputs": [
    {
     "data": {
      "text/plain": [
       "HBox(children=(IntProgress(value=0, max=56), HTML(value='')))"
      ]
     },
     "metadata": {},
     "output_type": "display_data"
    },
    {
     "name": "stdout",
     "output_type": "stream",
     "text": [
      "\r"
     ]
    }
   ],
   "source": [
    "from modules.train.train import validate_step\n",
    "\n",
    "\n",
    "rep = validate_step(learner.data.valid_dl, learner.model, learner.data.id2label, learner.sup_labels)"
   ]
  },
  {
   "cell_type": "markdown",
   "metadata": {},
   "source": [
    "Mean IOB precision"
   ]
  },
  {
   "cell_type": "code",
   "execution_count": 50,
   "metadata": {},
   "outputs": [
    {
     "data": {
      "text/plain": [
       "0.8524716981132077"
      ]
     },
     "execution_count": 50,
     "metadata": {},
     "output_type": "execute_result"
    }
   ],
   "source": [
    "import numpy as np\n",
    "\n",
    "\n",
    "np.mean([float(line.split()[1]) for line in rep.split(\"\\n\")[2:-5] if int(line.split()[-1]) > 0 and line.split()[0] in ss])"
   ]
  },
  {
   "cell_type": "code",
   "execution_count": 52,
   "metadata": {},
   "outputs": [
    {
     "name": "stdout",
     "output_type": "stream",
     "text": [
      "                            precision    recall  f1-score   support\n",
      "\n",
      "                         O      0.993     0.992     0.993      5495\n",
      "          arrive-time.time      0.865     0.941     0.901        34\n",
      "               flight-stop      1.000     1.000     1.000        21\n",
      "                  day-name      1.000     0.500     0.667         2\n",
      "                 days-code      0.000     0.000     0.000         1\n",
      "                state-name      0.000     0.000     0.000         7\n",
      "        fromloc.state-name      1.000     1.000     1.000        17\n",
      "            transport-type      1.000     1.000     1.000        10\n",
      "                 city-name      0.971     0.579     0.725        57\n",
      " arrive-date.date-relative      0.500     0.500     0.500         2\n",
      "        fromloc.state-code      0.920     1.000     0.958        23\n",
      " arrive-time.time-relative      0.933     0.903     0.918        31\n",
      "      return-date.day-name      0.000     0.000     0.000         2\n",
      "          restriction-code      1.000     1.000     1.000         4\n",
      "                   connect      1.000     1.000     1.000         6\n",
      "      fromloc.airport-name      0.444     1.000     0.615        12\n",
      "          toloc.state-name      0.931     0.964     0.947        28\n",
      " arrive-time.period-of-day      0.750     1.000     0.857         6\n",
      "                state-code      1.000     1.000     1.000         1\n",
      "      arrive-date.day-name      0.714     0.909     0.800        11\n",
      " return-date.date-relative      1.000     0.333     0.500         3\n",
      "        toloc.airport-name      1.000     1.000     1.000         3\n",
      "    depart-date.month-name      0.946     0.946     0.946        56\n",
      "          toloc.state-code      0.833     0.833     0.833        18\n",
      "         fromloc.city-name      0.983     0.989     0.986       700\n",
      "    depart-time.start-time      1.000     1.000     1.000         3\n",
      " depart-date.date-relative      0.944     1.000     0.971        17\n",
      "              airline-code      0.912     0.912     0.912        34\n",
      "         stoploc.city-name      1.000     1.000     1.000        20\n",
      "        toloc.airport-code      1.000     1.000     1.000         3\n",
      "             aircraft-code      1.000     0.848     0.918        33\n",
      "               fare-amount      0.500     0.500     0.500         2\n",
      "                       mod      0.333     0.500     0.400         2\n",
      "           fare-basis-code      0.941     0.941     0.941        17\n",
      "      fromloc.airport-code      0.800     1.000     0.889         4\n",
      "    depart-date.day-number      0.945     0.945     0.945        55\n",
      "    arrive-date.month-name      0.667     0.667     0.667         6\n",
      "depart-date.today-relative      1.000     0.889     0.941         9\n",
      "      stoploc.airport-code      0.000     0.000     0.000         1\n",
      "      arrive-time.end-time      1.000     0.875     0.933         8\n",
      "               compartment      0.000     0.000     0.000         1\n",
      "      depart-time.end-time      1.000     1.000     1.000         3\n",
      "                      meal      0.941     1.000     0.970        16\n",
      "               flight-time      1.000     1.000     1.000         1\n",
      "             period-of-day      1.000     0.333     0.500         3\n",
      "      depart-date.day-name      0.990     0.981     0.986       210\n",
      "                 meal-code      0.000     0.000     0.000         1\n",
      "              airline-name      0.970     1.000     0.985        96\n",
      "    depart-time.period-mod      1.000     1.000     1.000         5\n",
      "                flight-mod      0.821     0.958     0.885        24\n",
      "             cost-relative      1.000     0.973     0.986        37\n",
      "          depart-date.year      0.667     0.667     0.667         3\n",
      "                        or      0.500     1.000     0.667         3\n",
      "              airport-code      0.667     0.444     0.533         9\n",
      "        toloc.country-name      1.000     1.000     1.000         1\n",
      "                    flight      0.000     0.000     0.000         1\n",
      "                round-trip      1.000     0.986     0.993        73\n",
      "    arrive-time.start-time      1.000     0.875     0.933         8\n",
      "              airport-name      0.467     0.333     0.389        21\n",
      " depart-time.period-of-day      0.991     0.921     0.955       126\n",
      "             booking-class      0.000     0.000     0.000         1\n",
      "               flight-days      1.000     1.000     1.000        10\n",
      " depart-time.time-relative      0.969     0.984     0.976        63\n",
      "             flight-number      0.833     1.000     0.909        10\n",
      "                class-type      0.960     1.000     0.980        24\n",
      "           toloc.city-name      0.964     0.986     0.975       712\n",
      "          depart-time.time      0.831     0.982     0.900        55\n",
      "                   economy      1.000     1.000     1.000         6\n",
      "    arrive-date.day-number      0.667     0.667     0.667         6\n",
      "          meal-description      1.000     1.000     1.000        10\n",
      "\n",
      "                 micro avg      0.979     0.979     0.979      8303\n",
      "                 macro avg      0.787     0.779     0.772      8303\n",
      "              weighted avg      0.978     0.979     0.978      8303\n",
      "\n"
     ]
    }
   ],
   "source": [
    "from modules.utils.plot_metrics import get_bert_span_report\n",
    "\n",
    "\n",
    "clf_report = get_bert_span_report(dl, preds, list(set(learner.data.id2label) - set(ss)))\n",
    "print(clf_report)"
   ]
  },
  {
   "cell_type": "markdown",
   "metadata": {},
   "source": [
    "### Get mean and stdv on 10 runs"
   ]
  },
  {
   "cell_type": "code",
   "execution_count": null,
   "metadata": {
    "scrolled": true
   },
   "outputs": [
    {
     "data": {
      "text/plain": [
       "HBox(children=(IntProgress(value=0, max=591), HTML(value='')))"
      ]
     },
     "metadata": {},
     "output_type": "display_data"
    }
   ],
   "source": [
    "from modules.utils.plot_metrics import *\n",
    "from modules import NerLearner\n",
    "\n",
    "\n",
    "num_runs = 10\n",
    "best_reports = []\n",
    "for i in range(num_runs):\n",
    "    model = BertBiLSTMAttnCRF.create(len(data.label2idx), bert_config_file, init_checkpoint_pt, enc_hidden_dim=256)\n",
    "    best_model_path = \"/datadrive/models/atis/exp_{}_attn_cased.cpt\".format(i)\n",
    "    learner = NerLearner(model, data,\n",
    "                         best_model_path=best_model_path, verbose=False,\n",
    "                         base_lr=0.0001, lr_max=0.001, clip=5.0, use_lr_scheduler=True, sup_labels=data.id2label[5:])\n",
    "    learner.fit(100, target_metric='prec')\n",
    "    idx, res = get_mean_max_metric(learner.history, \"f1\", True)\n",
    "    best_reports.append(learner.history[idx])"
   ]
  },
  {
   "cell_type": "code",
   "execution_count": 32,
   "metadata": {},
   "outputs": [],
   "source": [
    "def get_mean_max_metric_(rep, metric_):\n",
    "    idx = 0\n",
    "    if metric_ == \"rec\":\n",
    "        idx = 1\n",
    "    elif metric_ == \"f1\":\n",
    "        idx = 2\n",
    "    idx += 1\n",
    "    return np.mean([float(line.split()[idx]) for line in rep.split(\"\\n\")[2:-5] if int(line.split()[-1]) > 0 and line.split()[0] in ss])"
   ]
  },
  {
   "cell_type": "code",
   "execution_count": 33,
   "metadata": {},
   "outputs": [],
   "source": [
    "import numpy as np"
   ]
  },
  {
   "cell_type": "code",
   "execution_count": 34,
   "metadata": {
    "scrolled": true
   },
   "outputs": [
    {
     "data": {
      "text/plain": [
       "(0.8822570175438595, 0.02)"
      ]
     },
     "execution_count": 34,
     "metadata": {},
     "output_type": "execute_result"
    }
   ],
   "source": [
    "np.mean([get_mean_max_metric_(r, \"f1\") for r in best_reports]), np.round(np.std([get_mean_max_metric_(r, \"f1\") for r in best_reports]), 3)"
   ]
  },
  {
   "cell_type": "markdown",
   "metadata": {},
   "source": [
    "Best"
   ]
  },
  {
   "cell_type": "code",
   "execution_count": 35,
   "metadata": {},
   "outputs": [
    {
     "data": {
      "text/plain": [
       "0.8956666666666666"
      ]
     },
     "execution_count": 35,
     "metadata": {},
     "output_type": "execute_result"
    }
   ],
   "source": [
    "np.max([get_mean_max_metric_(r, \"f1\") for r in best_reports])"
   ]
  },
  {
   "cell_type": "markdown",
   "metadata": {},
   "source": [
    "#### precision"
   ]
  },
  {
   "cell_type": "markdown",
   "metadata": {},
   "source": [
    "Mean and std"
   ]
  },
  {
   "cell_type": "code",
   "execution_count": 36,
   "metadata": {
    "scrolled": true
   },
   "outputs": [
    {
     "data": {
      "text/plain": [
       "(0.9077385964912281, 0.021)"
      ]
     },
     "execution_count": 36,
     "metadata": {},
     "output_type": "execute_result"
    }
   ],
   "source": [
    "np.mean([get_mean_max_metric_(r, \"prec\") for r in best_reports]), np.round(np.std([get_mean_max_metric_(r, \"prec\") for r in best_reports]), 3)"
   ]
  },
  {
   "cell_type": "markdown",
   "metadata": {},
   "source": [
    "Best"
   ]
  },
  {
   "cell_type": "code",
   "execution_count": 38,
   "metadata": {},
   "outputs": [
    {
     "data": {
      "text/plain": [
       "0.9281929824561402"
      ]
     },
     "execution_count": 38,
     "metadata": {},
     "output_type": "execute_result"
    }
   ],
   "source": [
    "np.max([get_mean_max_metric_(r, \"prec\") for r in best_reports])"
   ]
  }
 ],
 "metadata": {
  "kernelspec": {
   "display_name": "Python 3",
   "language": "python",
   "name": "python3"
  },
  "language_info": {
   "codemirror_mode": {
    "name": "ipython",
    "version": 3
   },
   "file_extension": ".py",
   "mimetype": "text/x-python",
   "name": "python",
   "nbconvert_exporter": "python",
   "pygments_lexer": "ipython3",
   "version": "3.6.5"
  }
 },
 "nbformat": 4,
 "nbformat_minor": 2
}
