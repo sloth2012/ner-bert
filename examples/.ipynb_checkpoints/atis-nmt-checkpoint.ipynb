{
 "cells": [
  {
   "cell_type": "markdown",
   "metadata": {},
   "source": [
    "### Atis nmt evaluation"
   ]
  },
  {
   "cell_type": "code",
   "execution_count": 1,
   "metadata": {},
   "outputs": [],
   "source": [
    "%reload_ext autoreload\n",
    "%autoreload 2\n",
    "%matplotlib inline\n",
    "\n",
    "import pandas as pd\n",
    "import warnings\n",
    "import os\n",
    "import sys\n",
    "\n",
    "sys.path.append(\"../\")\n",
    "\n",
    "warnings.filterwarnings(\"ignore\")"
   ]
  },
  {
   "cell_type": "markdown",
   "metadata": {},
   "source": [
    "Download atis dataset from [here](https://github.com/Microsoft/CNTK/tree/master/Examples/LanguageUnderstanding/ATIS/Data)"
   ]
  },
  {
   "cell_type": "markdown",
   "metadata": {},
   "source": [
    "### Run NER model"
   ]
  },
  {
   "cell_type": "code",
   "execution_count": 2,
   "metadata": {},
   "outputs": [],
   "source": [
    "import os\n",
    "\n",
    "\n",
    "data_path = \"/datadrive/JointSLU/data/\"\n",
    "train_path = os.path.join(data_path, \"train_filtered.csv\")\n",
    "valid_path = os.path.join(data_path, \"valid_filtered.csv\")\n",
    "model_dir = \" /datadrive/models/multi_cased_L-12_H-768_A-12/\"\n",
    "init_checkpoint_pt = os.path.join(\"/datadrive/models/multi_cased_L-12_H-768_A-12/\", \"pytorch_model.bin\")\n",
    "bert_config_file = os.path.join(\"/datadrive/bert/multi_cased_L-12_H-768_A-12/\", \"bert_config.json\")\n",
    "vocab_file = os.path.join(\"/datadrive/bert/multi_cased_L-12_H-768_A-12/\", \"vocab.txt\")"
   ]
  },
  {
   "cell_type": "code",
   "execution_count": 3,
   "metadata": {},
   "outputs": [
    {
     "data": {
      "text/plain": [
       "(True, 0)"
      ]
     },
     "execution_count": 3,
     "metadata": {},
     "output_type": "execute_result"
    }
   ],
   "source": [
    "import torch\n",
    "torch.cuda.set_device(0)\n",
    "torch.cuda.is_available(), torch.cuda.current_device()"
   ]
  },
  {
   "cell_type": "markdown",
   "metadata": {},
   "source": [
    "#### Create data loaders"
   ]
  },
  {
   "cell_type": "code",
   "execution_count": 4,
   "metadata": {},
   "outputs": [
    {
     "name": "stderr",
     "output_type": "stream",
     "text": [
      "INFO:summarizer.preprocessing.cleaner:'pattern' package not found; tag filters are not available for English\n"
     ]
    }
   ],
   "source": [
    "from modules import BertNerData as NerData"
   ]
  },
  {
   "cell_type": "code",
   "execution_count": 5,
   "metadata": {},
   "outputs": [],
   "source": [
    "data = NerData.create(train_path, valid_path, vocab_file, data_type=\"bert_cased\")"
   ]
  },
  {
   "cell_type": "code",
   "execution_count": 6,
   "metadata": {},
   "outputs": [
    {
     "data": {
      "text/plain": [
       "(9445, 888)"
      ]
     },
     "execution_count": 6,
     "metadata": {},
     "output_type": "execute_result"
    }
   ],
   "source": [
    "len(data.train_dl.dataset), len(data.valid_dl.dataset)"
   ]
  },
  {
   "cell_type": "code",
   "execution_count": 7,
   "metadata": {},
   "outputs": [
    {
     "data": {
      "text/plain": [
       "154"
      ]
     },
     "execution_count": 7,
     "metadata": {},
     "output_type": "execute_result"
    }
   ],
   "source": [
    "len(data.label2idx) #, len(data.cls2idx)"
   ]
  },
  {
   "cell_type": "markdown",
   "metadata": {},
   "source": [
    "#### Create Ner model"
   ]
  },
  {
   "cell_type": "markdown",
   "metadata": {},
   "source": [
    "Set params of encoder and decoder as proposed [here](https://arxiv.org/pdf/1609.01454.pdf)"
   ]
  },
  {
   "cell_type": "code",
   "execution_count": 22,
   "metadata": {},
   "outputs": [],
   "source": [
    "from modules.models.bert_models import BertBiLSTMAttnNMT"
   ]
  },
  {
   "cell_type": "code",
   "execution_count": 23,
   "metadata": {},
   "outputs": [],
   "source": [
    "model = BertBiLSTMAttnNMT.create(len(data.label2idx), bert_config_file, init_checkpoint_pt,\n",
    "                                 enc_hidden_dim=256, dec_hidden_dim=256)"
   ]
  },
  {
   "cell_type": "code",
   "execution_count": 24,
   "metadata": {},
   "outputs": [
    {
     "data": {
      "text/plain": [
       "1928231"
      ]
     },
     "execution_count": 24,
     "metadata": {},
     "output_type": "execute_result"
    }
   ],
   "source": [
    "model.get_n_trainable_params()"
   ]
  },
  {
   "cell_type": "code",
   "execution_count": 25,
   "metadata": {},
   "outputs": [],
   "source": [
    "sup_labels = list(pd.read_csv(\"/datadrive/JointSLU/data/slt_flt.csv\").slots)"
   ]
  },
  {
   "cell_type": "code",
   "execution_count": 26,
   "metadata": {},
   "outputs": [
    {
     "data": {
      "text/plain": [
       "106"
      ]
     },
     "execution_count": 26,
     "metadata": {},
     "output_type": "execute_result"
    }
   ],
   "source": [
    "len(sup_labels)"
   ]
  },
  {
   "cell_type": "markdown",
   "metadata": {},
   "source": [
    "#### Create learner"
   ]
  },
  {
   "cell_type": "code",
   "execution_count": 27,
   "metadata": {},
   "outputs": [],
   "source": [
    "from modules import NerLearner"
   ]
  },
  {
   "cell_type": "code",
   "execution_count": 28,
   "metadata": {},
   "outputs": [
    {
     "name": "stderr",
     "output_type": "stream",
     "text": [
      "INFO:root:Don't use lr scheduler...\n"
     ]
    }
   ],
   "source": [
    "num_epochs = 250\n",
    "learner = NerLearner(model, data,\n",
    "                     best_model_path=\"/datadrive/models/atis/attn_final_nmt.cpt\",\n",
    "                     lr=0.01, clip=1.0, sup_labels=sup_labels,\n",
    "                     t_total=num_epochs * len(data.train_dl))"
   ]
  },
  {
   "cell_type": "code",
   "execution_count": null,
   "metadata": {
    "scrolled": true
   },
   "outputs": [],
   "source": [
    "learner.fit(num_epochs, target_metric='prec')"
   ]
  },
  {
   "cell_type": "markdown",
   "metadata": {},
   "source": [
    "### Get best results"
   ]
  },
  {
   "cell_type": "code",
   "execution_count": 30,
   "metadata": {},
   "outputs": [],
   "source": [
    "learner.load_model()"
   ]
  },
  {
   "cell_type": "markdown",
   "metadata": {},
   "source": [
    "#### Get span results for valid ds (where train support > 3)"
   ]
  },
  {
   "cell_type": "code",
   "execution_count": 16,
   "metadata": {},
   "outputs": [],
   "source": [
    "import pandas as pd\n",
    "sup_slots = list(pd.read_csv(\"/datadrive/JointSLU/data/sup_slots.csv\").sup_slots)"
   ]
  },
  {
   "cell_type": "code",
   "execution_count": 31,
   "metadata": {},
   "outputs": [],
   "source": [
    "from modules.data.bert_data import get_bert_data_loader_for_predict"
   ]
  },
  {
   "cell_type": "code",
   "execution_count": 32,
   "metadata": {},
   "outputs": [],
   "source": [
    "dl = get_bert_data_loader_for_predict(data_path + \"valid_filtered.csv\", learner)"
   ]
  },
  {
   "cell_type": "code",
   "execution_count": 33,
   "metadata": {},
   "outputs": [
    {
     "data": {
      "application/vnd.jupyter.widget-view+json": {
       "model_id": "",
       "version_major": 2,
       "version_minor": 0
      },
      "text/plain": [
       "HBox(children=(IntProgress(value=0, max=56), HTML(value='')))"
      ]
     },
     "metadata": {},
     "output_type": "display_data"
    }
   ],
   "source": [
    "preds = learner.predict(dl)"
   ]
  },
  {
   "cell_type": "code",
   "execution_count": 35,
   "metadata": {},
   "outputs": [
    {
     "data": {
      "application/vnd.jupyter.widget-view+json": {
       "model_id": "",
       "version_major": 2,
       "version_minor": 0
      },
      "text/plain": [
       "HBox(children=(IntProgress(value=0, max=56), HTML(value='')))"
      ]
     },
     "metadata": {},
     "output_type": "display_data"
    }
   ],
   "source": [
    "from modules.train.train import validate_step\n",
    "\n",
    "\n",
    "rep = validate_step(learner.data.valid_dl, learner.model, learner.data.id2label, learner.sup_labels)"
   ]
  },
  {
   "cell_type": "markdown",
   "metadata": {},
   "source": [
    "Mean IOB precision"
   ]
  },
  {
   "cell_type": "code",
   "execution_count": 37,
   "metadata": {},
   "outputs": [
    {
     "data": {
      "text/plain": [
       "0.9191981132075471"
      ]
     },
     "execution_count": 37,
     "metadata": {},
     "output_type": "execute_result"
    }
   ],
   "source": [
    "import numpy as np\n",
    "\n",
    "\n",
    "np.mean([float(line.split()[1]) for line in rep.split(\"\\n\")[2:-5] if int(line.split()[-1]) > 0])"
   ]
  },
  {
   "cell_type": "code",
   "execution_count": 39,
   "metadata": {},
   "outputs": [
    {
     "name": "stdout",
     "output_type": "stream",
     "text": [
      "                            precision    recall  f1-score   support\n",
      "\n",
      "                       mod      1.000     0.500     0.667         2\n",
      " return-date.date-relative      1.000     0.333     0.500         3\n",
      "      arrive-date.day-name      0.714     0.909     0.800        11\n",
      "                   connect      1.000     1.000     1.000         6\n",
      "               compartment      0.000     0.000     0.000         1\n",
      "                   economy      1.000     0.333     0.500         6\n",
      "           toloc.city-name      0.955     0.980     0.967       712\n",
      "    depart-time.period-mod      0.833     1.000     0.909         5\n",
      "                      meal      0.941     1.000     0.970        16\n",
      "        fromloc.state-name      1.000     1.000     1.000        17\n",
      "                 days-code      1.000     1.000     1.000         1\n",
      "              airline-name      0.959     0.979     0.969        96\n",
      "                  day-name      1.000     0.500     0.667         2\n",
      "           fare-basis-code      0.941     0.941     0.941        17\n",
      "      fromloc.airport-code      0.800     1.000     0.889         4\n",
      "         fromloc.city-name      0.982     0.986     0.984       700\n",
      "      stoploc.airport-code      0.000     0.000     0.000         1\n",
      "    arrive-time.start-time      1.000     1.000     1.000         8\n",
      "                state-name      0.000     0.000     0.000         7\n",
      "                flight-mod      1.000     1.000     1.000        24\n",
      "    arrive-date.day-number      0.714     0.833     0.769         6\n",
      "      return-date.day-name      0.000     0.000     0.000         2\n",
      "                state-code      1.000     1.000     1.000         1\n",
      "depart-date.today-relative      1.000     0.889     0.941         9\n",
      "                 city-name      0.914     0.561     0.696        57\n",
      " depart-time.time-relative      0.954     0.984     0.969        63\n",
      "            transport-type      1.000     1.000     1.000        10\n",
      "                    flight      0.000     0.000     0.000         1\n",
      "              airport-code      0.571     0.444     0.500         9\n",
      "         stoploc.city-name      0.909     1.000     0.952        20\n",
      "             aircraft-code      1.000     0.879     0.935        33\n",
      "          arrive-time.time      0.914     0.941     0.928        34\n",
      "        toloc.country-name      1.000     1.000     1.000         1\n",
      "               flight-time      1.000     1.000     1.000         1\n",
      " depart-time.period-of-day      0.992     0.929     0.959       126\n",
      "      arrive-time.end-time      1.000     1.000     1.000         8\n",
      "          meal-description      1.000     1.000     1.000        10\n",
      "             flight-number      0.909     1.000     0.952        10\n",
      "          depart-date.year      0.667     0.667     0.667         3\n",
      "        toloc.airport-name      1.000     1.000     1.000         3\n",
      "               flight-stop      1.000     1.000     1.000        21\n",
      "                         O      0.991     0.993     0.992      5490\n",
      "      fromloc.airport-name      0.462     1.000     0.632        12\n",
      "          depart-time.time      0.857     0.982     0.915        55\n",
      "          toloc.state-code      0.833     0.833     0.833        18\n",
      "    depart-date.month-name      0.945     0.929     0.937        56\n",
      "             cost-relative      1.000     0.973     0.986        37\n",
      "          restriction-code      1.000     1.000     1.000         4\n",
      "             booking-class      0.000     0.000     0.000         1\n",
      "              airport-name      0.643     0.429     0.514        21\n",
      "                round-trip      1.000     0.973     0.986        73\n",
      " arrive-date.date-relative      0.500     0.500     0.500         2\n",
      "    depart-date.day-number      0.944     0.927     0.936        55\n",
      "                 meal-code      1.000     1.000     1.000         1\n",
      "        toloc.airport-code      1.000     1.000     1.000         3\n",
      "    arrive-date.month-name      0.714     0.833     0.769         6\n",
      "        fromloc.state-code      0.958     1.000     0.979        23\n",
      "              airline-code      0.969     0.912     0.939        34\n",
      "          toloc.state-name      0.893     0.893     0.893        28\n",
      "      depart-time.end-time      1.000     1.000     1.000         3\n",
      "               flight-days      1.000     1.000     1.000        10\n",
      "    depart-time.start-time      1.000     1.000     1.000         3\n",
      "                        or      0.600     1.000     0.750         3\n",
      "      depart-date.day-name      0.990     0.990     0.990       210\n",
      "               fare-amount      0.500     0.500     0.500         2\n",
      "                class-type      0.960     1.000     0.980        24\n",
      "             period-of-day      1.000     0.333     0.500         3\n",
      " depart-date.date-relative      0.944     1.000     0.971        17\n",
      " arrive-time.period-of-day      0.750     1.000     0.857         6\n",
      " arrive-time.time-relative      0.933     0.903     0.918        31\n",
      "\n",
      "                 micro avg      0.978     0.978     0.978      8298\n",
      "                 macro avg      0.829     0.807     0.804      8298\n",
      "              weighted avg      0.978     0.978     0.977      8298\n",
      "\n"
     ]
    }
   ],
   "source": [
    "from modules.utils.plot_metrics import get_bert_span_report\n",
    "\n",
    "\n",
    "clf_report = get_bert_span_report(dl, preds, learner.sup_labels)\n",
    "print(clf_report)"
   ]
  },
  {
   "cell_type": "code",
   "execution_count": null,
   "metadata": {},
   "outputs": [],
   "source": []
  }
 ],
 "metadata": {
  "kernelspec": {
   "display_name": "Python 3",
   "language": "python",
   "name": "python3"
  },
  "language_info": {
   "codemirror_mode": {
    "name": "ipython",
    "version": 3
   },
   "file_extension": ".py",
   "mimetype": "text/x-python",
   "name": "python",
   "nbconvert_exporter": "python",
   "pygments_lexer": "ipython3",
   "version": "3.6.5"
  }
 },
 "nbformat": 4,
 "nbformat_minor": 2
}
